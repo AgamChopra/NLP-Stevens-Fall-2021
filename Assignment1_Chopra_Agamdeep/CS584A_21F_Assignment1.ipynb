{
 "cells": [
  {
   "cell_type": "markdown",
   "id": "712c0358",
   "metadata": {},
   "source": [
    "# CS 584 Assignment 1 -- Machine Learning and NLP Basis\n",
    "\n",
    "#### Name: Agamdeep S. Chopra"
   ]
  },
  {
   "cell_type": "markdown",
   "id": "f1881fbb",
   "metadata": {},
   "source": [
    "## In this assignment, you are required to follow the steps below:\n",
    "1. Review the lecture slides.\n",
    "2. Implement the preprocessing.\n",
    "3. Implement tokenization.\n",
    "4. Implement feature extraction.\n",
    "5. Implement Logistic Regression.\n",
    "6. Implement Stochastic Gradient Descent and Mini-batch Gradient Descent.\n",
    "7. Evaluate all the experiments and compare all the results.\n",
    "\n",
    "*** Please read the code very carefully and install these packages (NumPy, Pandas, sklearn, tqdm, and matplotlib) before you start ***"
   ]
  },
  {
   "cell_type": "markdown",
   "id": "a3140e7f",
   "metadata": {},
   "source": [
    "## 1. Data Processing (30 points)\n",
    "\n",
    "* Download the dataset from Canvas\n",
    "* Load data by using Pandas\n",
    "* Preprocessing\n",
    "* Tokenization\n",
    "* Split data\n",
    "* Feature extraction (TF-IDF)"
   ]
  },
  {
   "cell_type": "markdown",
   "id": "66ef5bf9",
   "metadata": {},
   "source": [
    "### 1.1 Load Data\n",
    "\n",
    "Run the following cells (Please make sure the paths of data files are correct.)"
   ]
  },
  {
   "cell_type": "code",
   "execution_count": 1,
   "id": "622bf755",
   "metadata": {},
   "outputs": [
    {
     "data": {
      "text/html": [
       "<div>\n",
       "<style scoped>\n",
       "    .dataframe tbody tr th:only-of-type {\n",
       "        vertical-align: middle;\n",
       "    }\n",
       "\n",
       "    .dataframe tbody tr th {\n",
       "        vertical-align: top;\n",
       "    }\n",
       "\n",
       "    .dataframe thead th {\n",
       "        text-align: right;\n",
       "    }\n",
       "</style>\n",
       "<table border=\"1\" class=\"dataframe\">\n",
       "  <thead>\n",
       "    <tr style=\"text-align: right;\">\n",
       "      <th></th>\n",
       "      <th>label</th>\n",
       "      <th>title</th>\n",
       "      <th>text</th>\n",
       "    </tr>\n",
       "  </thead>\n",
       "  <tbody>\n",
       "    <tr>\n",
       "      <th>0</th>\n",
       "      <td>3</td>\n",
       "      <td>Wall St. Bears Claw Back Into the Black (Reuters)</td>\n",
       "      <td>Reuters - Short-sellers, Wall Street's dwindli...</td>\n",
       "    </tr>\n",
       "    <tr>\n",
       "      <th>1</th>\n",
       "      <td>3</td>\n",
       "      <td>Carlyle Looks Toward Commercial Aerospace (Reu...</td>\n",
       "      <td>Reuters - Private investment firm Carlyle Grou...</td>\n",
       "    </tr>\n",
       "    <tr>\n",
       "      <th>2</th>\n",
       "      <td>3</td>\n",
       "      <td>Oil and Economy Cloud Stocks' Outlook (Reuters)</td>\n",
       "      <td>Reuters - Soaring crude prices plus worries\\ab...</td>\n",
       "    </tr>\n",
       "    <tr>\n",
       "      <th>3</th>\n",
       "      <td>3</td>\n",
       "      <td>Iraq Halts Oil Exports from Main Southern Pipe...</td>\n",
       "      <td>Reuters - Authorities have halted oil export\\f...</td>\n",
       "    </tr>\n",
       "    <tr>\n",
       "      <th>4</th>\n",
       "      <td>3</td>\n",
       "      <td>Oil prices soar to all-time record, posing new...</td>\n",
       "      <td>AFP - Tearaway world oil prices, toppling reco...</td>\n",
       "    </tr>\n",
       "  </tbody>\n",
       "</table>\n",
       "</div>"
      ],
      "text/plain": [
       "   label                                              title  \\\n",
       "0      3  Wall St. Bears Claw Back Into the Black (Reuters)   \n",
       "1      3  Carlyle Looks Toward Commercial Aerospace (Reu...   \n",
       "2      3    Oil and Economy Cloud Stocks' Outlook (Reuters)   \n",
       "3      3  Iraq Halts Oil Exports from Main Southern Pipe...   \n",
       "4      3  Oil prices soar to all-time record, posing new...   \n",
       "\n",
       "                                                text  \n",
       "0  Reuters - Short-sellers, Wall Street's dwindli...  \n",
       "1  Reuters - Private investment firm Carlyle Grou...  \n",
       "2  Reuters - Soaring crude prices plus worries\\ab...  \n",
       "3  Reuters - Authorities have halted oil export\\f...  \n",
       "4  AFP - Tearaway world oil prices, toppling reco...  "
      ]
     },
     "execution_count": 1,
     "metadata": {},
     "output_type": "execute_result"
    }
   ],
   "source": [
    "import pandas as pd\n",
    "\n",
    "train_df = pd.read_csv('./data/train.csv', header=None)\n",
    "train_df.columns = ['label', 'title', 'text']\n",
    "train_df.head()"
   ]
  },
  {
   "cell_type": "code",
   "execution_count": 2,
   "id": "80b302a1",
   "metadata": {},
   "outputs": [
    {
     "data": {
      "text/html": [
       "<div>\n",
       "<style scoped>\n",
       "    .dataframe tbody tr th:only-of-type {\n",
       "        vertical-align: middle;\n",
       "    }\n",
       "\n",
       "    .dataframe tbody tr th {\n",
       "        vertical-align: top;\n",
       "    }\n",
       "\n",
       "    .dataframe thead th {\n",
       "        text-align: right;\n",
       "    }\n",
       "</style>\n",
       "<table border=\"1\" class=\"dataframe\">\n",
       "  <thead>\n",
       "    <tr style=\"text-align: right;\">\n",
       "      <th></th>\n",
       "      <th>label</th>\n",
       "      <th>title</th>\n",
       "      <th>text</th>\n",
       "    </tr>\n",
       "  </thead>\n",
       "  <tbody>\n",
       "    <tr>\n",
       "      <th>0</th>\n",
       "      <td>3</td>\n",
       "      <td>Fears for T N pension after talks</td>\n",
       "      <td>Unions representing workers at Turner   Newall...</td>\n",
       "    </tr>\n",
       "    <tr>\n",
       "      <th>1</th>\n",
       "      <td>4</td>\n",
       "      <td>The Race is On: Second Private Team Sets Launc...</td>\n",
       "      <td>SPACE.com - TORONTO, Canada -- A second\\team o...</td>\n",
       "    </tr>\n",
       "    <tr>\n",
       "      <th>2</th>\n",
       "      <td>4</td>\n",
       "      <td>Ky. Company Wins Grant to Study Peptides (AP)</td>\n",
       "      <td>AP - A company founded by a chemistry research...</td>\n",
       "    </tr>\n",
       "    <tr>\n",
       "      <th>3</th>\n",
       "      <td>4</td>\n",
       "      <td>Prediction Unit Helps Forecast Wildfires (AP)</td>\n",
       "      <td>AP - It's barely dawn when Mike Fitzpatrick st...</td>\n",
       "    </tr>\n",
       "    <tr>\n",
       "      <th>4</th>\n",
       "      <td>4</td>\n",
       "      <td>Calif. Aims to Limit Farm-Related Smog (AP)</td>\n",
       "      <td>AP - Southern California's smog-fighting agenc...</td>\n",
       "    </tr>\n",
       "  </tbody>\n",
       "</table>\n",
       "</div>"
      ],
      "text/plain": [
       "   label                                              title  \\\n",
       "0      3                  Fears for T N pension after talks   \n",
       "1      4  The Race is On: Second Private Team Sets Launc...   \n",
       "2      4      Ky. Company Wins Grant to Study Peptides (AP)   \n",
       "3      4      Prediction Unit Helps Forecast Wildfires (AP)   \n",
       "4      4        Calif. Aims to Limit Farm-Related Smog (AP)   \n",
       "\n",
       "                                                text  \n",
       "0  Unions representing workers at Turner   Newall...  \n",
       "1  SPACE.com - TORONTO, Canada -- A second\\team o...  \n",
       "2  AP - A company founded by a chemistry research...  \n",
       "3  AP - It's barely dawn when Mike Fitzpatrick st...  \n",
       "4  AP - Southern California's smog-fighting agenc...  "
      ]
     },
     "execution_count": 2,
     "metadata": {},
     "output_type": "execute_result"
    }
   ],
   "source": [
    "test_df = pd.read_csv('./data/test.csv', header=None)\n",
    "test_df.columns = ['label', 'title', 'text']\n",
    "test_df.head()"
   ]
  },
  {
   "cell_type": "markdown",
   "id": "25c78934",
   "metadata": {},
   "source": [
    "### 1.2 Preprocess (Fill the code: 10 points)\n",
    "In this section, you need to remove all the unrelated characters, including punctuation, urls, and numbers. Please fill up the functions and test them by running the following cell."
   ]
  },
  {
   "cell_type": "code",
   "execution_count": 3,
   "id": "5337a56f",
   "metadata": {},
   "outputs": [],
   "source": [
    "import re\n",
    "import string\n",
    "\n",
    "class Preprocesser(object):\n",
    "    def __init__(self, punctuation=True, url=True, number=True):\n",
    "        self.punctuation = punctuation\n",
    "        self.url = url\n",
    "        self.number = number\n",
    "    \n",
    "    def apply(self, text):\n",
    "        if self.url:\n",
    "            text = self._remove_url(text)\n",
    "            \n",
    "        if self.punctuation:\n",
    "            text = self._remove_punctuation(text)\n",
    "            \n",
    "        if self.number:\n",
    "            text = self._remove_number(text)\n",
    "        \n",
    "        text = re.sub(r'\\s+', ' ', text)\n",
    "            \n",
    "        return text\n",
    "    \n",
    "        \n",
    "    def _remove_punctuation(self, text):\n",
    "        ''' Please fill this function to remove all the punctuations in the text\n",
    "        '''\n",
    "        return text.translate(str.maketrans('','', string.punctuation))\n",
    "    \n",
    "    def _remove_url(self, text):\n",
    "        ''' Please fill this function to remove all the urls in the text\n",
    "        '''\n",
    "        return re.sub(r'http\\S+','',text)\n",
    "    \n",
    "    def _remove_number(self, text):\n",
    "        ''' Please fill this function to remove all the numbers in the text\n",
    "        '''\n",
    "        return text.translate(str.maketrans('','', string.digits))"
   ]
  },
  {
   "cell_type": "markdown",
   "id": "13b56b0e",
   "metadata": {},
   "source": [
    "##### Test your implementation by running the following cell."
   ]
  },
  {
   "cell_type": "code",
   "execution_count": 4,
   "id": "1e3ded4c",
   "metadata": {},
   "outputs": [
    {
     "name": "stdout",
     "output_type": "stream",
     "text": [
      "\"Interest rates are trimmed to 7.5 by the South African central bank (https://www.xxx.xxx), but the lack of warning hits the rand and surprises markets.\"\n",
      "===>\n",
      "\"Interest rates are trimmed to by the South African central bank but the lack of warning hits the rand and surprises markets\"\n"
     ]
    }
   ],
   "source": [
    "text = \"Interest rates are trimmed to 7.5 by the South African central bank (https://www.xxx.xxx), but the lack of warning hits the rand and surprises markets.\"\n",
    "\n",
    "processer = Preprocesser()\n",
    "clean_text = processer.apply(text)\n",
    "\n",
    "print(f'\"{text}\"') \n",
    "print('===>')\n",
    "print(f'\"{clean_text}\"')"
   ]
  },
  {
   "cell_type": "markdown",
   "id": "855036c5",
   "metadata": {},
   "source": [
    "### 1.3 Tokenization (Fill the code: 5 points)"
   ]
  },
  {
   "cell_type": "code",
   "execution_count": 5,
   "id": "86930002",
   "metadata": {},
   "outputs": [],
   "source": [
    "def tokenize(text, lemma=False):\n",
    "    ''' Please fill this function to tokenize text.\n",
    "    '''\n",
    "    return text.split()"
   ]
  },
  {
   "cell_type": "markdown",
   "id": "6129417b",
   "metadata": {},
   "source": [
    "##### Test your implementation by running the following cell."
   ]
  },
  {
   "cell_type": "code",
   "execution_count": 6,
   "id": "0d0f7419",
   "metadata": {},
   "outputs": [
    {
     "name": "stdout",
     "output_type": "stream",
     "text": [
      "Interest rates are trimmed to 7.5 by the South African central bank (https://www.xxx.xxx), but the lack of warning hits the rand and surprises markets. ==> ['Interest', 'rates', 'are', 'trimmed', 'to', 'by', 'the', 'South', 'African', 'central', 'bank', 'but', 'the', 'lack', 'of', 'warning', 'hits', 'the', 'rand', 'and', 'surprises', 'markets']\n"
     ]
    }
   ],
   "source": [
    "text = \"Interest rates are trimmed to 7.5 by the South African central bank (https://www.xxx.xxx), but the lack of warning hits the rand and surprises markets.\"\n",
    "\n",
    "processer = Preprocesser()\n",
    "clean_text = processer.apply(text)\n",
    "tokens = tokenize(clean_text)\n",
    "\n",
    "print(f'{text} ==> {tokens}')"
   ]
  },
  {
   "cell_type": "markdown",
   "id": "03e6f42e",
   "metadata": {},
   "source": [
    "### 1.4 Data split (Fill the code: 5 points)"
   ]
  },
  {
   "cell_type": "code",
   "execution_count": 7,
   "id": "530acb5d",
   "metadata": {},
   "outputs": [
    {
     "name": "stdout",
     "output_type": "stream",
     "text": [
      "The size of training set: 112400\n",
      "The size of validation set: 7600\n",
      "The size of test set: 7600\n"
     ]
    }
   ],
   "source": [
    "from sklearn.model_selection import train_test_split\n",
    "\n",
    "text_train = train_df['text'].values.astype(str)\n",
    "label_train = train_df['label'].values.astype(int) - 1 # -1 because labels start from 1\n",
    "\n",
    "text_test = test_df['text'].values.astype(str)\n",
    "label_test = test_df['label'].values.astype(int) - 1 # -1 because labels start from 1\n",
    "\n",
    "\n",
    "### Start your code, split the text_train and label_train into training and validation\n",
    "### Make sure the names of varables are \"text_train\", \"label_train\", \"text_valid\", and \"label_valid\"\n",
    "\n",
    "text_train, text_valid, label_train, label_valid = train_test_split(text_train,label_train,test_size = 0.06333)\n",
    "\n",
    "### End\n",
    "\n",
    "print('The size of training set:', text_train.shape[0])\n",
    "print('The size of validation set:', text_valid.shape[0])\n",
    "print('The size of test set:', text_test.shape[0])"
   ]
  },
  {
   "cell_type": "markdown",
   "id": "f0873ff9",
   "metadata": {},
   "source": [
    "### 1.5 Feature Extraction (Fill the code: 10 points)"
   ]
  },
  {
   "cell_type": "code",
   "execution_count": 8,
   "id": "0967d3df",
   "metadata": {},
   "outputs": [],
   "source": [
    "from collections import defaultdict\n",
    "import numpy as np\n",
    "from tqdm.notebook import tqdm\n",
    "\n",
    "class TfIdfExtractor(object):\n",
    "    \n",
    "    def __init__(self, vocab_size=None):\n",
    "        self.vocab_size = vocab_size\n",
    "        \n",
    "        self.vocab = defaultdict(lambda: 0)\n",
    "        self.word2idx = {}\n",
    "        self.df = defaultdict(lambda: 0)\n",
    "        self.num_doc = 0\n",
    "        \n",
    "        self.processer = Preprocesser()\n",
    "        \n",
    "        \n",
    "    def fit(self, texts):\n",
    "        ''' In this function, you are required to implement the fitting process.\n",
    "                1. Construct the vocabulary (self.vocab).\n",
    "                2. Construct the document frequency dictionary (self.df).\n",
    "                3. Sort the vocabulary based on the frequence (self.vocab).\n",
    "            Input:\n",
    "                texts: a list of text (training set)\n",
    "            Output:\n",
    "                None\n",
    "        '''\n",
    "\n",
    "        self.num_doc = len(texts)\n",
    "        \n",
    "        for text in tqdm(texts, desc='fitting text'):\n",
    "            clean_text = self.processer.apply(text)\n",
    "            tokens = tokenize(clean_text)\n",
    "            \n",
    "            ### Start your code (step 1 & 2)\n",
    "            for i in tokens:\n",
    "                self.vocab[i]\n",
    "                self.df[i] += 1\n",
    "            ### End\n",
    "        \n",
    "        ### Start your code (Step 3)\n",
    "        self.vocab = dict(sorted(self.vocab.items(), key=lambda x: self.df[x[0]], reverse=True))\n",
    "        #print(self.vocab)\n",
    "        ### End\n",
    "        \n",
    "        if self.vocab_size is not None:\n",
    "            self.vocab = {key: self.vocab[key] for key in list(self.vocab.keys())[:self.vocab_size]}\n",
    "        \n",
    "        self.word2idx = {key: idx for idx, key in enumerate(self.vocab.keys())}\n",
    "        \n",
    "        #print(self.vocab)\n",
    "        #print(self.word2idx)\n",
    "        \n",
    "    def transform(self, texts):\n",
    "        ''' In this function, you need to encode the input text into TF-IDF vector.\n",
    "            Input:\n",
    "                texts: a list of text.\n",
    "            Ouput:\n",
    "                a N-d matrix (Tf-Idf) \n",
    "        '''\n",
    "        tfidf = np.zeros((len(texts), len(self.vocab)))\n",
    "        \n",
    "        for i, text in tqdm(enumerate(texts), desc='transforming', total=len(texts)):\n",
    "            clean_text = self.processer.apply(text)\n",
    "            tokens = tokenize(clean_text)      \n",
    "            tfidf[i,:] = [tokens.count(list(self.vocab.keys())[j]) for j in range(len(self.vocab))]\n",
    "\n",
    "        tfidf = np.log(1+tfidf)*np.log(1+(len(texts))/np.array([self.df[list(self.vocab.keys())[i]] for i in range(len(self.vocab))]))\n",
    "\n",
    "        return tfidf"
   ]
  },
  {
   "cell_type": "markdown",
   "id": "4430c8b3",
   "metadata": {},
   "source": [
    "##### Test your implementation by running the following cell."
   ]
  },
  {
   "cell_type": "code",
   "execution_count": 9,
   "id": "8684f9aa",
   "metadata": {},
   "outputs": [
    {
     "data": {
      "application/vnd.jupyter.widget-view+json": {
       "model_id": "020912ea5ed141acb7892dda5eabefef",
       "version_major": 2,
       "version_minor": 0
      },
      "text/plain": [
       "fitting text:   0%|          | 0/100 [00:00<?, ?it/s]"
      ]
     },
     "metadata": {},
     "output_type": "display_data"
    },
    {
     "data": {
      "application/vnd.jupyter.widget-view+json": {
       "model_id": "54599180917d45aeb39c3400c0dee75e",
       "version_major": 2,
       "version_minor": 0
      },
      "text/plain": [
       "transforming:   0%|          | 0/10 [00:00<?, ?it/s]"
      ]
     },
     "metadata": {},
     "output_type": "display_data"
    },
    {
     "data": {
      "text/plain": [
       "array([[0.05136773, 0.13414352, 0.08675648, ..., 0.        , 0.        ,\n",
       "        0.        ],\n",
       "       [0.10273546, 0.08463514, 0.08675648, ..., 0.        , 0.        ,\n",
       "        0.        ],\n",
       "       [0.08141593, 0.13414352, 0.08675648, ..., 0.        , 0.        ,\n",
       "        0.        ],\n",
       "       ...,\n",
       "       [0.08141593, 0.08463514, 0.17351296, ..., 0.        , 0.        ,\n",
       "        0.        ],\n",
       "       [0.05136773, 0.        , 0.13750577, ..., 0.        , 0.        ,\n",
       "        0.        ],\n",
       "       [0.08141593, 0.08463514, 0.        , ..., 0.        , 0.        ,\n",
       "        0.        ]])"
      ]
     },
     "execution_count": 9,
     "metadata": {},
     "output_type": "execute_result"
    }
   ],
   "source": [
    "extractor = TfIdfExtractor(vocab_size=400)\n",
    "extractor.fit(text_train[:100])\n",
    "X = extractor.transform(text_train[:10])\n",
    "\n",
    "X[0:10]"
   ]
  },
  {
   "cell_type": "markdown",
   "id": "262d6bdd",
   "metadata": {},
   "source": [
    "#### 1.5.4 Run the following code to obtain the TD-IDF and One-hot labels"
   ]
  },
  {
   "cell_type": "code",
   "execution_count": 10,
   "id": "c111922d",
   "metadata": {},
   "outputs": [
    {
     "data": {
      "application/vnd.jupyter.widget-view+json": {
       "model_id": "b0851d3c12f346d6af33f41b58aa74cd",
       "version_major": 2,
       "version_minor": 0
      },
      "text/plain": [
       "fitting text:   0%|          | 0/112400 [00:00<?, ?it/s]"
      ]
     },
     "metadata": {},
     "output_type": "display_data"
    },
    {
     "data": {
      "application/vnd.jupyter.widget-view+json": {
       "model_id": "51be145539854497a6340e43320b2ea8",
       "version_major": 2,
       "version_minor": 0
      },
      "text/plain": [
       "transforming:   0%|          | 0/112400 [00:00<?, ?it/s]"
      ]
     },
     "metadata": {},
     "output_type": "display_data"
    },
    {
     "data": {
      "application/vnd.jupyter.widget-view+json": {
       "model_id": "fe54d4d5f99d4b8aaf3496f9e8573a09",
       "version_major": 2,
       "version_minor": 0
      },
      "text/plain": [
       "transforming:   0%|          | 0/7600 [00:00<?, ?it/s]"
      ]
     },
     "metadata": {},
     "output_type": "display_data"
    },
    {
     "data": {
      "application/vnd.jupyter.widget-view+json": {
       "model_id": "781e190ea52742c4ac490332518cd6c6",
       "version_major": 2,
       "version_minor": 0
      },
      "text/plain": [
       "transforming:   0%|          | 0/7600 [00:00<?, ?it/s]"
      ]
     },
     "metadata": {},
     "output_type": "display_data"
    },
    {
     "name": "stdout",
     "output_type": "stream",
     "text": [
      "The size of training set: (112400, 1000)\n",
      "The size of validation set: (7600, 1000)\n",
      "The size of test set: (7600, 1000)\n"
     ]
    }
   ],
   "source": [
    "# You can change this number to see the difference of the performances. (larger vocab size needs more memory)\n",
    "vocab_size = 1000\n",
    "num_class = 4\n",
    "\n",
    "extractor = TfIdfExtractor(vocab_size=vocab_size)\n",
    "extractor.fit(text_train)\n",
    "\n",
    "x_train = extractor.transform(text_train)\n",
    "x_valid = extractor.transform(text_valid)\n",
    "x_test = extractor.transform(text_test)\n",
    "\n",
    "\n",
    "# convert label to one-hot vector\n",
    "y_train = np.zeros((label_train.shape[0], num_class))\n",
    "y_train[np.arange(label_train.shape[0]), label_train] = 1\n",
    "\n",
    "y_valid = np.zeros((label_valid.shape[0], num_class))\n",
    "y_valid[np.arange(label_valid.shape[0]), label_valid] = 1\n",
    "\n",
    "y_test = np.zeros((label_test.shape[0], num_class))\n",
    "y_test[np.arange(label_test.shape[0]), label_test] = 1\n",
    "\n",
    "\n",
    "print('The size of training set:', x_train.shape)\n",
    "print('The size of validation set:', x_valid.shape)\n",
    "print('The size of test set:', x_test.shape)"
   ]
  },
  {
   "cell_type": "markdown",
   "id": "14fc1b08",
   "metadata": {},
   "source": [
    "## 2. Logistic Regression (60 points)\n",
    "In this section, you are required to implement a Logistic Regression(LR) model with $L_2$ regularization from scratch. \n",
    "\n",
    "\n",
    "The objective function of LR:\n",
    "\n",
    "<center> $J = -\\frac{1}{N}\\sum_{i=1}^{N}\\sum_{k=1}^{K}y_{ik}log\\frac{e^{f_k}}{\\sum_{c=1}^{K}e^{f_c}} + \\lambda \\sum_{j=1}^{d}w_{kj}^2$ </center>\n",
    "\n",
    "**Deliverable 1**: Given the objective function, please show the steps to derive the graident of J with respecty of $w_k$. You can either list the steps in the notebook or submit a pdf with all the steps in the submission. **(10 points)**"
   ]
  },
  {
   "attachments": {},
   "cell_type": "markdown",
   "id": "02190f47",
   "metadata": {},
   "source": [
    "Answer: Attached PDF document."
   ]
  },
  {
   "cell_type": "markdown",
   "id": "f1d52c19",
   "metadata": {},
   "source": [
    "### 2.1 LR and softmax function (Fill the code, 20 points)"
   ]
  },
  {
   "cell_type": "code",
   "execution_count": 25,
   "id": "457d0f9c",
   "metadata": {},
   "outputs": [],
   "source": [
    "#Note: I noticed some bugs in the provided code/instructions that I think I was able to fix. I also simplified the code rewriting the w,b,dw, and db as instance attributes.\n",
    "\n",
    "def softmax(x):\n",
    "    ''' Compute the softmax function for each row of the input x.\n",
    "        \n",
    "        Inputs:\n",
    "            x: A D dimensional vector or N x D dimensional numpy matrix.\n",
    "        Outputs:\n",
    "            x: You are allowed to modify x in-place\n",
    "    '''\n",
    "    ### Start your code\n",
    "    # Using the x - max(x) to prevent overflow\n",
    "    try:\n",
    "        x = np.exp(x - np.max(x))\n",
    "        x = (x.T/np.sum(x, axis=1)).T\n",
    "    except:\n",
    "        x = np.exp(x - np.max(x))\n",
    "        x = x/np.sum(x)\n",
    "    ### End\n",
    "    return x\n",
    "\n",
    "\n",
    "class LogisticRegression(object):\n",
    "    \n",
    "    def __init__(self, vocab_size, num_class, lam):\n",
    "        self.vocab_size = vocab_size\n",
    "        self.num_class = num_class\n",
    "        self.lam = lam\n",
    "        \n",
    "        ### Start your code (initialize weight(w) and bias(b))\n",
    "        ### hint: you could use np.random.rand() to randomly initialize the parameters\n",
    "\n",
    "        self.w = np.random.rand(self.vocab_size, num_class)\n",
    "        self.w_grad = np.zeros(self.w.size)\n",
    "        self.b = np.zeros((1, num_class))\n",
    "        self.b_grad = np.zeros(self.b.size)\n",
    "        \n",
    "        ### End\n",
    "        \n",
    "    def objective(self, x, y):\n",
    "        ''' Implement the objective function\n",
    "            Inputs:\n",
    "                x: N-d matrix\n",
    "                y: N-1 vector\n",
    "            Output:\n",
    "                the objective value of LR (scalar)\n",
    "        '''\n",
    "        loss = 0\n",
    "        \n",
    "        ### Start your code\n",
    "        #The loss function simplified to matrix form - the L2 term. Adding the L2 term made the loss values act strenge. I am not sure why.\n",
    "        loss = ((1/x.shape[0])*(np.log(np.sum(np.exp(-x@self.w-self.b),axis=1)) + np.trace((x@self.w+self.b)@y.T)))[0]\n",
    "        ### End\n",
    "        \n",
    "        return loss\n",
    "        \n",
    "    \n",
    "    def gradient(self, x, y):\n",
    "        ''' Implement the gradient of J with respect to w (in Deliverable 1)\n",
    "            Inputs:\n",
    "                x: N-d matrix\n",
    "                y: N-1 vector\n",
    "            Output:\n",
    "                the gradient of J w.r.t weight (d-K matrix)\n",
    "                the gradient of J w.r.t bias (K vector)\n",
    "        '''\n",
    "        ### Start your code\n",
    "        # The gradient update algorithm in matrix form as derived in the supplimental derivation.pdf file.\n",
    "        self.w_grad = (1/x.shape[0])*(x.T@(y-softmax(-x@self.w-self.b))) + 2*self.lam*self.w\n",
    "        self.b_grad = (1/x.shape[0])*(np.sum((y-softmax(-x@self.w-self.b)),axis=0))\n",
    "        ### End\n",
    "        \n",
    "    \n",
    "    \n",
    "    def gradient_descent(self,x,y, lr):\n",
    "        ''' Implement the graident descent. \n",
    "            Updating weights and bias based on Equation: w = w - learning_rate * gradient)\n",
    "            \n",
    "            Inputs:\n",
    "                w_grad: a matrix which is the gradient of J w.r.t to weight\n",
    "                b_grad: a vector wich is the graident of J w.r.t to bias\n",
    "            Output:\n",
    "                None\n",
    "        '''\n",
    "        ### Start your code\n",
    "        self.gradient(x,y) # <- calculating the gradients\n",
    "        # updating the paramaters with the new gradient values\n",
    "        self.w = self.w - lr*self.w_grad\n",
    "        self.b = self.b - lr*self.b_grad\n",
    "        ### End\n",
    "        \n",
    "\n",
    "    \n",
    "    def predict(self, x):\n",
    "        y_hat = softmax(np.dot(x, self.w)+self.b).squeeze()\n",
    "        #y_hat = softmax(np.dot(x, self.w)).squeeze() <- for some reason the provided code never used the bias term so I rewrote the prediction equation to include bias.\n",
    "        return np.argmax(y_hat, axis=-1)"
   ]
  },
  {
   "cell_type": "markdown",
   "id": "1d22522a",
   "metadata": {},
   "source": [
    "### 2.2 Stochastic Gradient Descent (SGD) (Fill the code, 15 points)"
   ]
  },
  {
   "cell_type": "code",
   "execution_count": 97,
   "id": "9f8f4a59",
   "metadata": {},
   "outputs": [],
   "source": [
    "#Note: I restructured and rewrote parts of this code to better fit my implementation.\n",
    "\n",
    "def sgd(model, X, y, Xv, yv, lr, lam, num_epoch=100):\n",
    "    ''' Implement SGD\n",
    "        Inputs:\n",
    "            X: N-d matrix\n",
    "            y: N vector\n",
    "            lr: learning rate\n",
    "            lam: lambda\n",
    "            num_epoch: the number of epochs\n",
    "        Output:\n",
    "            1. A list of training losses against epoch\n",
    "            2. A list of validation losses against epoch\n",
    "    '''\n",
    "    train_losses = []\n",
    "    valid_losses = []\n",
    "    \n",
    "    n = X.shape[0]\n",
    "    \n",
    "    for e in range(num_epoch):\n",
    "        train_loss = 0.\n",
    "        \n",
    "        ### Start your code here (Please implement SGD and obtain the training loss)\n",
    "        for i in range(n):\n",
    "            if train_loss == 0.:\n",
    "                train_loss = model.objective(X[i].reshape((1,X.shape[1])),y[i].reshape((1,y.shape[1])))\n",
    "            else:\n",
    "                train_loss = (train_loss + model.objective(X[i].reshape((1,X.shape[1])),y[i].reshape((1,y.shape[1]))))/2\n",
    "            model.gradient_descent(X[i].reshape((1,X.shape[1])),y[i].reshape((1,y.shape[1])),lr)\n",
    "        ### End\n",
    "        \n",
    "        valid_loss = 0.\n",
    "        \n",
    "        ### Start your code (Using validation set to obtain the validation loss)\n",
    "        valid_loss = model.objective(Xv,yv)\n",
    "        ### End\n",
    "        \n",
    "        \n",
    "        print(f'At epoch {e+1}, training loss: {train_loss:.9f}, validation loss: {valid_loss:.9f}.')\n",
    "        train_losses.append(train_loss)\n",
    "        valid_losses.append(valid_loss)\n",
    "            \n",
    "    return train_losses, valid_losses"
   ]
  },
  {
   "cell_type": "markdown",
   "id": "6260f156",
   "metadata": {},
   "source": [
    "Run SGD"
   ]
  },
  {
   "cell_type": "code",
   "execution_count": 103,
   "id": "9010e057",
   "metadata": {},
   "outputs": [
    {
     "name": "stdout",
     "output_type": "stream",
     "text": [
      "At epoch 1, training loss: 0.068298847, validation loss: 4.493543308.\n",
      "At epoch 2, training loss: 0.070566364, validation loss: 3.640689023.\n",
      "At epoch 3, training loss: 0.069894862, validation loss: 2.911714886.\n",
      "At epoch 4, training loss: 0.069256109, validation loss: 2.287291679.\n",
      "At epoch 5, training loss: 0.068896805, validation loss: 1.750459541.\n",
      "At epoch 6, training loss: 0.068709072, validation loss: 1.287967819.\n",
      "At epoch 7, training loss: 0.068609820, validation loss: 0.889065430.\n",
      "At epoch 8, training loss: 0.068555645, validation loss: 0.544784366.\n",
      "At epoch 9, training loss: 0.068525189, validation loss: 0.247529093.\n",
      "At epoch 10, training loss: 0.068507732, validation loss: -0.009186418.\n"
     ]
    }
   ],
   "source": [
    "''' Update the hyper-parameters (num_epoch, lr, and lam) according to your observation to achieve better performance.\n",
    "'''\n",
    "num_epoch = 10\n",
    "lr = 0.65E-2\n",
    "lam = 1E-4\n",
    "\n",
    "sgd_lr = LogisticRegression(vocab_size, num_class, lam)\n",
    "sgd_train_losses, sgd_valid_losses = sgd(sgd_lr, x_train, y_train, x_valid, y_valid, lr, lam, num_epoch)"
   ]
  },
  {
   "cell_type": "markdown",
   "id": "2f023491",
   "metadata": {},
   "source": [
    "### 2.3 Mini-batch Gradient Descent (Fill the code: 15 points)"
   ]
  },
  {
   "cell_type": "code",
   "execution_count": 15,
   "id": "362fca31",
   "metadata": {},
   "outputs": [],
   "source": [
    "#Note: I restructured and rewrote parts of this code to better fit my implementation.\n",
    "\n",
    "def mini_batch_gd(model, X, y, Xv, yv, batch_size, lr, lam, num_epoch=100, show=False):\n",
    "    ''' Implement SGD\n",
    "        Inputs:\n",
    "            X: N-d matrix\n",
    "            y: N vector\n",
    "            lr: learning rate\n",
    "            lam: lambda\n",
    "            num_epoch: the number of epochs\n",
    "        Output:\n",
    "            1. A list of training losses against epoch\n",
    "            2. A list of validation losses against epoch\n",
    "    '''\n",
    "    train_losses = []\n",
    "    valid_losses = []\n",
    "    \n",
    "    n = X.shape[0]\n",
    "    \n",
    "    for e in range(num_epoch):\n",
    "        train_loss = 0.\n",
    "        \n",
    "        for i in range(0,n-batch_size,batch_size):\n",
    "            if train_loss == 0.:\n",
    "                train_loss = model.objective(X[i:i+batch_size],y[i:i+batch_size])\n",
    "            else:\n",
    "                train_loss = (train_loss + model.objective(X[i:i+batch_size],y[i:i+batch_size]))/2\n",
    "            model.gradient_descent(X[i:i+batch_size],y[i:i+batch_size],lr)\n",
    "            \n",
    "        ### End\n",
    "        \n",
    "        valid_loss = 0.\n",
    "        \n",
    "        ### Start your code (Using validation set to obtain the validation loss)\n",
    "        valid_loss = model.objective(Xv,yv)\n",
    "        \n",
    "        train_losses.append(abs(train_loss))\n",
    "        valid_losses.append(abs(valid_loss))\n",
    "        \n",
    "        if show:\n",
    "            print(f'At epoch {e+1}, training loss: {train_loss:.9f}, validation loss: {valid_loss:.9f}.')\n",
    "            \n",
    "    return train_losses, valid_losses"
   ]
  },
  {
   "cell_type": "markdown",
   "id": "7afba60a",
   "metadata": {},
   "source": [
    "Run Mini-batch GD"
   ]
  },
  {
   "cell_type": "code",
   "execution_count": 62,
   "id": "4d94734f",
   "metadata": {},
   "outputs": [
    {
     "name": "stdout",
     "output_type": "stream",
     "text": [
      "At epoch 1, training loss: 15.602881505, validation loss: 5.728120364.\n",
      "At epoch 2, training loss: 13.211235108, validation loss: 4.838692226.\n",
      "At epoch 3, training loss: 11.304364567, validation loss: 4.130053964.\n",
      "At epoch 4, training loss: 9.726589522, validation loss: 3.544653875.\n",
      "At epoch 5, training loss: 8.388293367, validation loss: 3.049054828.\n",
      "At epoch 6, training loss: 7.234270894, validation loss: 2.622494347.\n",
      "At epoch 7, training loss: 6.227920078, validation loss: 2.251122132.\n",
      "At epoch 8, training loss: 5.343599577, validation loss: 1.925199516.\n",
      "At epoch 9, training loss: 4.562534469, validation loss: 1.637591241.\n",
      "At epoch 10, training loss: 3.870422994, validation loss: 1.382876990.\n",
      "At epoch 11, training loss: 3.255956477, validation loss: 1.156793996.\n",
      "At epoch 12, training loss: 2.709880596, validation loss: 0.955877399.\n",
      "At epoch 13, training loss: 2.224396587, validation loss: 0.777226985.\n",
      "At epoch 14, training loss: 1.792779939, validation loss: 0.618356489.\n",
      "At epoch 15, training loss: 1.409137154, validation loss: 0.477096486.\n",
      "At epoch 16, training loss: 1.068248263, validation loss: 0.351531254.\n",
      "At epoch 17, training loss: 0.765461330, validation loss: 0.239956650.\n",
      "At epoch 18, training loss: 0.496617803, validation loss: 0.140850667.\n",
      "At epoch 19, training loss: 0.257996013, validation loss: 0.052851556.\n",
      "At epoch 20, training loss: 0.046265440, validation loss: -0.025259512.\n"
     ]
    }
   ],
   "source": [
    "''' Update the hyper-parameters (num_epoch, lr, lam, and batch_size) according to your observation \n",
    "    to achieve better performance.\n",
    "'''\n",
    "\n",
    "num_epoch = 20\n",
    "lr = 0.69E-2\n",
    "lam = 1E-2\n",
    "batch_size = 128\n",
    "\n",
    "mini_gd_lr = LogisticRegression(vocab_size, num_class, lam)\n",
    "mini_gd_train_losses, mini_gd_valid_losses = mini_batch_gd(mini_gd_lr, x_train, y_train, x_valid, y_valid, batch_size, lr, lam, num_epoch, True)"
   ]
  },
  {
   "cell_type": "markdown",
   "id": "8152527c",
   "metadata": {},
   "source": [
    "### 2.4 Evaluation\n",
    "You are required to report the precision and recall for each category on test set and plot the training loss and validation loss for both SGD and Mini-batch GD"
   ]
  },
  {
   "cell_type": "markdown",
   "id": "1a0cceed",
   "metadata": {},
   "source": [
    "##### Please run the following cell to evaluate your model with SGD"
   ]
  },
  {
   "cell_type": "code",
   "execution_count": 104,
   "id": "926eb8f2",
   "metadata": {},
   "outputs": [
    {
     "name": "stdout",
     "output_type": "stream",
     "text": [
      "SGD\n",
      "\n",
      "  Precision:\n",
      "    class 0: 0.0382, class 1: 0.0081, class 2: 0.0172, class 3: 0.0067\n",
      "\n",
      "  Recall:\n",
      "    class 0: 0.0216, class 1: 0.0184, class 2: 0.0158, class 3: 0.0016\n"
     ]
    }
   ],
   "source": [
    "from sklearn.metrics import precision_score, recall_score\n",
    "\n",
    "y_hat = sgd_lr.predict(x_test)\n",
    "y_true = np.argmax(y_test, axis=1)\n",
    "\n",
    "precision = precision_score(y_true, y_hat, average=None)\n",
    "recall = recall_score(y_true, y_hat, average=None)\n",
    "\n",
    "print('SGD')\n",
    "print()\n",
    "print('  Precision:')\n",
    "print(f'    class {0}: {precision[0]:.4f}, class {1}: {precision[1]:.4f}, class {2}: {precision[2]:.4f}, class {3}: {precision[3]:.4f}')\n",
    "print()\n",
    "print('  Recall:')\n",
    "print(f'    class {0}: {recall[0]:.4f}, class {1}: {recall[1]:.4f}, class {2}: {recall[2]:.4f}, class {3}: {recall[3]:.4f}')"
   ]
  },
  {
   "cell_type": "markdown",
   "id": "2434a82d",
   "metadata": {},
   "source": [
    "##### Please run the following cell to plot training loss and validation loss for SGD"
   ]
  },
  {
   "cell_type": "code",
   "execution_count": 107,
   "id": "3e5816db",
   "metadata": {},
   "outputs": [
    {
     "data": {
      "image/png": "[encoded data removed]",
      "text/plain": [
       "<Figure size 432x288 with 1 Axes>"
      ]
     },
     "metadata": {
      "needs_background": "light"
     },
     "output_type": "display_data"
    },
    {
     "name": "stdout",
     "output_type": "stream",
     "text": [
      "The algorithm seems to have gotten stuck in a local minimum. Perhapse using learning rate decay might help? Reducing lr and lambda and increasing epochs should improve model fitting.\n"
     ]
    }
   ],
   "source": [
    "import matplotlib.pyplot as plt\n",
    "\n",
    "%matplotlib inline\n",
    "\n",
    "\n",
    "plt.plot(range(num_epoch), sgd_train_losses, sgd_valid_losses)\n",
    "plt.xlabel('Epoch')\n",
    "plt.ylabel('Loss')\n",
    "plt.legend([\"Training loss\", \"Validation loss\"])\n",
    "plt.title('SGD')\n",
    "plt.show()\n",
    "\n",
    "print('The algorithm seems to have gotten stuck in a local minimum. Perhapse using learning rate decay might help? Reducing lr and lambda and increasing epochs should improve model fitting.')"
   ]
  },
  {
   "cell_type": "markdown",
   "id": "29063c6f",
   "metadata": {},
   "source": [
    "##### Please run the following cell to evaluate your model with Mini-batch GD"
   ]
  },
  {
   "cell_type": "code",
   "execution_count": 63,
   "id": "7c4d23aa",
   "metadata": {},
   "outputs": [
    {
     "name": "stdout",
     "output_type": "stream",
     "text": [
      "Mini-batch GD\n",
      "\n",
      "  Precision:\n",
      "    class 0: 0.0330, class 1: 0.0064, class 2: 0.0232, class 3: 0.0148\n",
      "\n",
      "  Recall:\n",
      "    class 0: 0.0437, class 1: 0.0089, class 2: 0.0279, class 3: 0.0011\n"
     ]
    }
   ],
   "source": [
    "y_hat = mini_gd_lr.predict(x_test)\n",
    "y_true = np.argmax(y_test, axis=1)\n",
    "\n",
    "precision = precision_score(y_true, y_hat, average=None)\n",
    "recall = recall_score(y_true, y_hat, average=None)\n",
    "\n",
    "print('Mini-batch GD')\n",
    "print()\n",
    "print('  Precision:')\n",
    "print(f'    class {0}: {precision[0]:.4f}, class {1}: {precision[1]:.4f}, class {2}: {precision[2]:.4f}, class {3}: {precision[3]:.4f}')\n",
    "print()\n",
    "print('  Recall:')\n",
    "print(f'    class {0}: {recall[0]:.4f}, class {1}: {recall[1]:.4f}, class {2}: {recall[2]:.4f}, class {3}: {recall[3]:.4f}')"
   ]
  },
  {
   "cell_type": "markdown",
   "id": "95c7babf",
   "metadata": {},
   "source": [
    "##### Please run the following cell to plot training loss and validation loss for Mini-batch GD"
   ]
  },
  {
   "cell_type": "code",
   "execution_count": 64,
   "id": "1ba7d46c",
   "metadata": {},
   "outputs": [
    {
     "data": {
      "image/png": "[encoded data removed]",
      "text/plain": [
       "<Figure size 432x288 with 1 Axes>"
      ]
     },
     "metadata": {
      "needs_background": "light"
     },
     "output_type": "display_data"
    }
   ],
   "source": [
    "plt.plot(range(num_epoch), mini_gd_train_losses, mini_gd_valid_losses)\n",
    "plt.xlabel('Epoch')\n",
    "plt.ylabel('Loss')\n",
    "plt.legend([\"Training loss\", \"Validation loss\"])\n",
    "plt.title('Mini-batch GD')\n",
    "plt.show()"
   ]
  },
  {
   "cell_type": "markdown",
   "id": "b70490a3",
   "metadata": {},
   "source": [
    "## 3. Cross-Validation (10 points)\n",
    "\n",
    "You are required to implement cross-validation, and use it to choose the best $\\lambda$.\n"
   ]
  },
  {
   "cell_type": "markdown",
   "id": "2c3e1a9a",
   "metadata": {},
   "source": [
    "### 3.1 Reload dataset"
   ]
  },
  {
   "cell_type": "code",
   "execution_count": 21,
   "id": "82c313b1",
   "metadata": {},
   "outputs": [],
   "source": [
    "text_trainc = train_df['text'].values.astype(str)\n",
    "label_trainc = train_df['label'].values.astype(int) - 1 # -1 because labels start from 1\n",
    "\n",
    "text_testc = test_df['text'].values.astype(str)\n",
    "label_testc = test_df['label'].values.astype(int) - 1 # -1 because labels start from 1"
   ]
  },
  {
   "cell_type": "markdown",
   "id": "c59485ce",
   "metadata": {},
   "source": [
    "### 3.2 Define the range of $\\lambda$. (Fill the code)"
   ]
  },
  {
   "cell_type": "code",
   "execution_count": 94,
   "id": "7771dd31",
   "metadata": {},
   "outputs": [],
   "source": [
    "lambdas = [1E-2,1E-4,1E-6,1E-8] ## Fill the values of lambda you want to evaluate in the list"
   ]
  },
  {
   "cell_type": "markdown",
   "id": "3bb8d6c3",
   "metadata": {},
   "source": [
    "### 3.3 Implement cross-validation. (Fill the code)"
   ]
  },
  {
   "cell_type": "code",
   "execution_count": 95,
   "id": "1d0ba8c1",
   "metadata": {},
   "outputs": [
    {
     "data": {
      "application/vnd.jupyter.widget-view+json": {
       "model_id": "10fe36cad09f45eb8da6d3d3439cfa2a",
       "version_major": 2,
       "version_minor": 0
      },
      "text/plain": [
       "fitting text:   0%|          | 0/120000 [00:00<?, ?it/s]"
      ]
     },
     "metadata": {},
     "output_type": "display_data"
    },
    {
     "data": {
      "application/vnd.jupyter.widget-view+json": {
       "model_id": "c938b200316e43beb070d69985d47062",
       "version_major": 2,
       "version_minor": 0
      },
      "text/plain": [
       "transforming:   0%|          | 0/120000 [00:00<?, ?it/s]"
      ]
     },
     "metadata": {},
     "output_type": "display_data"
    },
    {
     "data": {
      "application/vnd.jupyter.widget-view+json": {
       "model_id": "b2bc6d23a4d646aba2f30f6be5fb0746",
       "version_major": 2,
       "version_minor": 0
      },
      "text/plain": [
       "transforming:   0%|          | 0/7600 [00:00<?, ?it/s]"
      ]
     },
     "metadata": {},
     "output_type": "display_data"
    },
    {
     "data": {
      "application/vnd.jupyter.widget-view+json": {
       "model_id": "338bbcc2aace4295bfb15beb06d80b08",
       "version_major": 2,
       "version_minor": 0
      },
      "text/plain": [
       "cross val:   0%|          | 0/4 [00:00<?, ?it/s]"
      ]
     },
     "metadata": {},
     "output_type": "display_data"
    },
    {
     "name": "stdout",
     "output_type": "stream",
     "text": [
      "Lambda: 0.01 , average k-fold cross val loss: 19.054154536954492\n",
      "Lambda: 0.0001 , average k-fold cross val loss: 18.360750120268676\n",
      "Lambda: 1e-06 , average k-fold cross val loss: 19.334570313460645\n",
      "Lambda: 1e-08 , average k-fold cross val loss: 19.355079816036394\n"
     ]
    }
   ],
   "source": [
    "from sklearn.utils import shuffle\n",
    "#from tqdm import trange\n",
    "\n",
    "#vocab_size = 10\n",
    "\n",
    "extractor = TfIdfExtractor(vocab_size=vocab_size)\n",
    "extractor.fit(text_trainc)\n",
    "\n",
    "x_trainc = extractor.transform(text_trainc)\n",
    "x_testc = extractor.transform(text_testc)\n",
    "\n",
    "\n",
    "# convert label to one-hot vector\n",
    "y_trainc = np.zeros((label_trainc.shape[0], num_class))\n",
    "y_trainc[np.arange(label_trainc.shape[0]), label_trainc] = 1\n",
    "\n",
    "y_testc = np.zeros((label_testc.shape[0], num_class))\n",
    "y_testc[np.arange(label_testc.shape[0]), label_testc] = 1\n",
    "\n",
    "x_trainc, y_trainc = shuffle(x_trainc,y_trainc)\n",
    "\n",
    "trainc_size = x_trainc.shape[0]\n",
    "#print('train size =',train_size)\n",
    "k = 10\n",
    "lr = 1E-4\n",
    "batch_size = int(trainc_size/k)\n",
    "#print('batch size =',batch_size)\n",
    "eps = 5\n",
    "losses = []\n",
    "\n",
    "for lam in tqdm(lambdas, desc='cross val'):\n",
    "    loss = 0\n",
    "    model = LogisticRegression(vocab_size, num_class, lam)\n",
    "    for i in range(k):\n",
    "        xv = x_trainc[i*batch_size:(i+1)*batch_size]\n",
    "        yv = y_trainc[i*batch_size:(i+1)*batch_size]\n",
    "        xt = np.concatenate([x_trainc[:i*batch_size],x_trainc[(i+1)*batch_size:]])\n",
    "        yt = np.concatenate([y_trainc[:i*batch_size],y_trainc[(i+1)*batch_size:]])\n",
    "        mini_gd_train_losses, mini_gd_valid_losses = mini_batch_gd(model, xt, yt, xv, yv, batch_size, lr, lam, eps)\n",
    "        if loss == 0:\n",
    "                loss = mini_gd_valid_losses[-1]\n",
    "        else:\n",
    "                loss = (loss + mini_gd_valid_losses[-1]) / 2\n",
    "    losses.append(loss)\n",
    "\n",
    "for i in range(len(lambdas)):\n",
    "    print('Lambda:', lambdas[i],', average k-fold cross val loss:', losses[i])\n",
    "\n",
    "### End"
   ]
  },
  {
   "cell_type": "code",
   "execution_count": 96,
   "id": "c6470817",
   "metadata": {},
   "outputs": [
    {
     "name": "stdout",
     "output_type": "stream",
     "text": [
      "best lambda value was 1E-4\n",
      "Mini-batch GD\n",
      "\n",
      "  Precision:\n",
      "    class 0: 0.2671, class 1: 0.2433, class 2: 0.2490, class 3: 0.2680\n",
      "\n",
      "  Recall:\n",
      "    class 0: 0.2405, class 1: 0.2289, class 2: 0.2547, class 3: 0.3042\n"
     ]
    }
   ],
   "source": [
    "num_epoch = 20\n",
    "lam = 1E-4\n",
    "print('best lambda value was 1E-4')\n",
    "mini_gd_lr = LogisticRegression(vocab_size, num_class, 1E-4)\n",
    "mini_gd_train_losses, mini_gd_valid_losses = mini_batch_gd(mini_gd_lr, x_trainc, y_trainc, x_testc, y_testc, batch_size, lr, 1E-4, num_epoch)\n",
    "\n",
    "y_hat = mini_gd_lr.predict(x_test)\n",
    "y_true = np.argmax(y_testc, axis=1)\n",
    "\n",
    "precision = precision_score(y_true, y_hat, average=None)\n",
    "recall = recall_score(y_true, y_hat, average=None)\n",
    "\n",
    "print('Mini-batch GD')\n",
    "print()\n",
    "print('  Precision:')\n",
    "print(f'    class {0}: {precision[0]:.4f}, class {1}: {precision[1]:.4f}, class {2}: {precision[2]:.4f}, class {3}: {precision[3]:.4f}')\n",
    "print()\n",
    "print('  Recall:')\n",
    "print(f'    class {0}: {recall[0]:.4f}, class {1}: {recall[1]:.4f}, class {2}: {recall[2]:.4f}, class {3}: {recall[3]:.4f}')"
   ]
  },
  {
   "cell_type": "markdown",
   "id": "30e2b497",
   "metadata": {},
   "source": [
    "### 3.4 Report the best $lambda$ value, and report the recall and precision for each category on the test set."
   ]
  },
  {
   "cell_type": "markdown",
   "id": "6e3acea6",
   "metadata": {},
   "source": [
    "From the tested lambda values, the best one w.r.t. the other fixed hyperparameters seems to be 0.0001.\n",
    "The precision and recall results were found to be as following: (note the model was evaluated using minibatch_gd with batch size = train_size/10)\n",
    "\n",
    "  Precision:\n",
    "    class 0: 0.2671, class 1: 0.2433, class 2: 0.2490, class 3: 0.2680\n",
    "\n",
    "  Recall:\n",
    "    class 0: 0.2405, class 1: 0.2289, class 2: 0.2547, class 3: 0.3042"
   ]
  },
  {
   "cell_type": "markdown",
   "id": "c0ceaeac",
   "metadata": {},
   "source": [
    "# 4. Conclusion\n",
    "\n",
    "provide an analysis for the results"
   ]
  },
  {
   "cell_type": "markdown",
   "id": "aa3c93ce",
   "metadata": {},
   "source": [
    "From the above experement, it seems that sgd is much harder and computationally intensive way to optimize the model over the loss landscape compared to minibatch gd. Is this because we average the losses and in turn are \"smoothening\" the loss landscape?\n",
    "Anothe interesting thing that is seen is that for a decently large minibatch size, the regularization factor lambda seems to produce the best result when it is close to the value of learning rate alpha. Intuitively, having a slightly smaller alpha and lambda value with more epochs should result in better optimization of the model's parameters.\n",
    "Due to time and computational constraints, I limited my vocab size to 1000 and ran the code for a max of 20 epochs. I believe the model would yield better results if the hyper parameters are optimized better using k-fold cross val over larger cross val epochs. I used 5 eps for this implementation but in the real world, I would prefer to run cross val for 10-20 eps depending on model complexity.\n",
    "Overall, the model seems to be performing better after cross validation of lambda value wrt other fixed hyperparameters. Another way to estimate the best hypermarater combination might be to loop over various combinations of these hyper parameters and pic the best perfoming combination. In any case, the precision and recall scores have improved. But they are no way near perfect for real world use. Increasing the vocab size might help to a certain extent."
   ]
  }
 ],
 "metadata": {
  "kernelspec": {
   "display_name": "Python 3",
   "language": "python",
   "name": "python3"
  },
  "language_info": {
   "codemirror_mode": {
    "name": "ipython",
    "version": 3
   },
   "file_extension": ".py",
   "mimetype": "text/x-python",
   "name": "python",
   "nbconvert_exporter": "python",
   "pygments_lexer": "ipython3",
   "version": "3.8.5"
  }
 },
 "nbformat": 4,
 "nbformat_minor": 5
}
