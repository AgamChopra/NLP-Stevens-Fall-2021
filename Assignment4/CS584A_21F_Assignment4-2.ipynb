{
 "cells": [
  {
   "cell_type": "markdown",
   "metadata": {
    "id": "mOgaNXMLiD1b"
   },
   "source": [
    "# CS 584 Assignment 4 -- Sequence to Sequence Models\n",
    "\n",
    "#### Name: Chopra, Agamdeep"
   ]
  },
  {
   "cell_type": "markdown",
   "metadata": {
    "id": "sAveCNCtiD1f"
   },
   "source": [
    "## In this assignment, you are required to follow the steps below:\n",
    "1. Review the lecture slides.\n",
    "2. Implement a Seq2Seq model.\n",
    "\n",
    "*** Please note that there are many online resources for Seq2Seq models, you are allowed to check them, but DO NOT DIRECTLY COPY from them. Otherwise, you will get ZERO for this assignment. ***"
   ]
  },
  {
   "cell_type": "code",
   "execution_count": 1,
   "metadata": {
    "colab": {
     "base_uri": "https://localhost:8080/",
     "height": 1000
    },
    "id": "TRf675gXiD1f",
    "outputId": "60e53eb5-3a80-4bad-d053-725cabdfbbf8"
   },
   "outputs": [
    {
     "name": "stdout",
     "output_type": "stream",
     "text": [
      "Requirement already satisfied: numpy in e:\\anaconda3\\envs\\school\\lib\\site-packages (1.21.2)\n",
      "Requirement already satisfied: scikit-learn in e:\\anaconda3\\envs\\school\\lib\\site-packages (1.0.1)\n",
      "Requirement already satisfied: tqdm in e:\\anaconda3\\envs\\school\\lib\\site-packages (4.62.3)\n",
      "Requirement already satisfied: matplotlib in e:\\anaconda3\\envs\\school\\lib\\site-packages (3.4.3)\n",
      "Requirement already satisfied: pyparsing>=2.2.1 in e:\\anaconda3\\envs\\school\\lib\\site-packages (from matplotlib) (3.0.4)\n",
      "Requirement already satisfied: cycler>=0.10 in e:\\anaconda3\\envs\\school\\lib\\site-packages (from matplotlib) (0.10.0)\n",
      "Requirement already satisfied: pillow>=6.2.0 in e:\\anaconda3\\envs\\school\\lib\\site-packages (from matplotlib) (8.4.0)\n",
      "Requirement already satisfied: kiwisolver>=1.0.1 in e:\\anaconda3\\envs\\school\\lib\\site-packages (from matplotlib) (1.3.1)\n",
      "Requirement already satisfied: python-dateutil>=2.7 in e:\\anaconda3\\envs\\school\\lib\\site-packages (from matplotlib) (2.8.2)\n",
      "Requirement already satisfied: six in e:\\anaconda3\\envs\\school\\lib\\site-packages (from cycler>=0.10->matplotlib) (1.16.0)\n",
      "Requirement already satisfied: scipy>=1.1.0 in e:\\anaconda3\\envs\\school\\lib\\site-packages (from scikit-learn) (1.7.1)\n",
      "Requirement already satisfied: joblib>=0.11 in e:\\anaconda3\\envs\\school\\lib\\site-packages (from scikit-learn) (1.1.0)\n",
      "Requirement already satisfied: threadpoolctl>=2.0.0 in e:\\anaconda3\\envs\\school\\lib\\site-packages (from scikit-learn) (2.2.0)\n",
      "Requirement already satisfied: colorama in e:\\anaconda3\\envs\\school\\lib\\site-packages (from tqdm) (0.4.4)\n",
      "Requirement already satisfied: spacy in e:\\anaconda3\\envs\\school\\lib\\site-packages (3.2.0)\n",
      "Requirement already satisfied: requests<3.0.0,>=2.13.0 in e:\\anaconda3\\envs\\school\\lib\\site-packages (from spacy) (2.26.0)\n",
      "Requirement already satisfied: thinc<8.1.0,>=8.0.12 in e:\\anaconda3\\envs\\school\\lib\\site-packages (from spacy) (8.0.13)\n",
      "Requirement already satisfied: spacy-legacy<3.1.0,>=3.0.8 in e:\\anaconda3\\envs\\school\\lib\\site-packages (from spacy) (3.0.8)\n",
      "Requirement already satisfied: tqdm<5.0.0,>=4.38.0 in e:\\anaconda3\\envs\\school\\lib\\site-packages (from spacy) (4.62.3)\n",
      "Requirement already satisfied: typer<0.5.0,>=0.3.0 in e:\\anaconda3\\envs\\school\\lib\\site-packages (from spacy) (0.4.0)\n",
      "Requirement already satisfied: catalogue<2.1.0,>=2.0.6 in e:\\anaconda3\\envs\\school\\lib\\site-packages (from spacy) (2.0.6)\n",
      "Requirement already satisfied: preshed<3.1.0,>=3.0.2 in e:\\anaconda3\\envs\\school\\lib\\site-packages (from spacy) (3.0.6)\n",
      "Requirement already satisfied: murmurhash<1.1.0,>=0.28.0 in e:\\anaconda3\\envs\\school\\lib\\site-packages (from spacy) (1.0.6)\n",
      "Requirement already satisfied: jinja2 in e:\\anaconda3\\envs\\school\\lib\\site-packages (from spacy) (3.0.2)\n",
      "Requirement already satisfied: setuptools in e:\\anaconda3\\envs\\school\\lib\\site-packages (from spacy) (58.0.4)\n",
      "Requirement already satisfied: numpy>=1.15.0 in e:\\anaconda3\\envs\\school\\lib\\site-packages (from spacy) (1.21.2)\n",
      "Requirement already satisfied: srsly<3.0.0,>=2.4.1 in e:\\anaconda3\\envs\\school\\lib\\site-packages (from spacy) (2.4.2)\n",
      "Requirement already satisfied: pydantic!=1.8,!=1.8.1,<1.9.0,>=1.7.4 in e:\\anaconda3\\envs\\school\\lib\\site-packages (from spacy) (1.8.2)\n",
      "Requirement already satisfied: packaging>=20.0 in e:\\anaconda3\\envs\\school\\lib\\site-packages (from spacy) (21.0)\n",
      "Requirement already satisfied: pathy>=0.3.5 in e:\\anaconda3\\envs\\school\\lib\\site-packages (from spacy) (0.6.1)\n",
      "Requirement already satisfied: langcodes<4.0.0,>=3.2.0 in e:\\anaconda3\\envs\\school\\lib\\site-packages (from spacy) (3.3.0)\n",
      "Requirement already satisfied: spacy-loggers<2.0.0,>=1.0.0 in e:\\anaconda3\\envs\\school\\lib\\site-packages (from spacy) (1.0.1)\n",
      "Requirement already satisfied: cymem<2.1.0,>=2.0.2 in e:\\anaconda3\\envs\\school\\lib\\site-packages (from spacy) (2.0.6)\n",
      "Requirement already satisfied: wasabi<1.1.0,>=0.8.1 in e:\\anaconda3\\envs\\school\\lib\\site-packages (from spacy) (0.8.2)\n",
      "Requirement already satisfied: blis<0.8.0,>=0.4.0 in e:\\anaconda3\\envs\\school\\lib\\site-packages (from spacy) (0.7.5)\n",
      "Requirement already satisfied: pyparsing>=2.0.2 in e:\\anaconda3\\envs\\school\\lib\\site-packages (from packaging>=20.0->spacy) (3.0.4)\n",
      "Requirement already satisfied: smart-open<6.0.0,>=5.0.0 in e:\\anaconda3\\envs\\school\\lib\\site-packages (from pathy>=0.3.5->spacy) (5.2.1)\n",
      "Requirement already satisfied: typing-extensions>=3.7.4.3 in e:\\anaconda3\\envs\\school\\lib\\site-packages (from pydantic!=1.8,!=1.8.1,<1.9.0,>=1.7.4->spacy) (4.0.0)\n",
      "Requirement already satisfied: urllib3<1.27,>=1.21.1 in e:\\anaconda3\\envs\\school\\lib\\site-packages (from requests<3.0.0,>=2.13.0->spacy) (1.26.7)\n",
      "Requirement already satisfied: charset-normalizer~=2.0.0 in e:\\anaconda3\\envs\\school\\lib\\site-packages (from requests<3.0.0,>=2.13.0->spacy) (2.0.7)\n",
      "Requirement already satisfied: certifi>=2017.4.17 in e:\\anaconda3\\envs\\school\\lib\\site-packages (from requests<3.0.0,>=2.13.0->spacy) (2021.10.8)\n",
      "Requirement already satisfied: idna<4,>=2.5 in e:\\anaconda3\\envs\\school\\lib\\site-packages (from requests<3.0.0,>=2.13.0->spacy) (3.3)\n",
      "Requirement already satisfied: colorama in e:\\anaconda3\\envs\\school\\lib\\site-packages (from tqdm<5.0.0,>=4.38.0->spacy) (0.4.4)\n",
      "Requirement already satisfied: click<9.0.0,>=7.1.1 in e:\\anaconda3\\envs\\school\\lib\\site-packages (from typer<0.5.0,>=0.3.0->spacy) (8.0.3)\n",
      "Requirement already satisfied: MarkupSafe>=2.0 in e:\\anaconda3\\envs\\school\\lib\\site-packages (from jinja2->spacy) (2.0.1)\n",
      "Collecting en-core-web-sm==3.2.0\n",
      "  Downloading https://github.com/explosion/spacy-models/releases/download/en_core_web_sm-3.2.0/en_core_web_sm-3.2.0-py3-none-any.whl (13.9 MB)\n",
      "Requirement already satisfied: spacy<3.3.0,>=3.2.0 in e:\\anaconda3\\envs\\school\\lib\\site-packages (from en-core-web-sm==3.2.0) (3.2.0)\n",
      "Requirement already satisfied: tqdm<5.0.0,>=4.38.0 in e:\\anaconda3\\envs\\school\\lib\\site-packages (from spacy<3.3.0,>=3.2.0->en-core-web-sm==3.2.0) (4.62.3)\n",
      "Requirement already satisfied: langcodes<4.0.0,>=3.2.0 in e:\\anaconda3\\envs\\school\\lib\\site-packages (from spacy<3.3.0,>=3.2.0->en-core-web-sm==3.2.0) (3.3.0)\n",
      "Requirement already satisfied: setuptools in e:\\anaconda3\\envs\\school\\lib\\site-packages (from spacy<3.3.0,>=3.2.0->en-core-web-sm==3.2.0) (58.0.4)\n",
      "Requirement already satisfied: wasabi<1.1.0,>=0.8.1 in e:\\anaconda3\\envs\\school\\lib\\site-packages (from spacy<3.3.0,>=3.2.0->en-core-web-sm==3.2.0) (0.8.2)\n",
      "Requirement already satisfied: blis<0.8.0,>=0.4.0 in e:\\anaconda3\\envs\\school\\lib\\site-packages (from spacy<3.3.0,>=3.2.0->en-core-web-sm==3.2.0) (0.7.5)\n",
      "Requirement already satisfied: spacy-loggers<2.0.0,>=1.0.0 in e:\\anaconda3\\envs\\school\\lib\\site-packages (from spacy<3.3.0,>=3.2.0->en-core-web-sm==3.2.0) (1.0.1)\n",
      "Requirement already satisfied: thinc<8.1.0,>=8.0.12 in e:\\anaconda3\\envs\\school\\lib\\site-packages (from spacy<3.3.0,>=3.2.0->en-core-web-sm==3.2.0) (8.0.13)\n",
      "Requirement already satisfied: pathy>=0.3.5 in e:\\anaconda3\\envs\\school\\lib\\site-packages (from spacy<3.3.0,>=3.2.0->en-core-web-sm==3.2.0) (0.6.1)\n",
      "Requirement already satisfied: packaging>=20.0 in e:\\anaconda3\\envs\\school\\lib\\site-packages (from spacy<3.3.0,>=3.2.0->en-core-web-sm==3.2.0) (21.0)\n",
      "Requirement already satisfied: srsly<3.0.0,>=2.4.1 in e:\\anaconda3\\envs\\school\\lib\\site-packages (from spacy<3.3.0,>=3.2.0->en-core-web-sm==3.2.0) (2.4.2)\n",
      "Requirement already satisfied: spacy-legacy<3.1.0,>=3.0.8 in e:\\anaconda3\\envs\\school\\lib\\site-packages (from spacy<3.3.0,>=3.2.0->en-core-web-sm==3.2.0) (3.0.8)\n",
      "Requirement already satisfied: cymem<2.1.0,>=2.0.2 in e:\\anaconda3\\envs\\school\\lib\\site-packages (from spacy<3.3.0,>=3.2.0->en-core-web-sm==3.2.0) (2.0.6)\n",
      "Requirement already satisfied: preshed<3.1.0,>=3.0.2 in e:\\anaconda3\\envs\\school\\lib\\site-packages (from spacy<3.3.0,>=3.2.0->en-core-web-sm==3.2.0) (3.0.6)\n",
      "Requirement already satisfied: typer<0.5.0,>=0.3.0 in e:\\anaconda3\\envs\\school\\lib\\site-packages (from spacy<3.3.0,>=3.2.0->en-core-web-sm==3.2.0) (0.4.0)\n",
      "Requirement already satisfied: catalogue<2.1.0,>=2.0.6 in e:\\anaconda3\\envs\\school\\lib\\site-packages (from spacy<3.3.0,>=3.2.0->en-core-web-sm==3.2.0) (2.0.6)\n",
      "Requirement already satisfied: jinja2 in e:\\anaconda3\\envs\\school\\lib\\site-packages (from spacy<3.3.0,>=3.2.0->en-core-web-sm==3.2.0) (3.0.2)\n",
      "Requirement already satisfied: murmurhash<1.1.0,>=0.28.0 in e:\\anaconda3\\envs\\school\\lib\\site-packages (from spacy<3.3.0,>=3.2.0->en-core-web-sm==3.2.0) (1.0.6)\n",
      "Requirement already satisfied: numpy>=1.15.0 in e:\\anaconda3\\envs\\school\\lib\\site-packages (from spacy<3.3.0,>=3.2.0->en-core-web-sm==3.2.0) (1.21.2)\n",
      "Requirement already satisfied: pydantic!=1.8,!=1.8.1,<1.9.0,>=1.7.4 in e:\\anaconda3\\envs\\school\\lib\\site-packages (from spacy<3.3.0,>=3.2.0->en-core-web-sm==3.2.0) (1.8.2)\n",
      "Requirement already satisfied: requests<3.0.0,>=2.13.0 in e:\\anaconda3\\envs\\school\\lib\\site-packages (from spacy<3.3.0,>=3.2.0->en-core-web-sm==3.2.0) (2.26.0)\n",
      "Requirement already satisfied: pyparsing>=2.0.2 in e:\\anaconda3\\envs\\school\\lib\\site-packages (from packaging>=20.0->spacy<3.3.0,>=3.2.0->en-core-web-sm==3.2.0) (3.0.4)\n",
      "Requirement already satisfied: smart-open<6.0.0,>=5.0.0 in e:\\anaconda3\\envs\\school\\lib\\site-packages (from pathy>=0.3.5->spacy<3.3.0,>=3.2.0->en-core-web-sm==3.2.0) (5.2.1)\n",
      "Requirement already satisfied: typing-extensions>=3.7.4.3 in e:\\anaconda3\\envs\\school\\lib\\site-packages (from pydantic!=1.8,!=1.8.1,<1.9.0,>=1.7.4->spacy<3.3.0,>=3.2.0->en-core-web-sm==3.2.0) (4.0.0)\n",
      "Requirement already satisfied: charset-normalizer~=2.0.0 in e:\\anaconda3\\envs\\school\\lib\\site-packages (from requests<3.0.0,>=2.13.0->spacy<3.3.0,>=3.2.0->en-core-web-sm==3.2.0) (2.0.7)\n",
      "Requirement already satisfied: idna<4,>=2.5 in e:\\anaconda3\\envs\\school\\lib\\site-packages (from requests<3.0.0,>=2.13.0->spacy<3.3.0,>=3.2.0->en-core-web-sm==3.2.0) (3.3)\n",
      "Requirement already satisfied: urllib3<1.27,>=1.21.1 in e:\\anaconda3\\envs\\school\\lib\\site-packages (from requests<3.0.0,>=2.13.0->spacy<3.3.0,>=3.2.0->en-core-web-sm==3.2.0) (1.26.7)\n",
      "Requirement already satisfied: certifi>=2017.4.17 in e:\\anaconda3\\envs\\school\\lib\\site-packages (from requests<3.0.0,>=2.13.0->spacy<3.3.0,>=3.2.0->en-core-web-sm==3.2.0) (2021.10.8)\n",
      "Requirement already satisfied: colorama in e:\\anaconda3\\envs\\school\\lib\\site-packages (from tqdm<5.0.0,>=4.38.0->spacy<3.3.0,>=3.2.0->en-core-web-sm==3.2.0) (0.4.4)\n",
      "Requirement already satisfied: click<9.0.0,>=7.1.1 in e:\\anaconda3\\envs\\school\\lib\\site-packages (from typer<0.5.0,>=0.3.0->spacy<3.3.0,>=3.2.0->en-core-web-sm==3.2.0) (8.0.3)\n",
      "Requirement already satisfied: MarkupSafe>=2.0 in e:\\anaconda3\\envs\\school\\lib\\site-packages (from jinja2->spacy<3.3.0,>=3.2.0->en-core-web-sm==3.2.0) (2.0.1)\n",
      "[+] Download and installation successful\n",
      "You can now load the package via spacy.load('en_core_web_sm')\n"
     ]
    },
    {
     "name": "stdout",
     "output_type": "stream",
     "text": [
      "Collecting es-core-news-sm==3.2.0\n",
      "  Downloading https://github.com/explosion/spacy-models/releases/download/es_core_news_sm-3.2.0/es_core_news_sm-3.2.0-py3-none-any.whl (14.0 MB)\n",
      "Requirement already satisfied: spacy<3.3.0,>=3.2.0 in e:\\anaconda3\\envs\\school\\lib\\site-packages (from es-core-news-sm==3.2.0) (3.2.0)\n",
      "Requirement already satisfied: tqdm<5.0.0,>=4.38.0 in e:\\anaconda3\\envs\\school\\lib\\site-packages (from spacy<3.3.0,>=3.2.0->es-core-news-sm==3.2.0) (4.62.3)\n",
      "Requirement already satisfied: thinc<8.1.0,>=8.0.12 in e:\\anaconda3\\envs\\school\\lib\\site-packages (from spacy<3.3.0,>=3.2.0->es-core-news-sm==3.2.0) (8.0.13)\n",
      "Requirement already satisfied: spacy-loggers<2.0.0,>=1.0.0 in e:\\anaconda3\\envs\\school\\lib\\site-packages (from spacy<3.3.0,>=3.2.0->es-core-news-sm==3.2.0) (1.0.1)\n",
      "Requirement already satisfied: srsly<3.0.0,>=2.4.1 in e:\\anaconda3\\envs\\school\\lib\\site-packages (from spacy<3.3.0,>=3.2.0->es-core-news-sm==3.2.0) (2.4.2)\n",
      "Requirement already satisfied: langcodes<4.0.0,>=3.2.0 in e:\\anaconda3\\envs\\school\\lib\\site-packages (from spacy<3.3.0,>=3.2.0->es-core-news-sm==3.2.0) (3.3.0)\n",
      "Requirement already satisfied: cymem<2.1.0,>=2.0.2 in e:\\anaconda3\\envs\\school\\lib\\site-packages (from spacy<3.3.0,>=3.2.0->es-core-news-sm==3.2.0) (2.0.6)\n",
      "Requirement already satisfied: typer<0.5.0,>=0.3.0 in e:\\anaconda3\\envs\\school\\lib\\site-packages (from spacy<3.3.0,>=3.2.0->es-core-news-sm==3.2.0) (0.4.0)\n",
      "Requirement already satisfied: jinja2 in e:\\anaconda3\\envs\\school\\lib\\site-packages (from spacy<3.3.0,>=3.2.0->es-core-news-sm==3.2.0) (3.0.2)\n",
      "Requirement already satisfied: requests<3.0.0,>=2.13.0 in e:\\anaconda3\\envs\\school\\lib\\site-packages (from spacy<3.3.0,>=3.2.0->es-core-news-sm==3.2.0) (2.26.0)\n",
      "Requirement already satisfied: packaging>=20.0 in e:\\anaconda3\\envs\\school\\lib\\site-packages (from spacy<3.3.0,>=3.2.0->es-core-news-sm==3.2.0) (21.0)\n",
      "Requirement already satisfied: setuptools in e:\\anaconda3\\envs\\school\\lib\\site-packages (from spacy<3.3.0,>=3.2.0->es-core-news-sm==3.2.0) (58.0.4)\n",
      "Requirement already satisfied: blis<0.8.0,>=0.4.0 in e:\\anaconda3\\envs\\school\\lib\\site-packages (from spacy<3.3.0,>=3.2.0->es-core-news-sm==3.2.0) (0.7.5)\n",
      "Requirement already satisfied: preshed<3.1.0,>=3.0.2 in e:\\anaconda3\\envs\\school\\lib\\site-packages (from spacy<3.3.0,>=3.2.0->es-core-news-sm==3.2.0) (3.0.6)\n",
      "Requirement already satisfied: pathy>=0.3.5 in e:\\anaconda3\\envs\\school\\lib\\site-packages (from spacy<3.3.0,>=3.2.0->es-core-news-sm==3.2.0) (0.6.1)\n",
      "Requirement already satisfied: pydantic!=1.8,!=1.8.1,<1.9.0,>=1.7.4 in e:\\anaconda3\\envs\\school\\lib\\site-packages (from spacy<3.3.0,>=3.2.0->es-core-news-sm==3.2.0) (1.8.2)\n",
      "Requirement already satisfied: murmurhash<1.1.0,>=0.28.0 in e:\\anaconda3\\envs\\school\\lib\\site-packages (from spacy<3.3.0,>=3.2.0->es-core-news-sm==3.2.0) (1.0.6)\n",
      "Requirement already satisfied: wasabi<1.1.0,>=0.8.1 in e:\\anaconda3\\envs\\school\\lib\\site-packages (from spacy<3.3.0,>=3.2.0->es-core-news-sm==3.2.0) (0.8.2)\n",
      "Requirement already satisfied: numpy>=1.15.0 in e:\\anaconda3\\envs\\school\\lib\\site-packages (from spacy<3.3.0,>=3.2.0->es-core-news-sm==3.2.0) (1.21.2)\n",
      "Requirement already satisfied: catalogue<2.1.0,>=2.0.6 in e:\\anaconda3\\envs\\school\\lib\\site-packages (from spacy<3.3.0,>=3.2.0->es-core-news-sm==3.2.0) (2.0.6)\n",
      "Requirement already satisfied: spacy-legacy<3.1.0,>=3.0.8 in e:\\anaconda3\\envs\\school\\lib\\site-packages (from spacy<3.3.0,>=3.2.0->es-core-news-sm==3.2.0) (3.0.8)\n",
      "Requirement already satisfied: pyparsing>=2.0.2 in e:\\anaconda3\\envs\\school\\lib\\site-packages (from packaging>=20.0->spacy<3.3.0,>=3.2.0->es-core-news-sm==3.2.0) (3.0.4)\n",
      "Requirement already satisfied: smart-open<6.0.0,>=5.0.0 in e:\\anaconda3\\envs\\school\\lib\\site-packages (from pathy>=0.3.5->spacy<3.3.0,>=3.2.0->es-core-news-sm==3.2.0) (5.2.1)\n",
      "Requirement already satisfied: typing-extensions>=3.7.4.3 in e:\\anaconda3\\envs\\school\\lib\\site-packages (from pydantic!=1.8,!=1.8.1,<1.9.0,>=1.7.4->spacy<3.3.0,>=3.2.0->es-core-news-sm==3.2.0) (4.0.0)\n",
      "Requirement already satisfied: charset-normalizer~=2.0.0 in e:\\anaconda3\\envs\\school\\lib\\site-packages (from requests<3.0.0,>=2.13.0->spacy<3.3.0,>=3.2.0->es-core-news-sm==3.2.0) (2.0.7)\n",
      "Requirement already satisfied: certifi>=2017.4.17 in e:\\anaconda3\\envs\\school\\lib\\site-packages (from requests<3.0.0,>=2.13.0->spacy<3.3.0,>=3.2.0->es-core-news-sm==3.2.0) (2021.10.8)\n",
      "Requirement already satisfied: idna<4,>=2.5 in e:\\anaconda3\\envs\\school\\lib\\site-packages (from requests<3.0.0,>=2.13.0->spacy<3.3.0,>=3.2.0->es-core-news-sm==3.2.0) (3.3)\n",
      "Requirement already satisfied: urllib3<1.27,>=1.21.1 in e:\\anaconda3\\envs\\school\\lib\\site-packages (from requests<3.0.0,>=2.13.0->spacy<3.3.0,>=3.2.0->es-core-news-sm==3.2.0) (1.26.7)\n",
      "Requirement already satisfied: colorama in e:\\anaconda3\\envs\\school\\lib\\site-packages (from tqdm<5.0.0,>=4.38.0->spacy<3.3.0,>=3.2.0->es-core-news-sm==3.2.0) (0.4.4)\n",
      "Requirement already satisfied: click<9.0.0,>=7.1.1 in e:\\anaconda3\\envs\\school\\lib\\site-packages (from typer<0.5.0,>=0.3.0->spacy<3.3.0,>=3.2.0->es-core-news-sm==3.2.0) (8.0.3)\n",
      "Requirement already satisfied: MarkupSafe>=2.0 in e:\\anaconda3\\envs\\school\\lib\\site-packages (from jinja2->spacy<3.3.0,>=3.2.0->es-core-news-sm==3.2.0) (2.0.1)\n",
      "[+] Download and installation successful\n",
      "You can now load the package via spacy.load('es_core_news_sm')\n"
     ]
    }
   ],
   "source": [
    "!pip install numpy scikit-learn tqdm matplotlib\n",
    "!pip install -U spacy\n",
    "!python -m spacy download en_core_web_sm\n",
    "!python -m spacy download es_core_news_sm"
   ]
  },
  {
   "cell_type": "code",
   "execution_count": 2,
   "metadata": {},
   "outputs": [
    {
     "name": "stdout",
     "output_type": "stream",
     "text": [
      "Looking in links: https://download.pytorch.org/whl/cu113/torch_stable.html\n",
      "Requirement already satisfied: torch==1.10.0+cu113 in e:\\anaconda3\\envs\\school\\lib\\site-packages (1.10.0+cu113)\n",
      "Requirement already satisfied: torchvision==0.11.1+cu113 in e:\\anaconda3\\envs\\school\\lib\\site-packages (0.11.1+cu113)\n",
      "Requirement already satisfied: torchaudio===0.10.0+cu113 in e:\\anaconda3\\envs\\school\\lib\\site-packages (0.10.0+cu113)\n",
      "Requirement already satisfied: typing-extensions in e:\\anaconda3\\envs\\school\\lib\\site-packages (from torch==1.10.0+cu113) (4.0.0)\n",
      "Requirement already satisfied: pillow!=8.3.0,>=5.3.0 in e:\\anaconda3\\envs\\school\\lib\\site-packages (from torchvision==0.11.1+cu113) (8.4.0)\n",
      "Requirement already satisfied: numpy in e:\\anaconda3\\envs\\school\\lib\\site-packages (from torchvision==0.11.1+cu113) (1.21.2)\n"
     ]
    }
   ],
   "source": [
    "!pip3 install torch==1.10.0+cu113 torchvision==0.11.1+cu113 torchaudio===0.10.0+cu113 -f https://download.pytorch.org/whl/cu113/torch_stable.html"
   ]
  },
  {
   "cell_type": "code",
   "execution_count": 3,
   "metadata": {},
   "outputs": [
    {
     "name": "stdout",
     "output_type": "stream",
     "text": [
      "Requirement already satisfied: nltk in e:\\anaconda3\\envs\\school\\lib\\site-packages (3.6.5)\n",
      "Requirement already satisfied: regex>=2021.8.3 in e:\\anaconda3\\envs\\school\\lib\\site-packages (from nltk) (2021.11.10)\n",
      "Requirement already satisfied: joblib in e:\\anaconda3\\envs\\school\\lib\\site-packages (from nltk) (1.1.0)\n",
      "Requirement already satisfied: tqdm in e:\\anaconda3\\envs\\school\\lib\\site-packages (from nltk) (4.62.3)\n",
      "Requirement already satisfied: click in e:\\anaconda3\\envs\\school\\lib\\site-packages (from nltk) (8.0.3)\n",
      "Requirement already satisfied: colorama in e:\\anaconda3\\envs\\school\\lib\\site-packages (from click->nltk) (0.4.4)\n"
     ]
    }
   ],
   "source": [
    "!pip3 install nltk"
   ]
  },
  {
   "cell_type": "markdown",
   "metadata": {
    "id": "joOGNC40iD1h"
   },
   "source": [
    "## 1. Data Process\n",
    "In this section, you are required to \n",
    "1. Divide the data into train, validation, and test.\n",
    "2. Preprocess the text data\n",
    "\n",
    "**Note:** The default dataset is for Spanish-English. Feel free to change other pairs of languages, you can find them [here](http://www.statmt.org/europarl/)."
   ]
  },
  {
   "cell_type": "code",
   "execution_count": 4,
   "metadata": {
    "colab": {
     "base_uri": "https://localhost:8080/",
     "height": 115,
     "referenced_widgets": [
      "34ef29391780457bb2cbb46fa2556c4f",
      "8bd0d4413e234b3eafb65bd984776f6b",
      "efd1538f6b764e9e9ede7bd470145b84",
      "e085d1fb0e7c4061a30867b095dd649d",
      "5b8372f868ff4ba68aa262631c7d7379",
      "21381f8f9cc6444697cf03e34a1b9516",
      "e7c1a12b6e5f49198129a9b6d27be0fc",
      "a31bb286183343adb87528a85a6f79fe",
      "cf8d9694a1c2448d9767c0bd3cab9400",
      "b2e7391912a747e8b90c7ab9739e74c8",
      "69473babc9bf44d6b8cb6ec0eec1565b",
      "21e6fc624003465d9b50d9d3d8dbf9f1",
      "a881efb4bf044a4b9de088519f0ce17b",
      "e18714bcfb52467b8f82e353f26f0e3c",
      "da8d5abf97ac4a6ab2e9c72fad5dbc34",
      "6ee75559e53d44cf97eef8ea1acc74c1",
      "88948eebd8f348a39c724313dd8ca1e5",
      "f5cc81856b0b44c18db547cd77926714",
      "27bc46057813424191fdaa7df087990b",
      "c409eb7265fc4e1e9f2a314aadb565fd",
      "001737d26aa044be96ac8dfa296a61e8",
      "8158ba137fd6422d93cd7085dcc37f0d"
     ]
    },
    "id": "Fg0l4AHMiD1h",
    "outputId": "712fdf04-76a4-416f-b75b-238b8134b050"
   },
   "outputs": [
    {
     "name": "stdout",
     "output_type": "stream",
     "text": [
      "Englist sentences size: (20000,)\n",
      "Spanish sentences size: (20000,)\n"
     ]
    }
   ],
   "source": [
    "import numpy as np\n",
    "#from tqdm.notebook import tqdm\n",
    "\n",
    "def load_data(filepath):\n",
    "    texts = []\n",
    "    with open(filepath, 'r', encoding='utf-8') as f:\n",
    "        count = len(f.readlines())\n",
    "        \n",
    "    with open(filepath, 'r', encoding='utf-8') as f:\n",
    "        for line in f:\n",
    "            texts.append(line.strip())\n",
    "            \n",
    "    return np.array(texts[:20000])\n",
    "\n",
    "sources = load_data('R:\\classes 2020-22\\Fall 2021\\CS 584 NLP\\HW4\\content\\en.txt')\n",
    "targets = load_data('R:\\classes 2020-22\\Fall 2021\\CS 584 NLP\\HW4\\content\\es.txt')\n",
    "\n",
    "print('Englist sentences size:', sources.shape)\n",
    "print('Spanish sentences size:', targets.shape)"
   ]
  },
  {
   "cell_type": "markdown",
   "metadata": {
    "id": "cEy13GCHiD1h"
   },
   "source": [
    "### 1.1 Divide the data into train, validation, and test"
   ]
  },
  {
   "cell_type": "code",
   "execution_count": 5,
   "metadata": {
    "colab": {
     "base_uri": "https://localhost:8080/"
    },
    "id": "xAeG4RU-iD1i",
    "outputId": "ca8be627-c179-43ef-863e-e546cd527694"
   },
   "outputs": [
    {
     "name": "stdout",
     "output_type": "stream",
     "text": [
      "The size of training set: 12800\n",
      "The size of valid set: 3200\n",
      "The size of test set: 4000\n"
     ]
    }
   ],
   "source": [
    "from sklearn.model_selection import train_test_split\n",
    "\n",
    "source_train, source_test, target_train, target_test = train_test_split(sources, targets, test_size=0.2)\n",
    "source_train, source_valid, target_train, target_valid = train_test_split(source_train, target_train, test_size=0.2)\n",
    "\n",
    "train_texts = [(sent_source, sent_target) for sent_source, sent_target in zip(source_train, target_train)]\n",
    "valid_texts = [(sent_source, sent_target) for sent_source, sent_target in zip(source_valid, target_valid)]\n",
    "test_texts = [(sent_source, sent_target) for sent_source, sent_target in zip(source_test, target_test)]\n",
    "\n",
    "print('The size of training set:', len(train_texts))\n",
    "print('The size of valid set:', len(valid_texts))\n",
    "print('The size of test set:', len(test_texts))"
   ]
  },
  {
   "cell_type": "markdown",
   "metadata": {
    "id": "FRo90LeuiD1j"
   },
   "source": [
    "### 1.2 Data preprocessing\n",
    "1. Lowercase the text\n",
    "2. Tokenize the text\n",
    "3. Create vocabulary for the source language and target language, respectively."
   ]
  },
  {
   "cell_type": "code",
   "execution_count": 6,
   "metadata": {
    "colab": {
     "base_uri": "https://localhost:8080/",
     "height": 115,
     "referenced_widgets": [
      "1c5037f86b344d34af5e000c79254ede",
      "b432ad94586949a0b3fd9268c59a0579",
      "cbb11c4c5dbd41f0b4a37a0286d965a5",
      "10b6846c4e0745f9b76283d5e50320b9",
      "4813058b252046219fd28cbf8047474c",
      "c3ad580bf92b4b4a8a836850b502e2a6",
      "b6e8cfa3aa60403888c35ce5ef30fffb",
      "6fbe45a6315241ed8ab73f25770dbb79",
      "7b13828f55bd40d083506f9afde9f676",
      "3fd4c18e2d2e4a70bbde8660c162b89e",
      "25d0fdf8034e41ec88152b8213f0fc28",
      "fbd447453c18453fa43196bc476be057",
      "f5729fbd814a4d2bb1c2179563c22f3e",
      "4cfa4e4a23274e90b4c0140b46c2d4f8",
      "c4160b2e294447a1b4ca30782c0b1511",
      "91c03fbedf9b42f3a12cf091eb1e2f1d",
      "8c6b6afb8e8f4670a014df23a744f706",
      "9cad867b891448aca85660d61ead79e4",
      "a03a3db9fad2406f9e99b45319779667",
      "971030603cd3475c8cf5ed81d11e0eb3",
      "3a03fca411ea4c58986e003ce08b28c0",
      "ded5125834404b9bab256d438467605d"
     ]
    },
    "id": "Grc2W2SCiD1k",
    "outputId": "307f0c5e-af16-4bc6-c2ea-6f295e42d1c2"
   },
   "outputs": [
    {
     "name": "stdout",
     "output_type": "stream",
     "text": [
      "English vocab size: 12577\n",
      "Spanish vocab size: 19883\n"
     ]
    }
   ],
   "source": [
    "import re\n",
    "import string\n",
    "import spacy\n",
    "from itertools import chain\n",
    "from unicodedata import normalize, category\n",
    "\n",
    "nlp_en = spacy.load('en_core_web_sm')\n",
    "nlp_es = spacy.load('es_core_news_sm')\n",
    "\n",
    "\n",
    "def tokenize_en(text):\n",
    "    doc = nlp_en(text.lower())\n",
    "    return [token.text for token in doc]\n",
    "\n",
    "def tokenize_es(text):\n",
    "    doc = nlp_es(text.lower())\n",
    "    return [token.text for token in doc]\n",
    "\n",
    "def preprocess(texts, type='en'):\n",
    "    if type == 'en':\n",
    "        return [tokenize_en(text) for text in texts]\n",
    "    elif type == 'es':\n",
    "        return [tokenize_es(text) for text in texts]\n",
    "\n",
    "def generate_vocab(tokenized_texts):\n",
    "    # Flatten the input to 1d array, Thanks for: \n",
    "    # https://stackoverflow.com/questions/29244286/how-to-flatten-a-2d-list-to-1d-without-using-numpy\n",
    "    vocab = list(chain.from_iterable(tokenized_texts))\n",
    "    return list(set(vocab))\n",
    "\n",
    "source_tokens = preprocess(source_train, 'en')\n",
    "target_tokens = preprocess(target_train, 'es')\n",
    "\n",
    "source_vocab = generate_vocab(source_tokens)\n",
    "source_vocab.insert(0, '<unk>')\n",
    "source_token2idx = {token: idx for idx, token in enumerate(source_vocab)}\n",
    "\n",
    "target_vocab = generate_vocab(target_tokens)\n",
    "target_vocab.insert(0, '<end>')\n",
    "target_vocab.insert(0, '<start>')\n",
    "target_vocab.insert(0, '<unk>')\n",
    "target_token2idx = {token: idx for idx, token in enumerate(target_vocab)}\n",
    "\n",
    "print('English vocab size:', len(source_vocab))\n",
    "print('Spanish vocab size:', len(target_vocab))"
   ]
  },
  {
   "cell_type": "code",
   "execution_count": 7,
   "metadata": {
    "id": "46ue6rX0iD1l"
   },
   "outputs": [],
   "source": [
    "train_set = [([source_token2idx[t] for t in tokenize_en(source)], [target_token2idx[t] for t in tokenize_es(target)]) for source, target in train_texts]\n",
    "valid_set = [([source_token2idx[t] if t in source_token2idx else 0 for t in tokenize_en(source)], [target_token2idx[t] if t in target_token2idx else 0 for t in tokenize_es(target)]) for source, target in valid_texts]\n",
    "test_set = [([source_token2idx[t] if t in source_token2idx else 0 for t in tokenize_en(source)], [target_token2idx[t] if t in target_token2idx else 0 for t in tokenize_es(target)]) for source, target in test_texts]\n"
   ]
  },
  {
   "cell_type": "code",
   "execution_count": 8,
   "metadata": {},
   "outputs": [
    {
     "name": "stdout",
     "output_type": "stream",
     "text": [
      "1\n",
      "2\n",
      "0\n"
     ]
    }
   ],
   "source": [
    "print(target_vocab.index('<start>'))\n",
    "print(target_vocab.index('<end>'))\n",
    "print(target_vocab.index('<unk>'))"
   ]
  },
  {
   "cell_type": "markdown",
   "metadata": {
    "id": "x1IuruFjiD1l"
   },
   "source": [
    "## 2. Seq2Seq Model (50 points)\n",
    "In this section, you are required to \n",
    "1. Implement a seq2seq model which includes a CNN encoder and an RNN based decoder.  \n",
    "2. For each RNN cell, try a simple RNN, LSTM, and GRU.  \n",
    "3. Use the validation set to compute the BLEU score and report the best choice.\n",
    "\n",
    "**Note:** you could use any package you are comfortable with, such as PyTorch and TensorFlow."
   ]
  },
  {
   "cell_type": "markdown",
   "metadata": {
    "id": "IRkI51oIiD1m"
   },
   "source": [
    "### 2.1 Encoder (25 points)\n",
    "\n",
    "Try a simple RNN, LSTM, and GRU"
   ]
  },
  {
   "cell_type": "code",
   "execution_count": 76,
   "metadata": {
    "id": "QDih0oTfiD1n"
   },
   "outputs": [
    {
     "name": "stdout",
     "output_type": "stream",
     "text": [
      "active device = cuda\n"
     ]
    }
   ],
   "source": [
    "import torch\n",
    "import torch.nn as nn\n",
    "device = torch.device(\"cuda\" if torch.cuda.is_available() else \"cpu\")\n",
    "#device = 'cpu'\n",
    "print('active device =', device)\n",
    "\n",
    "class Encoder(nn.Module):\n",
    "\n",
    "    def __init__(self, vocab_size=None, embedding_size=None, cell_type = 'GRU', hidden_size=50, layers = 3, device=device):\n",
    "        super(Encoder, self).__init__()\n",
    "        self.cell_type = cell_type\n",
    "        self.layers = layers\n",
    "        self.vocab_size = vocab_size\n",
    "        self.device = device\n",
    "        self.embedding_size = embedding_size\n",
    "        self.hidden_size = hidden_size\n",
    "        self.embedding = nn.Embedding(vocab_size, embedding_size).to(device)\n",
    "        if cell_type == 'RNN':\n",
    "            self.cell = nn.RNN(embedding_size, hidden_size, batch_first=True, num_layers=layers).to(device)\n",
    "        elif cell_type == 'LSTM':\n",
    "            self.cell = nn.LSTM(embedding_size, hidden_size, batch_first=True, num_layers=layers).to(device)\n",
    "        else:\n",
    "            self.cell = nn.GRU(embedding_size, hidden_size, batch_first=True, num_layers=layers).to(device)\n",
    "\n",
    "    def forward(self, x, hidden):\n",
    "        if hidden == None:\n",
    "            if self.cell_type != 'LSTM':\n",
    "                hidden = torch.zeros(self.layers, x.shape[0], self.hidden_size).to(self.device)\n",
    "                #print('encoder, h0 shape-', hidden.shape)\n",
    "            else:\n",
    "                hidden = (torch.zeros(self.layers, x.shape[0], self.hidden_size).to(self.device), torch.zeros(self.layers, x.shape[0], self.hidden_size).to(self.device))\n",
    "                #print('encoder, h0 shape-', hidden[0].shape,'cell_state0-', hidden[1].shape)\n",
    "        '''\n",
    "        else: \n",
    "            try:\n",
    "                print('encoder, hn shape-', hidden.shape)\n",
    "            except:\n",
    "                print('encoder, hn shape-', hidden[0].shape,'cell_staten-', hidden[1].shape)\n",
    "        '''\n",
    "        #print(x.shape)\n",
    "        if(x<self.vocab_size):\n",
    "            x=OneHot(x.unsqueeze(0),self.vocab_size).squeeze()\n",
    "            #print(x.shape)\n",
    "            embedded = self.embedding(x.to(self.device, dtype = torch.int))\n",
    "            #print('normal x, encoder')\n",
    "        else:\n",
    "            embedded = self.embedding(OneHot(torch.zeros((1,1,1)),source_vocab).squeeze().to(self.device, dtype = torch.int))\n",
    "            #print('setting <unk> (1,1) x, encoder')\n",
    "        #print(embedded.shape)\n",
    "        #print(embedded.shape)\n",
    "        embedded = embedded.unsqueeze(0)\n",
    "        #print(embedded.shape)\n",
    "        try:\n",
    "            _, hidden = self.cell(embedded, hidden.to(device))\n",
    "        except:\n",
    "            _, hidden = self.cell(embedded, (hidden[0].to(device),hidden[1].to(device)))\n",
    "        #print(hidden.shape)\n",
    "        return hidden"
   ]
  },
  {
   "cell_type": "markdown",
   "metadata": {
    "id": "xjwALQhSTYZK"
   },
   "source": [
    "### 2.2 CNN Encoder (Extra Credit)\n",
    "\n",
    "A traditional encoder of Seq2Seq models is an RNN-based model, such as RNN, LSTM, or GRU. But CNNs can also be encoders. In this sub-section, you need to implement a CNN encoder for your Seq2Seq model.\n",
    "\n",
    "**Hint:** We already learned how CNN can be applied to sentence classification tasks. You can simply drop the last layer of TextCNN and output the context vector. Please check this [paper](https://arxiv.org/abs/1510.03820) for details."
   ]
  },
  {
   "cell_type": "code",
   "execution_count": 77,
   "metadata": {
    "id": "DdKJCEpCTf1Z"
   },
   "outputs": [],
   "source": [
    "class CNN_Encoder(nn.Module):\n",
    "\n",
    "    def __init__(self, vocab_size=None, embedding_size=None, n_f = 100, kernel = [3,4,5], device=device):\n",
    "        super(CNN_Encoder, self).__init__()\n",
    "        self.vocab_size = vocab_size\n",
    "        self.device = device\n",
    "        self.embedding_size = embedding_size\n",
    "        self.embedding = nn.Embedding(vocab_size, embedding_size).to(device)\n",
    "        self.cell = nn.ModuleList([nn.Conv2d(1, n_f, (k,embedding_size)) for k in kernel]).to(device)\n",
    "        self.relu = nn.ReLU()\n",
    "\n",
    "    def forward(self, x):\n",
    "        embedded = self.embedding(x.to(self.device)).unsqueeze(1)\n",
    "        h = [self.relu(cell(embedded)).squeeze(3) for cell in self.cell] \n",
    "        h = [torch.nn.functional.max_pool1d(vect, vect.shape[2]).squeeze(2) for vect in h]  \n",
    "        return h"
   ]
  },
  {
   "cell_type": "markdown",
   "metadata": {
    "id": "ss-VG5vNiD1n"
   },
   "source": [
    "### 2.3 Decoder (25 points)\n",
    "Try a simple RNN, LSTM, and GRU"
   ]
  },
  {
   "cell_type": "code",
   "execution_count": 78,
   "metadata": {
    "id": "Fd8la5tdiD1n"
   },
   "outputs": [],
   "source": [
    "class Decoder(nn.Module):\n",
    "\n",
    "    def __init__(self, vocab_size=None, embedding_size=None, cell_type = 'GRU', hidden_size=50, layers = 3, device=device):\n",
    "        super(Decoder, self).__init__()\n",
    "        self.vocab_size = vocab_size\n",
    "        self.device = device\n",
    "        self.embedding_size = embedding_size\n",
    "        self.hidden_size = hidden_size\n",
    "        self.embedding = nn.Embedding(vocab_size, embedding_size).to(device)\n",
    "        if cell_type == 'RNN':\n",
    "            self.cell = nn.RNN(embedding_size, hidden_size, batch_first=True, num_layers=layers).to(device)\n",
    "        elif cell_type == 'LSTM':\n",
    "            self.cell = nn.LSTM(embedding_size, hidden_size, batch_first=True, num_layers=layers).to(device)\n",
    "        else:\n",
    "            self.cell = nn.GRU(embedding_size, hidden_size, batch_first=True, num_layers=layers).to(device)\n",
    "        self.fc = nn.Linear(hidden_size, vocab_size).to(device)\n",
    "        self.relu = nn.ReLU()\n",
    "        self.softmax = nn.Softmax(dim=1)\n",
    "\n",
    "    def forward(self, x, hidden):\n",
    "        #x = x.unsqueeze(1)\n",
    "        #print(x.shape)\n",
    "        x = self.relu(x.to(device,dtype = torch.int))\n",
    "        embedded = self.embedding(x)\n",
    "        #print(embedded.shape, hidden.shape)\n",
    "        try:\n",
    "            output, hidden = self.cell(embedded, hidden.to(device))\n",
    "        except:\n",
    "            output, hidden = self.cell(embedded, (hidden[0].to(device),hidden[1].to(device)))\n",
    "        #print(output.shape, hidden.shape)\n",
    "        output = output.squeeze(1)\n",
    "        output = self.fc(output)\n",
    "        output = self.softmax(output)\n",
    "        #print('passed decoder')\n",
    "        #print(output.shape,' end')\n",
    "        return output, hidden"
   ]
  },
  {
   "cell_type": "markdown",
   "metadata": {
    "id": "LhN513adiD1o"
   },
   "source": [
    "## 3. Training your Seq2Seq (30 points)\n",
    "1. Implement training process\n",
    "2. Use validation set to calculate BLEU score\n",
    "3. Plot your training loss and validation loss (You could use the code in assignment 1)"
   ]
  },
  {
   "cell_type": "code",
   "execution_count": 79,
   "metadata": {
    "colab": {
     "base_uri": "https://localhost:8080/",
     "height": 130,
     "referenced_widgets": [
      "c84ebc1a6ca741018d83c1936b1be422",
      "0c01a1f6d91c49b0a67410f6cb8a18e1",
      "e994deb5cc774b8c992d1fef9ca491cd",
      "dd1c6e6c6f2942a58b5489aac83d50c8",
      "3a5087cb3ce14dd1afd3b7828a7e9ed6",
      "07232b2e28f94a70a0af393ef1ad87ee",
      "b0e1e38b93c441ee86bfc0054a31de97",
      "5cf1c95055c945478ee1c059b6b5e579",
      "b9f3bf6aff864fa9ad7e27c00f0c9956",
      "c2a3168f91164272b5e9c1ad85b8ab7d",
      "7700920d72904ee4a354d1abb084c321",
      "95103fdbcb8347eea1d2b0127ddd95f9",
      "419e2412579d4bea9d3e28f117ad5558",
      "d4e31dbd89584466b4bc211bfc0fb0d6",
      "0ed76c2f42064d5d8c117e13301888ad",
      "f4e1fb3c5f0f4af280e7cfec31c053a7",
      "55f24f817ed14715a27378a7595b141f",
      "aba48cdb05f44fe0a7ca92e56923e30a",
      "fa0197dff9df48df8ae65d0c1e910eb8",
      "7a98b501a56d41868eb92820b9db9f39",
      "9a33413b13b6428cbbaf9d6bfc8ad26c",
      "dcf3682c58d144d980ce6483fca8b127",
      "c272db6bc3dc4277ab62bc7f5a123a4e",
      "e4d03f615bb043878195bc7ffeba4485",
      "d367a9cfbf944907adfd530c0a2973f7",
      "de8c1ba10fa4458398d3b1fa1446cbb4",
      "a59f33caaf094baaa8b2ea821a4a6f27",
      "b7871a99edbb4f759384fd3019cb380d",
      "9daf6204a23e4a548a381e2e2b2f780d",
      "5a07fc2cf21d4b6ba82b01df4a9b9113",
      "c9af2095158f442380b556ec531234d0",
      "4bee1c29e8e14c6ca65eb6f77a79a0e4",
      "fcc1b976549d46b78bc1b9637ca84761"
     ]
    },
    "id": "nTv-Fk4OiD1p",
    "outputId": "45c91edc-05ae-43ab-fee0-5305861c9737"
   },
   "outputs": [],
   "source": [
    "# Use batch = 1 unless all sentences are padded to the same size!!!\n",
    "#For evaluation pass 1 sentense at a time!!!\n",
    "from nltk.translate.bleu_score import sentence_bleu\n",
    "import random\n",
    "import tqdm\n",
    "\n",
    "def Hot_to_word(tensor,vocab):\n",
    "    idx = torch.argmax(tensor,dim=2).squeeze()\n",
    "    #print(idx)\n",
    "    corpa = []\n",
    "    if len(idx.shape)>0:\n",
    "        for i in range(len(idx)):\n",
    "            corpa.append(vocab[int(idx[i])])\n",
    "    else:\n",
    "        corpa.append(vocab[int(idx)])\n",
    "    return corpa\n",
    "\n",
    "def OneHot(tensor,vocab_size):\n",
    "    try:\n",
    "        temp_tensor = torch.zeros((tensor.shape[0], tensor.shape[1],vocab_size))\n",
    "        for j in range(tensor.shape[0]):\n",
    "            for i in range(tensor.shape[1]):\n",
    "                temp_tensor[j,i,tensor[j,i]] = 1\n",
    "    except:\n",
    "        temp_tensor = torch.zeros((1, 1,vocab_size))\n",
    "        temp_tensor[0,0,0] = 1\n",
    "    return temp_tensor\n",
    "\n",
    "class EncoderDecoder(nn.Module):\n",
    "\n",
    "    def __init__(self, input_vocab_size, target_vocab_size, embedding_size=100, cell_type = 'GRU', hidden_size=50, layers = 3, device=device):\n",
    "        super(EncoderDecoder, self).__init__()\n",
    "        self.Encoder = Encoder(input_vocab_size, embedding_size, cell_type, hidden_size, layers).to(device)\n",
    "        self.Decoder = Decoder(target_vocab_size, embedding_size, cell_type, hidden_size, layers).to(device)\n",
    "        self.criterion = nn.CrossEntropyLoss()\n",
    "\n",
    "    def forward(self, xen, xesr, tf_ratio=0.5):\n",
    "        #print('forward called')\n",
    "        start = target_vocab.index('<start>')\n",
    "        end = target_vocab.index('<end>')\n",
    "        xen = torch.tensor(xen)\n",
    "        if xen.shape[1] == 0:\n",
    "            xen = torch.zeros((1,1))\n",
    "        #print(xen.shape, xen.shape[0],xen.shape[1])\n",
    "        batch_size = xen.shape[0]\n",
    "        input_len = xen.shape[1]\n",
    "        #adding the <end> tag\n",
    "        if(tf_ratio > 0):\n",
    "            #print(xesr)\n",
    "            #[xesr[i].append(end) for i in range(len(xesr))]\n",
    "            #print(xesr)\n",
    "            xes = torch.tensor(xesr)\n",
    "            #[xesr[i].pop(-1) for i in range(len(xesr))]\n",
    "            #print(xesr)\n",
    "            target_len = xes.shape[1]\n",
    "            yp = torch.zeros(batch_size, target_len, self.Decoder.vocab_size).to(device)\n",
    "        #print(xen.shape,xes.shape)\n",
    "        h = None\n",
    "        #print(yp.shape,h.shape)\n",
    "        for t in range(input_len):  \n",
    "            h = self.Encoder.forward(xen[:,t].unsqueeze(0).to(device),h)\n",
    "        #print(h.shape)\n",
    "        x = start * torch.ones((batch_size,1)) #The first input refers to the <start> tag regardless of context/translation...\n",
    "        #print(x.shape)\n",
    "        if tf_ratio > 0:\n",
    "            for t in range(target_len):\n",
    "                y, h = self.Decoder.forward(x, h)\n",
    "                #print(yp[:,t].shape,y.shape)\n",
    "                yp[:,t] = y.to(device)#y.argmax(1).to(device)\n",
    "                x = xes[:,t].unsqueeze(0) if random.random() < tf_ratio else yp[:,t].argmax(1).unsqueeze(0)\n",
    "                #print(x.shape)\n",
    "        else:\n",
    "            #yp = []\n",
    "            t = 0.\n",
    "            yy = torch.zeros((1,self.Decoder.vocab_size)).to(device,dtype=torch.float)\n",
    "            while x!=end and t<200: #t < 100 is a safety check so we dot have a runaway condition if the model is bad and never outputs <end> tag.\n",
    "                y, h = self.Decoder.forward(x, h)\n",
    "                yp = y.detach().to(device,dtype=torch.float)#y.argmax(1).to(device)\n",
    "                x = yp.argmax(1).unsqueeze(0)\n",
    "                #print(x)\n",
    "                yy = torch.cat((yy,yp),0)\n",
    "                #print(yy.shape)\n",
    "                t += 1\n",
    "                #print(x.shape)\n",
    "            yp = yy[1:,:]   \n",
    "            #print(yp.shape)\n",
    "        #yp = yp[:,:-1]\n",
    "        #print(yp.shape)\n",
    "        #print('forward complete')\n",
    "        return yp\n",
    "\n",
    "    def train(self, xen, xes, epochs=100, lr=0.01, batch_size=1, tf_ratio=0.5,xen_test = None, xes_test = None):\n",
    "        criterion = nn.CrossEntropyLoss()\n",
    "        optimizerE = torch.optim.Adam(self.Encoder.parameters(), lr=lr)\n",
    "        optimizerD = torch.optim.Adam(self.Decoder.parameters(), lr=lr)\n",
    "        loss_list = []\n",
    "        loss_temp = 0\n",
    "        test_loss = []\n",
    "        bleu = 0\n",
    "        y = xes\n",
    "        for eps in range(1, epochs+1):\n",
    "            print('Epoch', eps, 'of', epochs)\n",
    "            #Train loop\n",
    "            self.Encoder.train()\n",
    "            self.Decoder.train()\n",
    "            for i in tqdm.trange(0, len(y)-batch_size, batch_size):\n",
    "                optimizerE.zero_grad()\n",
    "                optimizerD.zero_grad()\n",
    "                yp = self.forward(xen[i:i+batch_size], xes[i:i+batch_size], tf_ratio).squeeze(0)\n",
    "                #print(xes[i:i+batch_size])\n",
    "                ye = OneHot(torch.tensor(y[i:i+batch_size]),self.Decoder.vocab_size).squeeze(0)\n",
    "                #print(ye.shape)\n",
    "                #print(yp.shape)\n",
    "                loss = criterion(yp.to(device,dtype=torch.float), ye.to(device,dtype=torch.float))\n",
    "                loss.backward()\n",
    "                optimizerD.step()\n",
    "                optimizerE.step()\n",
    "                loss_temp += float(loss)\n",
    "            loss_list.append(loss_temp/(int(len(xen)/batch_size)))\n",
    "            loss_temp = 0\n",
    "            #print('trained epoch')\n",
    "            #Test loop\n",
    "            \n",
    "            self.Encoder.eval()\n",
    "            self.Decoder.eval()\n",
    "            if xen_test != None and xes_test != None:\n",
    "                loss_av = 0.0\n",
    "                bleu = 0\n",
    "                #print('# of sens',len(xen_test))\n",
    "                for i in tqdm.trange(len(xen_test)):\n",
    "                    #print('# of words in sens',len(xen_test[i]),len(xes_test[i]))\n",
    "                    yp = self.forward([xen_test[i]],[xes_test[i]],0)\n",
    "                    ye = OneHot(torch.tensor([xes_test[i]]),self.Decoder.vocab_size).squeeze(0)\n",
    "                    #print(ye.shape)\n",
    "                    #print(yp.shape)\n",
    "                    if ye.shape[0] > yp.shape[0]:\n",
    "                        yp = torch.cat((yp,torch.zeros((ye.shape[0]-yp.shape[0],yp.shape[1])).to(device,dtype=torch.float)),0)\n",
    "                    elif ye.shape[0] < yp.shape[0]:\n",
    "                        yp = yp[:ye.shape[0],:]\n",
    "                    #print(ye.shape)\n",
    "                    #print(yp.shape)\n",
    "                    loss = criterion(yp.to(device,dtype=torch.float), ye.to(device,dtype=torch.float))\n",
    "                    loss_av += float(loss)\n",
    "                    \n",
    "                    ye_words = Hot_to_word(OneHot(torch.tensor([xes_test[i]]), len(target_vocab)),target_vocab)\n",
    "                    yp_words = Hot_to_word(yp.unsqueeze(0),target_vocab)\n",
    "                    \n",
    "                    bleu += self.BLEU([yp_words],ye_words)\n",
    "                    \n",
    "                test_loss.append(loss_av/len(xen_test))\n",
    "                #bleu /= len(xen_test)\n",
    "                print('        Train Loss:', loss_list[-1], 'Validation Loss:', test_loss[-1], 'Validation BLEU score:', bleu)\n",
    "            else:\n",
    "                print('        Train Loss:', loss_list[-1])\n",
    "                \n",
    "            #print('        Train Loss:', loss_list[-1])\n",
    "        plt.plot(loss_list,label='Cross-Entropy Loss')\n",
    "        plt.legend()\n",
    "        plt.title('Training loss')\n",
    "        plt.show()\n",
    "        plt.plot(test_loss,label='Cross-Entropy Loss')\n",
    "        plt.legend()\n",
    "        plt.title('Validation loss')\n",
    "        plt.show()\n",
    "        #print('Final average validation BLEU score =', bleu)\n",
    "        return loss_list, test_loss, bleu\n",
    "        \n",
    "    def BLEU(self, y, yp):\n",
    "        #yp = torch.tensor(yp).to(device,dtype=torch.float)\n",
    "        #y = OneHot(y,yp.shape[1]).to(device,dtype=torch.float).squeeze(0)\n",
    "        #print(y.shape)\n",
    "        #print(yp.shape)\n",
    "        return sentence_bleu(y, yp)"
   ]
  },
  {
   "cell_type": "code",
   "execution_count": 80,
   "metadata": {},
   "outputs": [],
   "source": [
    "x_train = []\n",
    "y_train = []\n",
    "x_test = []\n",
    "y_test = []\n",
    "for i in train_set:\n",
    "    #print(len(i[0]),len(i[1]))\n",
    "    if len(i[0])>2 and len(i[1])>2:\n",
    "        x_train.append(i[0])\n",
    "        try:\n",
    "            y_train.append(i[1][:i[1].index(target_vocab.index('<end>'))])\n",
    "        except:\n",
    "            y_train.append(i[1])\n",
    "    #print(y_train[-1])\n",
    "for i in valid_set:\n",
    "    if len(i[0])>2 and len(i[1])>2:\n",
    "        x_test.append(i[0])\n",
    "        y_test.append(i[1])"
   ]
  },
  {
   "cell_type": "code",
   "execution_count": 81,
   "metadata": {
    "scrolled": true
   },
   "outputs": [
    {
     "name": "stdout",
     "output_type": "stream",
     "text": [
      "\n",
      "RNN model:\n",
      "Epoch 1 of 10\n"
     ]
    },
    {
     "name": "stderr",
     "output_type": "stream",
     "text": [
      "100%|██████████| 99/99 [19:19<00:00, 11.71s/it]\n",
      "100%|██████████| 10/10 [00:51<00:00,  5.18s/it]\n"
     ]
    },
    {
     "name": "stdout",
     "output_type": "stream",
     "text": [
      "        Train Loss: 9.798644676208497 Validation Loss: 9.897619152069092 Validation BLEU score: 6.720628411503338e-232\n",
      "Epoch 2 of 10\n"
     ]
    },
    {
     "name": "stderr",
     "output_type": "stream",
     "text": [
      "100%|██████████| 99/99 [19:19<00:00, 11.71s/it]\n",
      "100%|██████████| 10/10 [00:51<00:00,  5.19s/it]\n"
     ]
    },
    {
     "name": "stdout",
     "output_type": "stream",
     "text": [
      "        Train Loss: 9.798644332885742 Validation Loss: 9.897619438171386 Validation BLEU score: 7.992219124248642e-232\n",
      "Epoch 3 of 10\n"
     ]
    },
    {
     "name": "stderr",
     "output_type": "stream",
     "text": [
      "100%|██████████| 99/99 [19:14<00:00, 11.67s/it]\n",
      "100%|██████████| 10/10 [00:51<00:00,  5.13s/it]\n"
     ]
    },
    {
     "name": "stdout",
     "output_type": "stream",
     "text": [
      "        Train Loss: 9.798643150329589 Validation Loss: 9.89761791229248 Validation BLEU score: 6.720628411503338e-232\n",
      "Epoch 4 of 10\n"
     ]
    },
    {
     "name": "stderr",
     "output_type": "stream",
     "text": [
      "100%|██████████| 99/99 [19:04<00:00, 11.56s/it]\n",
      "100%|██████████| 10/10 [00:51<00:00,  5.16s/it]\n"
     ]
    },
    {
     "name": "stdout",
     "output_type": "stream",
     "text": [
      "        Train Loss: 9.798642349243163 Validation Loss: 9.897617149353028 Validation BLEU score: 6.720628411503338e-232\n",
      "Epoch 5 of 10\n"
     ]
    },
    {
     "name": "stderr",
     "output_type": "stream",
     "text": [
      "100%|██████████| 99/99 [19:04<00:00, 11.56s/it]\n",
      "100%|██████████| 10/10 [00:51<00:00,  5.14s/it]\n"
     ]
    },
    {
     "name": "stdout",
     "output_type": "stream",
     "text": [
      "        Train Loss: 9.798641452789306 Validation Loss: 9.897615814208985 Validation BLEU score: 6.720628411503338e-232\n",
      "Epoch 6 of 10\n"
     ]
    },
    {
     "name": "stderr",
     "output_type": "stream",
     "text": [
      "100%|██████████| 99/99 [19:02<00:00, 11.54s/it]\n",
      "100%|██████████| 10/10 [00:51<00:00,  5.15s/it]\n"
     ]
    },
    {
     "name": "stdout",
     "output_type": "stream",
     "text": [
      "        Train Loss: 9.798638906478882 Validation Loss: 9.89761381149292 Validation BLEU score: 2.4779844049394904e-231\n",
      "Epoch 7 of 10\n"
     ]
    },
    {
     "name": "stderr",
     "output_type": "stream",
     "text": [
      "100%|██████████| 99/99 [19:06<00:00, 11.58s/it]\n",
      "100%|██████████| 10/10 [00:51<00:00,  5.15s/it]\n"
     ]
    },
    {
     "name": "stdout",
     "output_type": "stream",
     "text": [
      "        Train Loss: 9.798636503219605 Validation Loss: 9.89760980606079 Validation BLEU score: 2.4779844049394904e-231\n",
      "Epoch 8 of 10\n"
     ]
    },
    {
     "name": "stderr",
     "output_type": "stream",
     "text": [
      "100%|██████████| 99/99 [19:06<00:00, 11.58s/it]\n",
      "100%|██████████| 10/10 [00:51<00:00,  5.15s/it]\n"
     ]
    },
    {
     "name": "stdout",
     "output_type": "stream",
     "text": [
      "        Train Loss: 9.798631019592285 Validation Loss: 9.897602844238282 Validation BLEU score: 2.4779844049394904e-231\n",
      "Epoch 9 of 10\n"
     ]
    },
    {
     "name": "stderr",
     "output_type": "stream",
     "text": [
      "100%|██████████| 99/99 [19:02<00:00, 11.54s/it]\n",
      "100%|██████████| 10/10 [00:51<00:00,  5.16s/it]\n"
     ]
    },
    {
     "name": "stdout",
     "output_type": "stream",
     "text": [
      "        Train Loss: 9.79862084388733 Validation Loss: 9.897590351104736 Validation BLEU score: 2.4779844049394904e-231\n",
      "Epoch 10 of 10\n"
     ]
    },
    {
     "name": "stderr",
     "output_type": "stream",
     "text": [
      "100%|██████████| 99/99 [19:06<00:00, 11.59s/it]\n",
      "100%|██████████| 10/10 [00:51<00:00,  5.16s/it]"
     ]
    },
    {
     "name": "stdout",
     "output_type": "stream",
     "text": [
      "        Train Loss: 9.798607082366944 Validation Loss: 9.897576999664306 Validation BLEU score: 5.246081688774137e-231\n"
     ]
    },
    {
     "name": "stderr",
     "output_type": "stream",
     "text": [
      "\n"
     ]
    },
    {
     "data": {
      "image/png": "[encoded data removed]",
      "text/plain": [
       "<Figure size 432x288 with 1 Axes>"
      ]
     },
     "metadata": {
      "needs_background": "light"
     },
     "output_type": "display_data"
    },
    {
     "data": {
      "image/png": "[encoded data removed]",
      "text/plain": [
       "<Figure size 432x288 with 1 Axes>"
      ]
     },
     "metadata": {
      "needs_background": "light"
     },
     "output_type": "display_data"
    },
    {
     "name": "stdout",
     "output_type": "stream",
     "text": [
      "5.246081688774137e-231\n",
      "\n",
      "LSTM model:\n",
      "Epoch 1 of 10\n"
     ]
    },
    {
     "name": "stderr",
     "output_type": "stream",
     "text": [
      "100%|██████████| 99/99 [19:14<00:00, 11.67s/it]\n",
      "100%|██████████| 10/10 [00:58<00:00,  5.84s/it]\n"
     ]
    },
    {
     "name": "stdout",
     "output_type": "stream",
     "text": [
      "        Train Loss: 9.798644514083863 Validation Loss: 9.897620582580567 Validation BLEU score: 0\n",
      "Epoch 2 of 10\n"
     ]
    },
    {
     "name": "stderr",
     "output_type": "stream",
     "text": [
      "100%|██████████| 99/99 [19:13<00:00, 11.65s/it]\n",
      "100%|██████████| 10/10 [00:57<00:00,  5.77s/it]\n"
     ]
    },
    {
     "name": "stdout",
     "output_type": "stream",
     "text": [
      "        Train Loss: 9.798644046783448 Validation Loss: 9.897620582580567 Validation BLEU score: 4.7086799100740044e-231\n",
      "Epoch 3 of 10\n"
     ]
    },
    {
     "name": "stderr",
     "output_type": "stream",
     "text": [
      "100%|██████████| 99/99 [19:16<00:00, 11.69s/it]\n",
      "100%|██████████| 10/10 [00:57<00:00,  5.78s/it]\n"
     ]
    },
    {
     "name": "stdout",
     "output_type": "stream",
     "text": [
      "        Train Loss: 9.798643579483032 Validation Loss: 9.897620010375977 Validation BLEU score: 4.7086799100740044e-231\n",
      "Epoch 4 of 10\n"
     ]
    },
    {
     "name": "stderr",
     "output_type": "stream",
     "text": [
      "100%|██████████| 99/99 [19:00<00:00, 11.52s/it]\n",
      "100%|██████████| 10/10 [00:55<00:00,  5.57s/it]\n"
     ]
    },
    {
     "name": "stdout",
     "output_type": "stream",
     "text": [
      "        Train Loss: 9.798642816543579 Validation Loss: 9.897619533538819 Validation BLEU score: 5.264243607255987e-231\n",
      "Epoch 5 of 10\n"
     ]
    },
    {
     "name": "stderr",
     "output_type": "stream",
     "text": [
      "100%|██████████| 99/99 [18:59<00:00, 11.51s/it]\n",
      "100%|██████████| 10/10 [00:56<00:00,  5.63s/it]\n"
     ]
    },
    {
     "name": "stdout",
     "output_type": "stream",
     "text": [
      "        Train Loss: 9.798642368316651 Validation Loss: 9.897618103027344 Validation BLEU score: 4.084300218963095e-231\n",
      "Epoch 6 of 10\n"
     ]
    },
    {
     "name": "stderr",
     "output_type": "stream",
     "text": [
      "100%|██████████| 99/99 [19:00<00:00, 11.52s/it]\n",
      "100%|██████████| 10/10 [00:56<00:00,  5.61s/it]\n"
     ]
    },
    {
     "name": "stdout",
     "output_type": "stream",
     "text": [
      "        Train Loss: 9.798641567230225 Validation Loss: 9.897618007659911 Validation BLEU score: 5.264243607255987e-231\n",
      "Epoch 7 of 10\n"
     ]
    },
    {
     "name": "stderr",
     "output_type": "stream",
     "text": [
      "100%|██████████| 99/99 [19:01<00:00, 11.53s/it]\n",
      "100%|██████████| 10/10 [00:56<00:00,  5.61s/it]\n"
     ]
    },
    {
     "name": "stdout",
     "output_type": "stream",
     "text": [
      "        Train Loss: 9.79864073753357 Validation Loss: 9.897616100311279 Validation BLEU score: 3.5905033738610204e-231\n",
      "Epoch 8 of 10\n"
     ]
    },
    {
     "name": "stderr",
     "output_type": "stream",
     "text": [
      "100%|██████████| 99/99 [19:02<00:00, 11.54s/it]\n",
      "100%|██████████| 10/10 [00:56<00:00,  5.62s/it]\n"
     ]
    },
    {
     "name": "stdout",
     "output_type": "stream",
     "text": [
      "        Train Loss: 9.79863953590393 Validation Loss: 9.897613048553467 Validation BLEU score: 3.5905033738610204e-231\n",
      "Epoch 9 of 10\n"
     ]
    },
    {
     "name": "stderr",
     "output_type": "stream",
     "text": [
      "100%|██████████| 99/99 [19:00<00:00, 11.52s/it]\n",
      "100%|██████████| 10/10 [00:56<00:00,  5.61s/it]\n"
     ]
    },
    {
     "name": "stdout",
     "output_type": "stream",
     "text": [
      "        Train Loss: 9.79863492012024 Validation Loss: 9.897604370117188 Validation BLEU score: 3.5905033738610204e-231\n",
      "Epoch 10 of 10\n"
     ]
    },
    {
     "name": "stderr",
     "output_type": "stream",
     "text": [
      "100%|██████████| 99/99 [18:58<00:00, 11.50s/it]\n",
      "100%|██████████| 10/10 [00:55<00:00,  5.53s/it]"
     ]
    },
    {
     "name": "stdout",
     "output_type": "stream",
     "text": [
      "        Train Loss: 9.798612079620362 Validation Loss: 9.89755859375 Validation BLEU score: 3.5905033738610204e-231\n"
     ]
    },
    {
     "name": "stderr",
     "output_type": "stream",
     "text": [
      "\n"
     ]
    },
    {
     "data": {
      "image/png": "[encoded data removed]",
      "text/plain": [
       "<Figure size 432x288 with 1 Axes>"
      ]
     },
     "metadata": {
      "needs_background": "light"
     },
     "output_type": "display_data"
    },
    {
     "data": {
      "image/png": "[encoded data removed]",
      "text/plain": [
       "<Figure size 432x288 with 1 Axes>"
      ]
     },
     "metadata": {
      "needs_background": "light"
     },
     "output_type": "display_data"
    },
    {
     "name": "stdout",
     "output_type": "stream",
     "text": [
      "3.5905033738610204e-231\n",
      "\n",
      "GRU model:\n",
      "Epoch 1 of 10\n"
     ]
    },
    {
     "name": "stderr",
     "output_type": "stream",
     "text": [
      "100%|██████████| 99/99 [18:33<00:00, 11.24s/it]\n",
      "100%|██████████| 10/10 [00:50<00:00,  5.08s/it]\n"
     ]
    },
    {
     "name": "stdout",
     "output_type": "stream",
     "text": [
      "        Train Loss: 9.798643856048583 Validation Loss: 9.897619342803955 Validation BLEU score: 6.720628411503338e-232\n",
      "Epoch 2 of 10\n"
     ]
    },
    {
     "name": "stderr",
     "output_type": "stream",
     "text": [
      "100%|██████████| 99/99 [18:31<00:00, 11.22s/it]\n",
      "100%|██████████| 10/10 [00:53<00:00,  5.32s/it]\n"
     ]
    },
    {
     "name": "stdout",
     "output_type": "stream",
     "text": [
      "        Train Loss: 9.798642892837524 Validation Loss: 9.897619152069092 Validation BLEU score: 6.720628411503338e-232\n",
      "Epoch 3 of 10\n"
     ]
    },
    {
     "name": "stderr",
     "output_type": "stream",
     "text": [
      "100%|██████████| 99/99 [18:27<00:00, 11.18s/it]\n",
      "100%|██████████| 10/10 [00:53<00:00,  5.32s/it]\n"
     ]
    },
    {
     "name": "stdout",
     "output_type": "stream",
     "text": [
      "        Train Loss: 9.798642091751098 Validation Loss: 9.897618293762207 Validation BLEU score: 8.614911585158347e-232\n",
      "Epoch 4 of 10\n"
     ]
    },
    {
     "name": "stderr",
     "output_type": "stream",
     "text": [
      "100%|██████████| 99/99 [18:26<00:00, 11.18s/it]\n",
      "100%|██████████| 10/10 [00:52<00:00,  5.29s/it]\n"
     ]
    },
    {
     "name": "stdout",
     "output_type": "stream",
     "text": [
      "        Train Loss: 9.798640527725219 Validation Loss: 9.89761724472046 Validation BLEU score: 6.720628411503338e-232\n",
      "Epoch 5 of 10\n"
     ]
    },
    {
     "name": "stderr",
     "output_type": "stream",
     "text": [
      "100%|██████████| 99/99 [18:27<00:00, 11.19s/it]\n",
      "100%|██████████| 10/10 [00:53<00:00,  5.34s/it]\n"
     ]
    },
    {
     "name": "stdout",
     "output_type": "stream",
     "text": [
      "        Train Loss: 9.798639221191406 Validation Loss: 9.897613716125488 Validation BLEU score: 1.6159552844379352e-231\n",
      "Epoch 6 of 10\n"
     ]
    },
    {
     "name": "stderr",
     "output_type": "stream",
     "text": [
      "100%|██████████| 99/99 [18:27<00:00, 11.18s/it]\n",
      "100%|██████████| 10/10 [00:53<00:00,  5.32s/it]\n"
     ]
    },
    {
     "name": "stdout",
     "output_type": "stream",
     "text": [
      "        Train Loss: 9.798636493682862 Validation Loss: 9.897609424591064 Validation BLEU score: 3.4377872738833774e-231\n",
      "Epoch 7 of 10\n"
     ]
    },
    {
     "name": "stderr",
     "output_type": "stream",
     "text": [
      "100%|██████████| 99/99 [18:27<00:00, 11.18s/it]\n",
      "100%|██████████| 10/10 [00:52<00:00,  5.28s/it]\n"
     ]
    },
    {
     "name": "stdout",
     "output_type": "stream",
     "text": [
      "        Train Loss: 9.79863166809082 Validation Loss: 9.897600364685058 Validation BLEU score: 3.4377872738833774e-231\n",
      "Epoch 8 of 10\n"
     ]
    },
    {
     "name": "stderr",
     "output_type": "stream",
     "text": [
      "100%|██████████| 99/99 [18:22<00:00, 11.13s/it]\n",
      "100%|██████████| 10/10 [00:53<00:00,  5.30s/it]\n"
     ]
    },
    {
     "name": "stdout",
     "output_type": "stream",
     "text": [
      "        Train Loss: 9.798618001937866 Validation Loss: 9.897581100463867 Validation BLEU score: 8.67425185279243e-231\n",
      "Epoch 9 of 10\n"
     ]
    },
    {
     "name": "stderr",
     "output_type": "stream",
     "text": [
      "100%|██████████| 99/99 [18:22<00:00, 11.13s/it]\n",
      "100%|██████████| 10/10 [00:53<00:00,  5.32s/it]\n"
     ]
    },
    {
     "name": "stdout",
     "output_type": "stream",
     "text": [
      "        Train Loss: 9.798585014343262 Validation Loss: 9.897531127929687 Validation BLEU score: 6.633776388912467e-231\n",
      "Epoch 10 of 10\n"
     ]
    },
    {
     "name": "stderr",
     "output_type": "stream",
     "text": [
      "100%|██████████| 99/99 [18:23<00:00, 11.14s/it]\n",
      "100%|██████████| 10/10 [00:53<00:00,  5.33s/it]"
     ]
    },
    {
     "name": "stdout",
     "output_type": "stream",
     "text": [
      "        Train Loss: 9.798511018753052 Validation Loss: 9.897426414489747 Validation BLEU score: 6.633776388912467e-231\n"
     ]
    },
    {
     "name": "stderr",
     "output_type": "stream",
     "text": [
      "\n"
     ]
    },
    {
     "data": {
      "image/png": "[encoded data removed]",
      "text/plain": [
       "<Figure size 432x288 with 1 Axes>"
      ]
     },
     "metadata": {
      "needs_background": "light"
     },
     "output_type": "display_data"
    },
    {
     "data": {
      "image/png": "[encoded data removed]",
      "text/plain": [
       "<Figure size 432x288 with 1 Axes>"
      ]
     },
     "metadata": {
      "needs_background": "light"
     },
     "output_type": "display_data"
    },
    {
     "name": "stdout",
     "output_type": "stream",
     "text": [
      "6.633776388912467e-231\n",
      "\n",
      "The best model uses GRU cells.\n"
     ]
    }
   ],
   "source": [
    "#Training each GRU, LSTM, and RNN based models...\n",
    "import matplotlib.pyplot as plt\n",
    "\n",
    "print('\\nRNN model:')\n",
    "model1 = EncoderDecoder(input_vocab_size=len(source_vocab),target_vocab_size=len(target_vocab), embedding_size=10, cell_type = 'RNN', hidden_size=20, layers = 1)\n",
    "_,_,b1 = model1.train(xen = x_train[:100], xes = y_train[:100], xen_test = x_test[:10], xes_test = y_test[:10], epochs=10, lr=0.0001, tf_ratio=0.3)\n",
    "print(b1)\n",
    "print('\\nLSTM model:')\n",
    "model2 = EncoderDecoder(input_vocab_size=len(source_vocab),target_vocab_size=len(target_vocab), embedding_size=10, cell_type = 'LSTM', hidden_size=20, layers = 1)\n",
    "_,_,b2 = model2.train(xen = x_train[:100], xes = y_train[:100], xen_test = x_test[:10], xes_test = y_test[:10], epochs=10, lr=0.0001, tf_ratio=0.3)\n",
    "print(b2)\n",
    "print('\\nGRU model:')\n",
    "model3 = EncoderDecoder(input_vocab_size=len(source_vocab),target_vocab_size=len(target_vocab), embedding_size=10, cell_type = 'GRU', hidden_size=20, layers = 1)\n",
    "_,_,b3 = model3.train(xen = x_train[:100], xes = y_train[:100], xen_test = x_test[:10], xes_test = y_test[:10], epochs=10, lr=0.0001, tf_ratio=0.3)\n",
    "print(b3)\n",
    "\n",
    "if b1 > b2 and b1 > b3:\n",
    "    best_model = model1\n",
    "elif b2 > b1 and b2 > b3:\n",
    "    best_model = model2\n",
    "else:\n",
    "    best_model = model3\n",
    "    \n",
    "print('\\nThe best model uses', best_model.Encoder.cell_type,'cells.')"
   ]
  },
  {
   "cell_type": "markdown",
   "metadata": {},
   "source": [
    "***NOTE***\n",
    "I only treained on fraction of the data for a few eps due to time constraints. "
   ]
  },
  {
   "cell_type": "markdown",
   "metadata": {
    "id": "uxe83m14iD1p"
   },
   "source": [
    "## 4. Evaluation (20 points)\n",
    "1. Calculate the BLEU scores of the best seq2seq model obtained from section 2&3 on the test set.\n",
    "2. Select 20 test examples, For each example, print the translation result of your model along with the ground truth"
   ]
  },
  {
   "cell_type": "markdown",
   "metadata": {
    "id": "hzjyr6m4iD1q"
   },
   "source": [
    "### 4.1 Calculate the BLEU score on test set. (10 points)"
   ]
  },
  {
   "cell_type": "code",
   "execution_count": 88,
   "metadata": {
    "id": "SXpn2XqVuKAj"
   },
   "outputs": [
    {
     "name": "stdout",
     "output_type": "stream",
     "text": [
      "Average BLEU score on test set = 4.746194810385091e-231\n"
     ]
    }
   ],
   "source": [
    "x_testt = []\n",
    "y_testt = []\n",
    "for i in test_set:\n",
    "    if len(i[0])>2 and len(i[1])>2:\n",
    "        x_testt.append(i[0])\n",
    "        y_testt.append(i[1])\n",
    "b_av = 0\n",
    "k = len(x_testt)#200\n",
    "for i in range(k):#len(x_testt)):\n",
    "    yp = best_model.forward([x_testt[i]], y_testt[i],0)\n",
    "    #print(OneHot(torch.tensor([y_testt[i]]), len(target_vocab)).squeeze().shape,yp.shape)#OneHot(torch.tensor(y_testt[i]), len(target_vocab))\n",
    "    ye_words = Hot_to_word(OneHot(torch.tensor([y_testt[i]]), len(target_vocab)),target_vocab)\n",
    "    yp_words = Hot_to_word(yp.unsqueeze(0),target_vocab)\n",
    "    #print(ye_words,yp_words)\n",
    "    b = best_model.BLEU(yp_words,ye_words)\n",
    "    b_av += b\n",
    "print('Average BLEU score on test set =', b_av/k)"
   ]
  },
  {
   "cell_type": "markdown",
   "metadata": {
    "id": "O8hPGbnCuKdS"
   },
   "source": [
    "### 4.2 Translate 20 test exmaples. (10 points)"
   ]
  },
  {
   "cell_type": "code",
   "execution_count": 85,
   "metadata": {
    "id": "grHDUOdXuSy7"
   },
   "outputs": [
    {
     "name": "stdout",
     "output_type": "stream",
     "text": [
      "\n",
      "\n",
      " Sentence 1:\n",
      "\n",
      "Input in English:\n",
      "mr rübig , as president - in - office , i can not give you an answer for the simple reason that the statement by the portuguese prime minister on behalf of the fourteen heads of state and government of the member states of the european union was adopted <unk> and not by him in his capacity as president - in - office of the council of the european union . \n",
      "\n",
      "Predicted translation in Spanish:\n",
      "de de de de de de de de de de de de de de de de de de de de de de de de de de de de de de de de de de de de de de de de de de de de de de de de de de de de de de de de de de de de de de de de de de de de de de de de de de de de de de de de de de de de de de de de de de de de de de de de de de de de de de de de de de de de de de de de de de de de de de de de de de de de de de de de de de de de de de de de de de de de de de de de de de de de de de de de de de de de de de de de de de de de de de de de de de de de de de de de de de de de de de de de de de de de de de de de de de de de de de de de \n",
      "\n",
      "Ground Truth translation in Spanish:\n",
      "señoría , como presidente en ejercicio del consejo , no tengo respuesta alguna que darle por la simple razón de que la toma de posición del primer ministro portugués , en nombre de los catorce jefes de estado o de gobierno de los estados miembros de la unión europea , corresponde a un plano bilateral y no a la presidencia de la unión europea . \n",
      "\n",
      "\n",
      " Sentence 2:\n",
      "\n",
      "Input in English:\n",
      "the lesson learned from the european experience is that where wages are lowest , where the salary ratio is the most flexible , unemployment is the highest and where wages are highest , where the social relations are the best regulated , the unemployment rate is the lowest . \n",
      "\n",
      "Predicted translation in Spanish:\n",
      "de de de de de de de de de de de de de de de de de de de de de de de de de de de de de de de de de de de de de de de de de de de de de de de de de de de de de de de de de de de de de de de de de de de de de de de de de de de de de de de de de de de de de de de de de de de de de de de de de de de de de de de de de de de de de de de de de de de de de de de de de de de de de de de de de de de de de de de de de de de de de de de de de de de de de de de de de de de de de de de de de de de de de de de de de de de de de de de de de de de de de de de de de de de de de de de de de de de de de de de de \n",
      "\n",
      "Ground Truth translation in Spanish:\n",
      "la lección experimental de europa consiste en que allí donde existen los salarios más bajos , donde la relación salarial es más flexible , el desempleo es más elevado , y en que allí donde existen los mayores salarios , donde la regulación de las relaciones sociales está mejor regulada , el índice de desempleo es el más bajo . \n",
      "\n",
      "\n",
      " Sentence 3:\n",
      "\n",
      "Input in English:\n",
      "questions will be asked - questions which i shall have to put to you and the commission representatives in committee - on how things stand with the bse status of the member states and other third countries . \n",
      "\n",
      "Predicted translation in Spanish:\n",
      "de de de de de de de de de de de de de de de de de de de de de de de de de de de de de de de de de de de de de de de de de de de de de de de de de de de de de de de de de de de de de de de de de de de de de de de de de de de de de de de de de de de de de de de de de de de de de de de de de de de de de de de de de de de de de de de de de de de de de de de de de de de de de de de de de de de de de de de de de de de de de de de de de de de de de de de de de de de de de de de de de de de de de de de de de de de de de de de de de de de de de de de de de de de de de de de de de de de de de de de de \n",
      "\n",
      "Ground Truth translation in Spanish:\n",
      "se plantearán preguntas -y yo voy a tener que <unk> a usted y a los representantes de la comisión en nuestra comisión- sobre la <unk> sanitaria de los estados miembros y de terceros países respecto de la eeb . \n",
      "\n",
      "\n",
      " Sentence 4:\n",
      "\n",
      "Input in English:\n",
      "secondly , the swedish government is being consulted all the way . \n",
      "\n",
      "Predicted translation in Spanish:\n",
      "de de de de de de de de de de de de de de de de de de de de de de de de de de de de de de de de de de de de de de de de de de de de de de de de de de de de de de de de de de de de de de de de de de de de de de de de de de de de de de de de de de de de de de de de de de de de de de de de de de de de de de de de de de de de de de de de de de de de de de de de de de de de de de de de de de de de de de de de de de de de de de de de de de de de de de de de de de de de de de de de de de de de de de de de de de de de de de de de de de de de de de de de de de de de de de de de de de de de de de de de \n",
      "\n",
      "Ground Truth translation in Spanish:\n",
      "en segundo lugar , se ha mantenido un diálogo constante con el gobierno sueco . \n",
      "\n",
      "\n",
      " Sentence 5:\n",
      "\n",
      "Input in English:\n",
      "things could well continue in the same way . \n",
      "\n",
      "Predicted translation in Spanish:\n",
      "de de de de de de de de de de de de de de de de de de de de de de de de de de de de de de de de de de de de de de de de de de de de de de de de de de de de de de de de de de de de de de de de de de de de de de de de de de de de de de de de de de de de de de de de de de de de de de de de de de de de de de de de de de de de de de de de de de de de de de de de de de de de de de de de de de de de de de de de de de de de de de de de de de de de de de de de de de de de de de de de de de de de de de de de de de de de de de de de de de de de de de de de de de de de de de de de de de de de de de de de \n",
      "\n",
      "Ground Truth translation in Spanish:\n",
      "y así puede continuar . \n",
      "\n",
      "\n",
      " Sentence 6:\n",
      "\n",
      "Input in English:\n",
      "the truth is that the scant participation of women in centres of political representation and decision making demonstrates a democratic deficit which is incompatible with genuine democracy . \n",
      "\n",
      "Predicted translation in Spanish:\n",
      "de de de de de de de de de de de de de de de de de de de de de de de de de de de de de de de de de de de de de de de de de de de de de de de de de de de de de de de de de de de de de de de de de de de de de de de de de de de de de de de de de de de de de de de de de de de de de de de de de de de de de de de de de de de de de de de de de de de de de de de de de de de de de de de de de de de de de de de de de de de de de de de de de de de de de de de de de de de de de de de de de de de de de de de de de de de de de de de de de de de de de de de de de de de de de de de de de de de de de de de de \n",
      "\n",
      "Ground Truth translation in Spanish:\n",
      "la verdad es que la escasa participación de las mujeres en los centros de representación política y de adopción de decisiones entraña un déficit democrático incompatible con una verdadera democracia . \n",
      "\n",
      "\n",
      " Sentence 7:\n",
      "\n",
      "Input in English:\n",
      "at the commission 's suggestion , the mudflats at stegrennan were formally included in the boyne estuary special protection area , from which they had previously been excluded . \n",
      "\n",
      "Predicted translation in Spanish:\n",
      "de de de de de de de de de de de de de de de de de de de de de de de de de de de de de de de de de de de de de de de de de de de de de de de de de de de de de de de de de de de de de de de de de de de de de de de de de de de de de de de de de de de de de de de de de de de de de de de de de de de de de de de de de de de de de de de de de de de de de de de de de de de de de de de de de de de de de de de de de de de de de de de de de de de de de de de de de de de de de de de de de de de de de de de de de de de de de de de de de de de de de de de de de de de de de de de de de de de de de de de de \n",
      "\n",
      "Ground Truth translation in Spanish:\n",
      "a instancias de la comisión , se añadió formalmente la faja costera de stegrennan en la zona de protección especial del estuario del boyne , de la cual había sido excluida anteriormente . \n",
      "\n",
      "\n",
      " Sentence 8:\n",
      "\n",
      "Input in English:\n",
      "we must establish dialogue with other forces in angola , be attentive to the appeals of the angolan church and encourage the emergence of other national institutions , national reconciliation and new cultural and political forces not engaged in war . these can then eventually free this country and this people from the armed fate which they have been experiencing for decades . \n",
      "\n",
      "Predicted translation in Spanish:\n",
      "de de de de de de de de de de de de de de de de de de de de de de de de de de de de de de de de de de de de de de de de de de de de de de de de de de de de de de de de de de de de de de de de de de de de de de de de de de de de de de de de de de de de de de de de de de de de de de de de de de de de de de de de de de de de de de de de de de de de de de de de de de de de de de de de de de de de de de de de de de de de de de de de de de de de de de de de de de de de de de de de de de de de de de de de de de de de de de de de de de de de de de de de de de de de de de de de de de de de de de de de \n",
      "\n",
      "Ground Truth translation in Spanish:\n",
      "tenemos que renovar espacios de diálogo con otras fuerzas en angola , estar atentos a los llamamientos de la iglesia angolana , favorecer la aparición de otras instituciones nacionales , la reconciliación nacional y la aparición de nuevas fuerzas culturales y políticas , libres de guerra , y que un día puedan liberar por fin a ese país y a ese pueblo del destino <unk> en que vive desde hace decenios . \n"
     ]
    },
    {
     "name": "stdout",
     "output_type": "stream",
     "text": [
      "\n",
      "\n",
      " Sentence 9:\n",
      "\n",
      "Input in English:\n",
      "next session of un human rights commission \n",
      "\n",
      "Predicted translation in Spanish:\n",
      "de de de de de de de de de de de de de de de de de de de de de de de de de de de de de de de de de de de de de de de de de de de de de de de de de de de de de de de de de de de de de de de de de de de de de de de de de de de de de de de de de de de de de de de de de de de de de de de de de de de de de de de de de de de de de de de de de de de de de de de de de de de de de de de de de de de de de de de de de de de de de de de de de de de de de de de de de de de de de de de de de de de de de de de de de de de de de de de de de de de de de de de de de de de de de de de de de de de de de de de de \n",
      "\n",
      "Ground Truth translation in Spanish:\n",
      "próxima sesión \" derechos humanos \" de la onu \n",
      "\n",
      "\n",
      " Sentence 10:\n",
      "\n",
      "Input in English:\n",
      "if reforms are not got under way , we are in danger of eroding the economic basis of social policy , and a strong and competitive economy is now undoubtedly the most secure basis for effective social security . \n",
      "\n",
      "Predicted translation in Spanish:\n",
      "de de de de de de de de de de de de de de de de de de de de de de de de de de de de de de de de de de de de de de de de de de de de de de de de de de de de de de de de de de de de de de de de de de de de de de de de de de de de de de de de de de de de de de de de de de de de de de de de de de de de de de de de de de de de de de de de de de de de de de de de de de de de de de de de de de de de de de de de de de de de de de de de de de de de de de de de de de de de de de de de de de de de de de de de de de de de de de de de de de de de de de de de de de de de de de de de de de de de de de de de \n",
      "\n",
      "Ground Truth translation in Spanish:\n",
      "de no poner en marcha reformas , nos arriesgamos a <unk> la base económica de la política social , siendo una vez más una economía fuerte y competitiva la base más segura para mantener una buena estabilidad social . \n",
      "\n",
      "\n",
      " Sentence 11:\n",
      "\n",
      "Input in English:\n",
      "essentially - and with legal change - the commission will systematically move away from the current centralised system of prior approval of each financial transaction by the financial controller and instead strengthen the internal control systems within spending departments so that directors - general are better equipped to take responsibility for decisions with an impact on the european union budget . \n",
      "\n",
      "Predicted translation in Spanish:\n",
      "de de de de de de de de de de de de de de de de de de de de de de de de de de de de de de de de de de de de de de de de de de de de de de de de de de de de de de de de de de de de de de de de de de de de de de de de de de de de de de de de de de de de de de de de de de de de de de de de de de de de de de de de de de de de de de de de de de de de de de de de de de de de de de de de de de de de de de de de de de de de de de de de de de de de de de de de de de de de de de de de de de de de de de de de de de de de de de de de de de de de de de de de de de de de de de de de de de de de de de de de \n",
      "\n",
      "Ground Truth translation in Spanish:\n",
      "esencialmente - y con un cambio legislativo - la comisión se alejará sistemáticamente del actual sistema centralizado de la previa autorización del interventor financiero para cada transacción financiera y , en su lugar , reforzará los sistemas internos de control dentro de los departamentos de gasto de suerte que los directores generales estén mejor dotados para asumir la responsabilidad por las decisiones que tengan influencia en el presupuesto de la unión europea . \n",
      "\n",
      "\n",
      " Sentence 12:\n",
      "\n",
      "Input in English:\n",
      "israel can be certain that europe is in favour of its security and stability , but it can not ask us to be party to such grave violations . \n",
      "\n",
      "Predicted translation in Spanish:\n",
      "de de de de de de de de de de de de de de de de de de de de de de de de de de de de de de de de de de de de de de de de de de de de de de de de de de de de de de de de de de de de de de de de de de de de de de de de de de de de de de de de de de de de de de de de de de de de de de de de de de de de de de de de de de de de de de de de de de de de de de de de de de de de de de de de de de de de de de de de de de de de de de de de de de de de de de de de de de de de de de de de de de de de de de de de de de de de de de de de de de de de de de de de de de de de de de de de de de de de de de de de \n",
      "\n",
      "Ground Truth translation in Spanish:\n",
      "israel tiene la certeza de que europa está a favor de la seguridad y de la estabilidad de su estado , pero no puede <unk> que seamos <unk> de unas violaciones tan graves . \n",
      "\n",
      "\n",
      " Sentence 13:\n",
      "\n",
      "Input in English:\n",
      "as a result of this , i can confirm that the commission wholly or in principle <unk> nine of the fourteen amendments which have been adopted by the committee on the environment , public health and consumer policy . \n",
      "\n",
      "Predicted translation in Spanish:\n",
      "de de de de de de de de de de de de de de de de de de de de de de de de de de de de de de de de de de de de de de de de de de de de de de de de de de de de de de de de de de de de de de de de de de de de de de de de de de de de de de de de de de de de de de de de de de de de de de de de de de de de de de de de de de de de de de de de de de de de de de de de de de de de de de de de de de de de de de de de de de de de de de de de de de de de de de de de de de de de de de de de de de de de de de de de de de de de de de de de de de de de de de de de de de de de de de de de de de de de de de de de \n",
      "\n",
      "Ground Truth translation in Spanish:\n",
      "como resultado de esto , puedo confirmar que la comisión aprueba , totalmente o en principio , nueve de las catorce enmiendas aprobadas en la comisión . \n",
      "\n",
      "\n",
      " Sentence 14:\n",
      "\n",
      "Input in English:\n",
      "to delay , or perhaps even risk damage to the euro , would be <unk> . \n",
      "\n",
      "Predicted translation in Spanish:\n",
      "de de de de de de de de de de de de de de de de de de de de de de de de de de de de de de de de de de de de de de de de de de de de de de de de de de de de de de de de de de de de de de de de de de de de de de de de de de de de de de de de de de de de de de de de de de de de de de de de de de de de de de de de de de de de de de de de de de de de de de de de de de de de de de de de de de de de de de de de de de de de de de de de de de de de de de de de de de de de de de de de de de de de de de de de de de de de de de de de de de de de de de de de de de de de de de de de de de de de de de de de \n",
      "\n",
      "Ground Truth translation in Spanish:\n",
      "sería injustificable que <unk> este proceso e <unk> peligrar al euro . \n",
      "\n",
      "\n",
      " Sentence 15:\n",
      "\n",
      "Input in English:\n",
      "by means of amendments adopted in committee , parliament has tried to supplement the commission ' s work , by including new elements in the list of areas targeted for aid , and in particular external border areas and maritime border areas in southern europe . \n",
      "\n",
      "Predicted translation in Spanish:\n",
      "de de de de de de de de de de de de de de de de de de de de de de de de de de de de de de de de de de de de de de de de de de de de de de de de de de de de de de de de de de de de de de de de de de de de de de de de de de de de de de de de de de de de de de de de de de de de de de de de de de de de de de de de de de de de de de de de de de de de de de de de de de de de de de de de de de de de de de de de de de de de de de de de de de de de de de de de de de de de de de de de de de de de de de de de de de de de de de de de de de de de de de de de de de de de de de de de de de de de de de de de \n",
      "\n",
      "Ground Truth translation in Spanish:\n",
      "a través de las enmiendas aprobadas en comisión , el parlamento ha <unk> la forma de completar el trabajo de la comisión ejecutiva , introduciendo elementos nuevos en la lista de las zonas <unk> de las ayudas , sobre todo a favor de las fronteras externas y marítimas del sur de europa . \n",
      "\n",
      "\n",
      " Sentence 16:\n",
      "\n",
      "Input in English:\n",
      "hence the commission rightly cited the economic importance thereof in its proposals for draft directives , and i must say that i actually have every confidence in the commission ' s proposal . \n",
      "\n",
      "Predicted translation in Spanish:\n",
      "de de de de de de de de de de de de de de de de de de de de de de de de de de de de de de de de de de de de de de de de de de de de de de de de de de de de de de de de de de de de de de de de de de de de de de de de de de de de de de de de de de de de de de de de de de de de de de de de de de de de de de de de de de de de de de de de de de de de de de de de de de de de de de de de de de de de de de de de de de de de de de de de de de de de de de de de de de de de de de de de de de de de de de de de de de de de de de de de de de de de de de de de de de de de de de de de de de de de de de de de \n",
      "\n",
      "Ground Truth translation in Spanish:\n",
      "por tanto , es con razón que la comisión subraya esta importancia económica en las propuestas que formula con respecto a la propuesta de directiva , y debo admitir que la propuesta de la comisión me <unk> bastante . \n"
     ]
    },
    {
     "name": "stdout",
     "output_type": "stream",
     "text": [
      "\n",
      "\n",
      " Sentence 17:\n",
      "\n",
      "Input in English:\n",
      "they may have at least exploited some ambiguity in the legal and contractual framework in force . \n",
      "\n",
      "Predicted translation in Spanish:\n",
      "de de de de de de de de de de de de de de de de de de de de de de de de de de de de de de de de de de de de de de de de de de de de de de de de de de de de de de de de de de de de de de de de de de de de de de de de de de de de de de de de de de de de de de de de de de de de de de de de de de de de de de de de de de de de de de de de de de de de de de de de de de de de de de de de de de de de de de de de de de de de de de de de de de de de de de de de de de de de de de de de de de de de de de de de de de de de de de de de de de de de de de de de de de de de de de de de de de de de de de de de \n",
      "\n",
      "Ground Truth translation in Spanish:\n",
      "es posible que , cuando menos , hayan <unk> una cierta ambigüedad del marco jurídico y <unk> en vigor . \n",
      "\n",
      "\n",
      " Sentence 18:\n",
      "\n",
      "Input in English:\n",
      "though our proposal to withdraw political invitations to any austrian government representative to this european parliament has not carried today , i give notice that we will further this proposal to ensure that any action within the powers of this european parliament to combat the return of neo - nazis to government in europe can and will be taken . \n",
      "\n",
      "Predicted translation in Spanish:\n",
      "de de de de de de de de de de de de de de de de de de de de de de de de de de de de de de de de de de de de de de de de de de de de de de de de de de de de de de de de de de de de de de de de de de de de de de de de de de de de de de de de de de de de de de de de de de de de de de de de de de de de de de de de de de de de de de de de de de de de de de de de de de de de de de de de de de de de de de de de de de de de de de de de de de de de de de de de de de de de de de de de de de de de de de de de de de de de de de de de de de de de de de de de de de de de de de de de de de de de de de de de \n",
      "\n",
      "Ground Truth translation in Spanish:\n",
      "a pesar de que nuestra propuesta de retirar las <unk> políticas al parlamento europeo a cualquier representante del gobierno austríaco no ha <unk> hoy , les hago saber que vamos a seguir promoviendo esta propuesta para garantizar que , dentro de las competencias de este parlamento europeo , se pueda y efectivamente se tome cualquier acción para combatir el retorno de los neonazis a un gobierno europeo . \n",
      "\n",
      "\n",
      " Sentence 19:\n",
      "\n",
      "Input in English:\n",
      "the members of parliament from the <unk> <unk> party shall not be voting in favour of these reports on european competition policy . \n",
      "\n",
      "Predicted translation in Spanish:\n",
      "de de de de de de de de de de de de de de de de de de de de de de de de de de de de de de de de de de de de de de de de de de de de de de de de de de de de de de de de de de de de de de de de de de de de de de de de de de de de de de de de de de de de de de de de de de de de de de de de de de de de de de de de de de de de de de de de de de de de de de de de de de de de de de de de de de de de de de de de de de de de de de de de de de de de de de de de de de de de de de de de de de de de de de de de de de de de de de de de de de de de de de de de de de de de de de de de de de de de de de de de \n",
      "\n",
      "Ground Truth translation in Spanish:\n",
      ". ( fr ) los elegidos de la lucha <unk> no votarán a favor de estos informes sobre la política de competencia europea . \n",
      "\n",
      "\n",
      " Sentence 20:\n",
      "\n",
      "Input in English:\n",
      "i regard this as absolutely unacceptable and would ask you to contact the british authorities in order to ensure that this does not happen again and that mrs lucas receives an apology . i have written to you in this respect together with my colleague , mrs hautala . \n",
      "\n",
      "Predicted translation in Spanish:\n",
      "de de de de de de de de de de de de de de de de de de de de de de de de de de de de de de de de de de de de de de de de de de de de de de de de de de de de de de de de de de de de de de de de de de de de de de de de de de de de de de de de de de de de de de de de de de de de de de de de de de de de de de de de de de de de de de de de de de de de de de de de de de de de de de de de de de de de de de de de de de de de de de de de de de de de de de de de de de de de de de de de de de de de de de de de de de de de de de de de de de de de de de de de de de de de de de de de de de de de de de de de \n",
      "\n",
      "Ground Truth translation in Spanish:\n",
      "considero que es absolutamente inaceptable y le pediré -le he escrito además con mi colega , la sra . hautala , a propósito de <unk> que intervenga ante las autoridades británicas para que tales hechos no se repitan y para que se le presenten <unk> a la sra . lucas . \n"
     ]
    }
   ],
   "source": [
    "for i in range(20):#len(x_testt)):\n",
    "    x_words = Hot_to_word(OneHot(torch.tensor([x_testt[i]]), len(source_vocab)),source_vocab)\n",
    "    yp = best_model.forward([x_testt[i]], y_testt[i],0)\n",
    "    ye_words = Hot_to_word(OneHot(torch.tensor([y_testt[i]]), len(target_vocab)),target_vocab)\n",
    "    yp_words = Hot_to_word(yp.unsqueeze(0),target_vocab)\n",
    "    print('\\n\\n Sentence '+str(int(i+1))+':')\n",
    "    print('\\nInput in English:')\n",
    "    print(''.join(str(j)+' ' for j in x_words))\n",
    "    print('\\nPredicted translation in Spanish:')\n",
    "    print(''.join(str(j)+' ' for j in yp_words))\n",
    "    print('\\nGround Truth translation in Spanish:')\n",
    "    print(''.join(str(j)+' ' for j in ye_words))"
   ]
  }
 ],
 "metadata": {
  "accelerator": "GPU",
  "colab": {
   "collapsed_sections": [],
   "machine_shape": "hm",
   "name": "CS584A_21F_Assignment4_sol.ipynb",
   "provenance": []
  },
  "kernelspec": {
   "display_name": "Python 3 (ipykernel)",
   "language": "python",
   "name": "python3"
  },
  "language_info": {
   "codemirror_mode": {
    "name": "ipython",
    "version": 3
   },
   "file_extension": ".py",
   "mimetype": "text/x-python",
   "name": "python",
   "nbconvert_exporter": "python",
   "pygments_lexer": "ipython3",
   "version": "3.8.12"
  },
  "widgets": {
   "application/vnd.jupyter.widget-state+json": {
    "001737d26aa044be96ac8dfa296a61e8": {
     "model_module": "@jupyter-widgets/controls",
     "model_module_version": "1.5.0",
     "model_name": "DescriptionStyleModel",
     "state": {
      "_model_module": "@jupyter-widgets/controls",
      "_model_module_version": "1.5.0",
      "_model_name": "DescriptionStyleModel",
      "_view_count": null,
      "_view_module": "@jupyter-widgets/base",
      "_view_module_version": "1.2.0",
      "_view_name": "StyleView",
      "description_width": ""
     }
    },
    "07232b2e28f94a70a0af393ef1ad87ee": {
     "model_module": "@jupyter-widgets/controls",
     "model_module_version": "1.5.0",
     "model_name": "DescriptionStyleModel",
     "state": {
      "_model_module": "@jupyter-widgets/controls",
      "_model_module_version": "1.5.0",
      "_model_name": "DescriptionStyleModel",
      "_view_count": null,
      "_view_module": "@jupyter-widgets/base",
      "_view_module_version": "1.2.0",
      "_view_name": "StyleView",
      "description_width": ""
     }
    },
    "0c01a1f6d91c49b0a67410f6cb8a18e1": {
     "model_module": "@jupyter-widgets/base",
     "model_module_version": "1.2.0",
     "model_name": "LayoutModel",
     "state": {
      "_model_module": "@jupyter-widgets/base",
      "_model_module_version": "1.2.0",
      "_model_name": "LayoutModel",
      "_view_count": null,
      "_view_module": "@jupyter-widgets/base",
      "_view_module_version": "1.2.0",
      "_view_name": "LayoutView",
      "align_content": null,
      "align_items": null,
      "align_self": null,
      "border": null,
      "bottom": null,
      "display": null,
      "flex": null,
      "flex_flow": null,
      "grid_area": null,
      "grid_auto_columns": null,
      "grid_auto_flow": null,
      "grid_auto_rows": null,
      "grid_column": null,
      "grid_gap": null,
      "grid_row": null,
      "grid_template_areas": null,
      "grid_template_columns": null,
      "grid_template_rows": null,
      "height": null,
      "justify_content": null,
      "justify_items": null,
      "left": null,
      "margin": null,
      "max_height": null,
      "max_width": null,
      "min_height": null,
      "min_width": null,
      "object_fit": null,
      "object_position": null,
      "order": null,
      "overflow": null,
      "overflow_x": null,
      "overflow_y": null,
      "padding": null,
      "right": null,
      "top": null,
      "visibility": null,
      "width": null
     }
    },
    "0ed76c2f42064d5d8c117e13301888ad": {
     "model_module": "@jupyter-widgets/controls",
     "model_module_version": "1.5.0",
     "model_name": "FloatProgressModel",
     "state": {
      "_dom_classes": [],
      "_model_module": "@jupyter-widgets/controls",
      "_model_module_version": "1.5.0",
      "_model_name": "FloatProgressModel",
      "_view_count": null,
      "_view_module": "@jupyter-widgets/controls",
      "_view_module_version": "1.5.0",
      "_view_name": "ProgressView",
      "bar_style": "success",
      "description": "",
      "description_tooltip": null,
      "layout": "IPY_MODEL_7a98b501a56d41868eb92820b9db9f39",
      "max": 300,
      "min": 0,
      "orientation": "horizontal",
      "style": "IPY_MODEL_fa0197dff9df48df8ae65d0c1e910eb8",
      "value": 300
     }
    },
    "10b6846c4e0745f9b76283d5e50320b9": {
     "model_module": "@jupyter-widgets/controls",
     "model_module_version": "1.5.0",
     "model_name": "FloatProgressModel",
     "state": {
      "_dom_classes": [],
      "_model_module": "@jupyter-widgets/controls",
      "_model_module_version": "1.5.0",
      "_model_name": "FloatProgressModel",
      "_view_count": null,
      "_view_module": "@jupyter-widgets/controls",
      "_view_module_version": "1.5.0",
      "_view_name": "ProgressView",
      "bar_style": "success",
      "description": "",
      "description_tooltip": null,
      "layout": "IPY_MODEL_7b13828f55bd40d083506f9afde9f676",
      "max": 12800,
      "min": 0,
      "orientation": "horizontal",
      "style": "IPY_MODEL_6fbe45a6315241ed8ab73f25770dbb79",
      "value": 12800
     }
    },
    "1c5037f86b344d34af5e000c79254ede": {
     "model_module": "@jupyter-widgets/controls",
     "model_module_version": "1.5.0",
     "model_name": "HBoxModel",
     "state": {
      "_dom_classes": [],
      "_model_module": "@jupyter-widgets/controls",
      "_model_module_version": "1.5.0",
      "_model_name": "HBoxModel",
      "_view_count": null,
      "_view_module": "@jupyter-widgets/controls",
      "_view_module_version": "1.5.0",
      "_view_name": "HBoxView",
      "box_style": "",
      "children": [
       "IPY_MODEL_cbb11c4c5dbd41f0b4a37a0286d965a5",
       "IPY_MODEL_10b6846c4e0745f9b76283d5e50320b9",
       "IPY_MODEL_4813058b252046219fd28cbf8047474c"
      ],
      "layout": "IPY_MODEL_b432ad94586949a0b3fd9268c59a0579"
     }
    },
    "21381f8f9cc6444697cf03e34a1b9516": {
     "model_module": "@jupyter-widgets/controls",
     "model_module_version": "1.5.0",
     "model_name": "DescriptionStyleModel",
     "state": {
      "_model_module": "@jupyter-widgets/controls",
      "_model_module_version": "1.5.0",
      "_model_name": "DescriptionStyleModel",
      "_view_count": null,
      "_view_module": "@jupyter-widgets/base",
      "_view_module_version": "1.2.0",
      "_view_name": "StyleView",
      "description_width": ""
     }
    },
    "21e6fc624003465d9b50d9d3d8dbf9f1": {
     "model_module": "@jupyter-widgets/controls",
     "model_module_version": "1.5.0",
     "model_name": "HBoxModel",
     "state": {
      "_dom_classes": [],
      "_model_module": "@jupyter-widgets/controls",
      "_model_module_version": "1.5.0",
      "_model_name": "HBoxModel",
      "_view_count": null,
      "_view_module": "@jupyter-widgets/controls",
      "_view_module_version": "1.5.0",
      "_view_name": "HBoxView",
      "box_style": "",
      "children": [
       "IPY_MODEL_e18714bcfb52467b8f82e353f26f0e3c",
       "IPY_MODEL_da8d5abf97ac4a6ab2e9c72fad5dbc34",
       "IPY_MODEL_6ee75559e53d44cf97eef8ea1acc74c1"
      ],
      "layout": "IPY_MODEL_a881efb4bf044a4b9de088519f0ce17b"
     }
    },
    "25d0fdf8034e41ec88152b8213f0fc28": {
     "model_module": "@jupyter-widgets/base",
     "model_module_version": "1.2.0",
     "model_name": "LayoutModel",
     "state": {
      "_model_module": "@jupyter-widgets/base",
      "_model_module_version": "1.2.0",
      "_model_name": "LayoutModel",
      "_view_count": null,
      "_view_module": "@jupyter-widgets/base",
      "_view_module_version": "1.2.0",
      "_view_name": "LayoutView",
      "align_content": null,
      "align_items": null,
      "align_self": null,
      "border": null,
      "bottom": null,
      "display": null,
      "flex": null,
      "flex_flow": null,
      "grid_area": null,
      "grid_auto_columns": null,
      "grid_auto_flow": null,
      "grid_auto_rows": null,
      "grid_column": null,
      "grid_gap": null,
      "grid_row": null,
      "grid_template_areas": null,
      "grid_template_columns": null,
      "grid_template_rows": null,
      "height": null,
      "justify_content": null,
      "justify_items": null,
      "left": null,
      "margin": null,
      "max_height": null,
      "max_width": null,
      "min_height": null,
      "min_width": null,
      "object_fit": null,
      "object_position": null,
      "order": null,
      "overflow": null,
      "overflow_x": null,
      "overflow_y": null,
      "padding": null,
      "right": null,
      "top": null,
      "visibility": null,
      "width": null
     }
    },
    "27bc46057813424191fdaa7df087990b": {
     "model_module": "@jupyter-widgets/controls",
     "model_module_version": "1.5.0",
     "model_name": "ProgressStyleModel",
     "state": {
      "_model_module": "@jupyter-widgets/controls",
      "_model_module_version": "1.5.0",
      "_model_name": "ProgressStyleModel",
      "_view_count": null,
      "_view_module": "@jupyter-widgets/base",
      "_view_module_version": "1.2.0",
      "_view_name": "StyleView",
      "bar_color": null,
      "description_width": ""
     }
    },
    "34ef29391780457bb2cbb46fa2556c4f": {
     "model_module": "@jupyter-widgets/controls",
     "model_module_version": "1.5.0",
     "model_name": "HBoxModel",
     "state": {
      "_dom_classes": [],
      "_model_module": "@jupyter-widgets/controls",
      "_model_module_version": "1.5.0",
      "_model_name": "HBoxModel",
      "_view_count": null,
      "_view_module": "@jupyter-widgets/controls",
      "_view_module_version": "1.5.0",
      "_view_name": "HBoxView",
      "box_style": "",
      "children": [
       "IPY_MODEL_efd1538f6b764e9e9ede7bd470145b84",
       "IPY_MODEL_e085d1fb0e7c4061a30867b095dd649d",
       "IPY_MODEL_5b8372f868ff4ba68aa262631c7d7379"
      ],
      "layout": "IPY_MODEL_8bd0d4413e234b3eafb65bd984776f6b"
     }
    },
    "3a03fca411ea4c58986e003ce08b28c0": {
     "model_module": "@jupyter-widgets/controls",
     "model_module_version": "1.5.0",
     "model_name": "DescriptionStyleModel",
     "state": {
      "_model_module": "@jupyter-widgets/controls",
      "_model_module_version": "1.5.0",
      "_model_name": "DescriptionStyleModel",
      "_view_count": null,
      "_view_module": "@jupyter-widgets/base",
      "_view_module_version": "1.2.0",
      "_view_name": "StyleView",
      "description_width": ""
     }
    },
    "3a5087cb3ce14dd1afd3b7828a7e9ed6": {
     "model_module": "@jupyter-widgets/controls",
     "model_module_version": "1.5.0",
     "model_name": "HTMLModel",
     "state": {
      "_dom_classes": [],
      "_model_module": "@jupyter-widgets/controls",
      "_model_module_version": "1.5.0",
      "_model_name": "HTMLModel",
      "_view_count": null,
      "_view_module": "@jupyter-widgets/controls",
      "_view_module_version": "1.5.0",
      "_view_name": "HTMLView",
      "description": "",
      "description_tooltip": null,
      "layout": "IPY_MODEL_7700920d72904ee4a354d1abb084c321",
      "placeholder": "​",
      "style": "IPY_MODEL_c2a3168f91164272b5e9c1ad85b8ab7d",
      "value": " 3000/3000 [02:25&lt;00:00, 26.99it/s]"
     }
    },
    "3fd4c18e2d2e4a70bbde8660c162b89e": {
     "model_module": "@jupyter-widgets/controls",
     "model_module_version": "1.5.0",
     "model_name": "DescriptionStyleModel",
     "state": {
      "_model_module": "@jupyter-widgets/controls",
      "_model_module_version": "1.5.0",
      "_model_name": "DescriptionStyleModel",
      "_view_count": null,
      "_view_module": "@jupyter-widgets/base",
      "_view_module_version": "1.2.0",
      "_view_name": "StyleView",
      "description_width": ""
     }
    },
    "419e2412579d4bea9d3e28f117ad5558": {
     "model_module": "@jupyter-widgets/base",
     "model_module_version": "1.2.0",
     "model_name": "LayoutModel",
     "state": {
      "_model_module": "@jupyter-widgets/base",
      "_model_module_version": "1.2.0",
      "_model_name": "LayoutModel",
      "_view_count": null,
      "_view_module": "@jupyter-widgets/base",
      "_view_module_version": "1.2.0",
      "_view_name": "LayoutView",
      "align_content": null,
      "align_items": null,
      "align_self": null,
      "border": null,
      "bottom": null,
      "display": null,
      "flex": null,
      "flex_flow": null,
      "grid_area": null,
      "grid_auto_columns": null,
      "grid_auto_flow": null,
      "grid_auto_rows": null,
      "grid_column": null,
      "grid_gap": null,
      "grid_row": null,
      "grid_template_areas": null,
      "grid_template_columns": null,
      "grid_template_rows": null,
      "height": null,
      "justify_content": null,
      "justify_items": null,
      "left": null,
      "margin": null,
      "max_height": null,
      "max_width": null,
      "min_height": null,
      "min_width": null,
      "object_fit": null,
      "object_position": null,
      "order": null,
      "overflow": null,
      "overflow_x": null,
      "overflow_y": null,
      "padding": null,
      "right": null,
      "top": null,
      "visibility": null,
      "width": null
     }
    },
    "4813058b252046219fd28cbf8047474c": {
     "model_module": "@jupyter-widgets/controls",
     "model_module_version": "1.5.0",
     "model_name": "HTMLModel",
     "state": {
      "_dom_classes": [],
      "_model_module": "@jupyter-widgets/controls",
      "_model_module_version": "1.5.0",
      "_model_name": "HTMLModel",
      "_view_count": null,
      "_view_module": "@jupyter-widgets/controls",
      "_view_module_version": "1.5.0",
      "_view_name": "HTMLView",
      "description": "",
      "description_tooltip": null,
      "layout": "IPY_MODEL_25d0fdf8034e41ec88152b8213f0fc28",
      "placeholder": "​",
      "style": "IPY_MODEL_3fd4c18e2d2e4a70bbde8660c162b89e",
      "value": " 12800/12800 [01:59&lt;00:00, 112.24it/s]"
     }
    },
    "4bee1c29e8e14c6ca65eb6f77a79a0e4": {
     "model_module": "@jupyter-widgets/controls",
     "model_module_version": "1.5.0",
     "model_name": "DescriptionStyleModel",
     "state": {
      "_model_module": "@jupyter-widgets/controls",
      "_model_module_version": "1.5.0",
      "_model_name": "DescriptionStyleModel",
      "_view_count": null,
      "_view_module": "@jupyter-widgets/base",
      "_view_module_version": "1.2.0",
      "_view_name": "StyleView",
      "description_width": ""
     }
    },
    "4cfa4e4a23274e90b4c0140b46c2d4f8": {
     "model_module": "@jupyter-widgets/controls",
     "model_module_version": "1.5.0",
     "model_name": "HTMLModel",
     "state": {
      "_dom_classes": [],
      "_model_module": "@jupyter-widgets/controls",
      "_model_module_version": "1.5.0",
      "_model_name": "HTMLModel",
      "_view_count": null,
      "_view_module": "@jupyter-widgets/controls",
      "_view_module_version": "1.5.0",
      "_view_name": "HTMLView",
      "description": "",
      "description_tooltip": null,
      "layout": "IPY_MODEL_9cad867b891448aca85660d61ead79e4",
      "placeholder": "​",
      "style": "IPY_MODEL_8c6b6afb8e8f4670a014df23a744f706",
      "value": "es: 100%"
     }
    },
    "55f24f817ed14715a27378a7595b141f": {
     "model_module": "@jupyter-widgets/controls",
     "model_module_version": "1.5.0",
     "model_name": "DescriptionStyleModel",
     "state": {
      "_model_module": "@jupyter-widgets/controls",
      "_model_module_version": "1.5.0",
      "_model_name": "DescriptionStyleModel",
      "_view_count": null,
      "_view_module": "@jupyter-widgets/base",
      "_view_module_version": "1.2.0",
      "_view_name": "StyleView",
      "description_width": ""
     }
    },
    "5a07fc2cf21d4b6ba82b01df4a9b9113": {
     "model_module": "@jupyter-widgets/controls",
     "model_module_version": "1.5.0",
     "model_name": "ProgressStyleModel",
     "state": {
      "_model_module": "@jupyter-widgets/controls",
      "_model_module_version": "1.5.0",
      "_model_name": "ProgressStyleModel",
      "_view_count": null,
      "_view_module": "@jupyter-widgets/base",
      "_view_module_version": "1.2.0",
      "_view_name": "StyleView",
      "bar_color": null,
      "description_width": ""
     }
    },
    "5b8372f868ff4ba68aa262631c7d7379": {
     "model_module": "@jupyter-widgets/controls",
     "model_module_version": "1.5.0",
     "model_name": "HTMLModel",
     "state": {
      "_dom_classes": [],
      "_model_module": "@jupyter-widgets/controls",
      "_model_module_version": "1.5.0",
      "_model_name": "HTMLModel",
      "_view_count": null,
      "_view_module": "@jupyter-widgets/controls",
      "_view_module_version": "1.5.0",
      "_view_name": "HTMLView",
      "description": "",
      "description_tooltip": null,
      "layout": "IPY_MODEL_69473babc9bf44d6b8cb6ec0eec1565b",
      "placeholder": "​",
      "style": "IPY_MODEL_b2e7391912a747e8b90c7ab9739e74c8",
      "value": " 1965734/1965734 [00:01&lt;00:00, 1119063.59it/s]"
     }
    },
    "5cf1c95055c945478ee1c059b6b5e579": {
     "model_module": "@jupyter-widgets/controls",
     "model_module_version": "1.5.0",
     "model_name": "ProgressStyleModel",
     "state": {
      "_model_module": "@jupyter-widgets/controls",
      "_model_module_version": "1.5.0",
      "_model_name": "ProgressStyleModel",
      "_view_count": null,
      "_view_module": "@jupyter-widgets/base",
      "_view_module_version": "1.2.0",
      "_view_name": "StyleView",
      "bar_color": null,
      "description_width": ""
     }
    },
    "69473babc9bf44d6b8cb6ec0eec1565b": {
     "model_module": "@jupyter-widgets/base",
     "model_module_version": "1.2.0",
     "model_name": "LayoutModel",
     "state": {
      "_model_module": "@jupyter-widgets/base",
      "_model_module_version": "1.2.0",
      "_model_name": "LayoutModel",
      "_view_count": null,
      "_view_module": "@jupyter-widgets/base",
      "_view_module_version": "1.2.0",
      "_view_name": "LayoutView",
      "align_content": null,
      "align_items": null,
      "align_self": null,
      "border": null,
      "bottom": null,
      "display": null,
      "flex": null,
      "flex_flow": null,
      "grid_area": null,
      "grid_auto_columns": null,
      "grid_auto_flow": null,
      "grid_auto_rows": null,
      "grid_column": null,
      "grid_gap": null,
      "grid_row": null,
      "grid_template_areas": null,
      "grid_template_columns": null,
      "grid_template_rows": null,
      "height": null,
      "justify_content": null,
      "justify_items": null,
      "left": null,
      "margin": null,
      "max_height": null,
      "max_width": null,
      "min_height": null,
      "min_width": null,
      "object_fit": null,
      "object_position": null,
      "order": null,
      "overflow": null,
      "overflow_x": null,
      "overflow_y": null,
      "padding": null,
      "right": null,
      "top": null,
      "visibility": null,
      "width": null
     }
    },
    "6ee75559e53d44cf97eef8ea1acc74c1": {
     "model_module": "@jupyter-widgets/controls",
     "model_module_version": "1.5.0",
     "model_name": "HTMLModel",
     "state": {
      "_dom_classes": [],
      "_model_module": "@jupyter-widgets/controls",
      "_model_module_version": "1.5.0",
      "_model_name": "HTMLModel",
      "_view_count": null,
      "_view_module": "@jupyter-widgets/controls",
      "_view_module_version": "1.5.0",
      "_view_name": "HTMLView",
      "description": "",
      "description_tooltip": null,
      "layout": "IPY_MODEL_8158ba137fd6422d93cd7085dcc37f0d",
      "placeholder": "​",
      "style": "IPY_MODEL_001737d26aa044be96ac8dfa296a61e8",
      "value": " 1965734/1965734 [00:02&lt;00:00, 871854.77it/s]"
     }
    },
    "6fbe45a6315241ed8ab73f25770dbb79": {
     "model_module": "@jupyter-widgets/controls",
     "model_module_version": "1.5.0",
     "model_name": "ProgressStyleModel",
     "state": {
      "_model_module": "@jupyter-widgets/controls",
      "_model_module_version": "1.5.0",
      "_model_name": "ProgressStyleModel",
      "_view_count": null,
      "_view_module": "@jupyter-widgets/base",
      "_view_module_version": "1.2.0",
      "_view_name": "StyleView",
      "bar_color": null,
      "description_width": ""
     }
    },
    "7700920d72904ee4a354d1abb084c321": {
     "model_module": "@jupyter-widgets/base",
     "model_module_version": "1.2.0",
     "model_name": "LayoutModel",
     "state": {
      "_model_module": "@jupyter-widgets/base",
      "_model_module_version": "1.2.0",
      "_model_name": "LayoutModel",
      "_view_count": null,
      "_view_module": "@jupyter-widgets/base",
      "_view_module_version": "1.2.0",
      "_view_name": "LayoutView",
      "align_content": null,
      "align_items": null,
      "align_self": null,
      "border": null,
      "bottom": null,
      "display": null,
      "flex": null,
      "flex_flow": null,
      "grid_area": null,
      "grid_auto_columns": null,
      "grid_auto_flow": null,
      "grid_auto_rows": null,
      "grid_column": null,
      "grid_gap": null,
      "grid_row": null,
      "grid_template_areas": null,
      "grid_template_columns": null,
      "grid_template_rows": null,
      "height": null,
      "justify_content": null,
      "justify_items": null,
      "left": null,
      "margin": null,
      "max_height": null,
      "max_width": null,
      "min_height": null,
      "min_width": null,
      "object_fit": null,
      "object_position": null,
      "order": null,
      "overflow": null,
      "overflow_x": null,
      "overflow_y": null,
      "padding": null,
      "right": null,
      "top": null,
      "visibility": null,
      "width": null
     }
    },
    "7a98b501a56d41868eb92820b9db9f39": {
     "model_module": "@jupyter-widgets/base",
     "model_module_version": "1.2.0",
     "model_name": "LayoutModel",
     "state": {
      "_model_module": "@jupyter-widgets/base",
      "_model_module_version": "1.2.0",
      "_model_name": "LayoutModel",
      "_view_count": null,
      "_view_module": "@jupyter-widgets/base",
      "_view_module_version": "1.2.0",
      "_view_name": "LayoutView",
      "align_content": null,
      "align_items": null,
      "align_self": null,
      "border": null,
      "bottom": null,
      "display": null,
      "flex": null,
      "flex_flow": null,
      "grid_area": null,
      "grid_auto_columns": null,
      "grid_auto_flow": null,
      "grid_auto_rows": null,
      "grid_column": null,
      "grid_gap": null,
      "grid_row": null,
      "grid_template_areas": null,
      "grid_template_columns": null,
      "grid_template_rows": null,
      "height": null,
      "justify_content": null,
      "justify_items": null,
      "left": null,
      "margin": null,
      "max_height": null,
      "max_width": null,
      "min_height": null,
      "min_width": null,
      "object_fit": null,
      "object_position": null,
      "order": null,
      "overflow": null,
      "overflow_x": null,
      "overflow_y": null,
      "padding": null,
      "right": null,
      "top": null,
      "visibility": null,
      "width": null
     }
    },
    "7b13828f55bd40d083506f9afde9f676": {
     "model_module": "@jupyter-widgets/base",
     "model_module_version": "1.2.0",
     "model_name": "LayoutModel",
     "state": {
      "_model_module": "@jupyter-widgets/base",
      "_model_module_version": "1.2.0",
      "_model_name": "LayoutModel",
      "_view_count": null,
      "_view_module": "@jupyter-widgets/base",
      "_view_module_version": "1.2.0",
      "_view_name": "LayoutView",
      "align_content": null,
      "align_items": null,
      "align_self": null,
      "border": null,
      "bottom": null,
      "display": null,
      "flex": null,
      "flex_flow": null,
      "grid_area": null,
      "grid_auto_columns": null,
      "grid_auto_flow": null,
      "grid_auto_rows": null,
      "grid_column": null,
      "grid_gap": null,
      "grid_row": null,
      "grid_template_areas": null,
      "grid_template_columns": null,
      "grid_template_rows": null,
      "height": null,
      "justify_content": null,
      "justify_items": null,
      "left": null,
      "margin": null,
      "max_height": null,
      "max_width": null,
      "min_height": null,
      "min_width": null,
      "object_fit": null,
      "object_position": null,
      "order": null,
      "overflow": null,
      "overflow_x": null,
      "overflow_y": null,
      "padding": null,
      "right": null,
      "top": null,
      "visibility": null,
      "width": null
     }
    },
    "8158ba137fd6422d93cd7085dcc37f0d": {
     "model_module": "@jupyter-widgets/base",
     "model_module_version": "1.2.0",
     "model_name": "LayoutModel",
     "state": {
      "_model_module": "@jupyter-widgets/base",
      "_model_module_version": "1.2.0",
      "_model_name": "LayoutModel",
      "_view_count": null,
      "_view_module": "@jupyter-widgets/base",
      "_view_module_version": "1.2.0",
      "_view_name": "LayoutView",
      "align_content": null,
      "align_items": null,
      "align_self": null,
      "border": null,
      "bottom": null,
      "display": null,
      "flex": null,
      "flex_flow": null,
      "grid_area": null,
      "grid_auto_columns": null,
      "grid_auto_flow": null,
      "grid_auto_rows": null,
      "grid_column": null,
      "grid_gap": null,
      "grid_row": null,
      "grid_template_areas": null,
      "grid_template_columns": null,
      "grid_template_rows": null,
      "height": null,
      "justify_content": null,
      "justify_items": null,
      "left": null,
      "margin": null,
      "max_height": null,
      "max_width": null,
      "min_height": null,
      "min_width": null,
      "object_fit": null,
      "object_position": null,
      "order": null,
      "overflow": null,
      "overflow_x": null,
      "overflow_y": null,
      "padding": null,
      "right": null,
      "top": null,
      "visibility": null,
      "width": null
     }
    },
    "88948eebd8f348a39c724313dd8ca1e5": {
     "model_module": "@jupyter-widgets/controls",
     "model_module_version": "1.5.0",
     "model_name": "DescriptionStyleModel",
     "state": {
      "_model_module": "@jupyter-widgets/controls",
      "_model_module_version": "1.5.0",
      "_model_name": "DescriptionStyleModel",
      "_view_count": null,
      "_view_module": "@jupyter-widgets/base",
      "_view_module_version": "1.2.0",
      "_view_name": "StyleView",
      "description_width": ""
     }
    },
    "8bd0d4413e234b3eafb65bd984776f6b": {
     "model_module": "@jupyter-widgets/base",
     "model_module_version": "1.2.0",
     "model_name": "LayoutModel",
     "state": {
      "_model_module": "@jupyter-widgets/base",
      "_model_module_version": "1.2.0",
      "_model_name": "LayoutModel",
      "_view_count": null,
      "_view_module": "@jupyter-widgets/base",
      "_view_module_version": "1.2.0",
      "_view_name": "LayoutView",
      "align_content": null,
      "align_items": null,
      "align_self": null,
      "border": null,
      "bottom": null,
      "display": null,
      "flex": null,
      "flex_flow": null,
      "grid_area": null,
      "grid_auto_columns": null,
      "grid_auto_flow": null,
      "grid_auto_rows": null,
      "grid_column": null,
      "grid_gap": null,
      "grid_row": null,
      "grid_template_areas": null,
      "grid_template_columns": null,
      "grid_template_rows": null,
      "height": null,
      "justify_content": null,
      "justify_items": null,
      "left": null,
      "margin": null,
      "max_height": null,
      "max_width": null,
      "min_height": null,
      "min_width": null,
      "object_fit": null,
      "object_position": null,
      "order": null,
      "overflow": null,
      "overflow_x": null,
      "overflow_y": null,
      "padding": null,
      "right": null,
      "top": null,
      "visibility": null,
      "width": null
     }
    },
    "8c6b6afb8e8f4670a014df23a744f706": {
     "model_module": "@jupyter-widgets/controls",
     "model_module_version": "1.5.0",
     "model_name": "DescriptionStyleModel",
     "state": {
      "_model_module": "@jupyter-widgets/controls",
      "_model_module_version": "1.5.0",
      "_model_name": "DescriptionStyleModel",
      "_view_count": null,
      "_view_module": "@jupyter-widgets/base",
      "_view_module_version": "1.2.0",
      "_view_name": "StyleView",
      "description_width": ""
     }
    },
    "91c03fbedf9b42f3a12cf091eb1e2f1d": {
     "model_module": "@jupyter-widgets/controls",
     "model_module_version": "1.5.0",
     "model_name": "HTMLModel",
     "state": {
      "_dom_classes": [],
      "_model_module": "@jupyter-widgets/controls",
      "_model_module_version": "1.5.0",
      "_model_name": "HTMLModel",
      "_view_count": null,
      "_view_module": "@jupyter-widgets/controls",
      "_view_module_version": "1.5.0",
      "_view_name": "HTMLView",
      "description": "",
      "description_tooltip": null,
      "layout": "IPY_MODEL_ded5125834404b9bab256d438467605d",
      "placeholder": "​",
      "style": "IPY_MODEL_3a03fca411ea4c58986e003ce08b28c0",
      "value": " 12800/12800 [01:55&lt;00:00, 116.65it/s]"
     }
    },
    "95103fdbcb8347eea1d2b0127ddd95f9": {
     "model_module": "@jupyter-widgets/controls",
     "model_module_version": "1.5.0",
     "model_name": "HBoxModel",
     "state": {
      "_dom_classes": [],
      "_model_module": "@jupyter-widgets/controls",
      "_model_module_version": "1.5.0",
      "_model_name": "HBoxModel",
      "_view_count": null,
      "_view_module": "@jupyter-widgets/controls",
      "_view_module_version": "1.5.0",
      "_view_name": "HBoxView",
      "box_style": "",
      "children": [
       "IPY_MODEL_d4e31dbd89584466b4bc211bfc0fb0d6",
       "IPY_MODEL_0ed76c2f42064d5d8c117e13301888ad",
       "IPY_MODEL_f4e1fb3c5f0f4af280e7cfec31c053a7"
      ],
      "layout": "IPY_MODEL_419e2412579d4bea9d3e28f117ad5558"
     }
    },
    "971030603cd3475c8cf5ed81d11e0eb3": {
     "model_module": "@jupyter-widgets/base",
     "model_module_version": "1.2.0",
     "model_name": "LayoutModel",
     "state": {
      "_model_module": "@jupyter-widgets/base",
      "_model_module_version": "1.2.0",
      "_model_name": "LayoutModel",
      "_view_count": null,
      "_view_module": "@jupyter-widgets/base",
      "_view_module_version": "1.2.0",
      "_view_name": "LayoutView",
      "align_content": null,
      "align_items": null,
      "align_self": null,
      "border": null,
      "bottom": null,
      "display": null,
      "flex": null,
      "flex_flow": null,
      "grid_area": null,
      "grid_auto_columns": null,
      "grid_auto_flow": null,
      "grid_auto_rows": null,
      "grid_column": null,
      "grid_gap": null,
      "grid_row": null,
      "grid_template_areas": null,
      "grid_template_columns": null,
      "grid_template_rows": null,
      "height": null,
      "justify_content": null,
      "justify_items": null,
      "left": null,
      "margin": null,
      "max_height": null,
      "max_width": null,
      "min_height": null,
      "min_width": null,
      "object_fit": null,
      "object_position": null,
      "order": null,
      "overflow": null,
      "overflow_x": null,
      "overflow_y": null,
      "padding": null,
      "right": null,
      "top": null,
      "visibility": null,
      "width": null
     }
    },
    "9a33413b13b6428cbbaf9d6bfc8ad26c": {
     "model_module": "@jupyter-widgets/controls",
     "model_module_version": "1.5.0",
     "model_name": "DescriptionStyleModel",
     "state": {
      "_model_module": "@jupyter-widgets/controls",
      "_model_module_version": "1.5.0",
      "_model_name": "DescriptionStyleModel",
      "_view_count": null,
      "_view_module": "@jupyter-widgets/base",
      "_view_module_version": "1.2.0",
      "_view_name": "StyleView",
      "description_width": ""
     }
    },
    "9cad867b891448aca85660d61ead79e4": {
     "model_module": "@jupyter-widgets/base",
     "model_module_version": "1.2.0",
     "model_name": "LayoutModel",
     "state": {
      "_model_module": "@jupyter-widgets/base",
      "_model_module_version": "1.2.0",
      "_model_name": "LayoutModel",
      "_view_count": null,
      "_view_module": "@jupyter-widgets/base",
      "_view_module_version": "1.2.0",
      "_view_name": "LayoutView",
      "align_content": null,
      "align_items": null,
      "align_self": null,
      "border": null,
      "bottom": null,
      "display": null,
      "flex": null,
      "flex_flow": null,
      "grid_area": null,
      "grid_auto_columns": null,
      "grid_auto_flow": null,
      "grid_auto_rows": null,
      "grid_column": null,
      "grid_gap": null,
      "grid_row": null,
      "grid_template_areas": null,
      "grid_template_columns": null,
      "grid_template_rows": null,
      "height": null,
      "justify_content": null,
      "justify_items": null,
      "left": null,
      "margin": null,
      "max_height": null,
      "max_width": null,
      "min_height": null,
      "min_width": null,
      "object_fit": null,
      "object_position": null,
      "order": null,
      "overflow": null,
      "overflow_x": null,
      "overflow_y": null,
      "padding": null,
      "right": null,
      "top": null,
      "visibility": null,
      "width": null
     }
    },
    "9daf6204a23e4a548a381e2e2b2f780d": {
     "model_module": "@jupyter-widgets/base",
     "model_module_version": "1.2.0",
     "model_name": "LayoutModel",
     "state": {
      "_model_module": "@jupyter-widgets/base",
      "_model_module_version": "1.2.0",
      "_model_name": "LayoutModel",
      "_view_count": null,
      "_view_module": "@jupyter-widgets/base",
      "_view_module_version": "1.2.0",
      "_view_name": "LayoutView",
      "align_content": null,
      "align_items": null,
      "align_self": null,
      "border": null,
      "bottom": null,
      "display": null,
      "flex": null,
      "flex_flow": null,
      "grid_area": null,
      "grid_auto_columns": null,
      "grid_auto_flow": null,
      "grid_auto_rows": null,
      "grid_column": null,
      "grid_gap": null,
      "grid_row": null,
      "grid_template_areas": null,
      "grid_template_columns": null,
      "grid_template_rows": null,
      "height": null,
      "justify_content": null,
      "justify_items": null,
      "left": null,
      "margin": null,
      "max_height": null,
      "max_width": null,
      "min_height": null,
      "min_width": null,
      "object_fit": null,
      "object_position": null,
      "order": null,
      "overflow": null,
      "overflow_x": null,
      "overflow_y": null,
      "padding": null,
      "right": null,
      "top": null,
      "visibility": null,
      "width": null
     }
    },
    "a03a3db9fad2406f9e99b45319779667": {
     "model_module": "@jupyter-widgets/controls",
     "model_module_version": "1.5.0",
     "model_name": "ProgressStyleModel",
     "state": {
      "_model_module": "@jupyter-widgets/controls",
      "_model_module_version": "1.5.0",
      "_model_name": "ProgressStyleModel",
      "_view_count": null,
      "_view_module": "@jupyter-widgets/base",
      "_view_module_version": "1.2.0",
      "_view_name": "StyleView",
      "bar_color": null,
      "description_width": ""
     }
    },
    "a31bb286183343adb87528a85a6f79fe": {
     "model_module": "@jupyter-widgets/controls",
     "model_module_version": "1.5.0",
     "model_name": "ProgressStyleModel",
     "state": {
      "_model_module": "@jupyter-widgets/controls",
      "_model_module_version": "1.5.0",
      "_model_name": "ProgressStyleModel",
      "_view_count": null,
      "_view_module": "@jupyter-widgets/base",
      "_view_module_version": "1.2.0",
      "_view_name": "StyleView",
      "bar_color": null,
      "description_width": ""
     }
    },
    "a59f33caaf094baaa8b2ea821a4a6f27": {
     "model_module": "@jupyter-widgets/controls",
     "model_module_version": "1.5.0",
     "model_name": "HTMLModel",
     "state": {
      "_dom_classes": [],
      "_model_module": "@jupyter-widgets/controls",
      "_model_module_version": "1.5.0",
      "_model_name": "HTMLModel",
      "_view_count": null,
      "_view_module": "@jupyter-widgets/controls",
      "_view_module_version": "1.5.0",
      "_view_name": "HTMLView",
      "description": "",
      "description_tooltip": null,
      "layout": "IPY_MODEL_fcc1b976549d46b78bc1b9637ca84761",
      "placeholder": "​",
      "style": "IPY_MODEL_4bee1c29e8e14c6ca65eb6f77a79a0e4",
      "value": " 2041/3000 [01:40&lt;00:45, 21.20it/s]"
     }
    },
    "a881efb4bf044a4b9de088519f0ce17b": {
     "model_module": "@jupyter-widgets/base",
     "model_module_version": "1.2.0",
     "model_name": "LayoutModel",
     "state": {
      "_model_module": "@jupyter-widgets/base",
      "_model_module_version": "1.2.0",
      "_model_name": "LayoutModel",
      "_view_count": null,
      "_view_module": "@jupyter-widgets/base",
      "_view_module_version": "1.2.0",
      "_view_name": "LayoutView",
      "align_content": null,
      "align_items": null,
      "align_self": null,
      "border": null,
      "bottom": null,
      "display": null,
      "flex": null,
      "flex_flow": null,
      "grid_area": null,
      "grid_auto_columns": null,
      "grid_auto_flow": null,
      "grid_auto_rows": null,
      "grid_column": null,
      "grid_gap": null,
      "grid_row": null,
      "grid_template_areas": null,
      "grid_template_columns": null,
      "grid_template_rows": null,
      "height": null,
      "justify_content": null,
      "justify_items": null,
      "left": null,
      "margin": null,
      "max_height": null,
      "max_width": null,
      "min_height": null,
      "min_width": null,
      "object_fit": null,
      "object_position": null,
      "order": null,
      "overflow": null,
      "overflow_x": null,
      "overflow_y": null,
      "padding": null,
      "right": null,
      "top": null,
      "visibility": null,
      "width": null
     }
    },
    "aba48cdb05f44fe0a7ca92e56923e30a": {
     "model_module": "@jupyter-widgets/base",
     "model_module_version": "1.2.0",
     "model_name": "LayoutModel",
     "state": {
      "_model_module": "@jupyter-widgets/base",
      "_model_module_version": "1.2.0",
      "_model_name": "LayoutModel",
      "_view_count": null,
      "_view_module": "@jupyter-widgets/base",
      "_view_module_version": "1.2.0",
      "_view_name": "LayoutView",
      "align_content": null,
      "align_items": null,
      "align_self": null,
      "border": null,
      "bottom": null,
      "display": null,
      "flex": null,
      "flex_flow": null,
      "grid_area": null,
      "grid_auto_columns": null,
      "grid_auto_flow": null,
      "grid_auto_rows": null,
      "grid_column": null,
      "grid_gap": null,
      "grid_row": null,
      "grid_template_areas": null,
      "grid_template_columns": null,
      "grid_template_rows": null,
      "height": null,
      "justify_content": null,
      "justify_items": null,
      "left": null,
      "margin": null,
      "max_height": null,
      "max_width": null,
      "min_height": null,
      "min_width": null,
      "object_fit": null,
      "object_position": null,
      "order": null,
      "overflow": null,
      "overflow_x": null,
      "overflow_y": null,
      "padding": null,
      "right": null,
      "top": null,
      "visibility": null,
      "width": null
     }
    },
    "b0e1e38b93c441ee86bfc0054a31de97": {
     "model_module": "@jupyter-widgets/base",
     "model_module_version": "1.2.0",
     "model_name": "LayoutModel",
     "state": {
      "_model_module": "@jupyter-widgets/base",
      "_model_module_version": "1.2.0",
      "_model_name": "LayoutModel",
      "_view_count": null,
      "_view_module": "@jupyter-widgets/base",
      "_view_module_version": "1.2.0",
      "_view_name": "LayoutView",
      "align_content": null,
      "align_items": null,
      "align_self": null,
      "border": null,
      "bottom": null,
      "display": null,
      "flex": null,
      "flex_flow": null,
      "grid_area": null,
      "grid_auto_columns": null,
      "grid_auto_flow": null,
      "grid_auto_rows": null,
      "grid_column": null,
      "grid_gap": null,
      "grid_row": null,
      "grid_template_areas": null,
      "grid_template_columns": null,
      "grid_template_rows": null,
      "height": null,
      "justify_content": null,
      "justify_items": null,
      "left": null,
      "margin": null,
      "max_height": null,
      "max_width": null,
      "min_height": null,
      "min_width": null,
      "object_fit": null,
      "object_position": null,
      "order": null,
      "overflow": null,
      "overflow_x": null,
      "overflow_y": null,
      "padding": null,
      "right": null,
      "top": null,
      "visibility": null,
      "width": null
     }
    },
    "b2e7391912a747e8b90c7ab9739e74c8": {
     "model_module": "@jupyter-widgets/controls",
     "model_module_version": "1.5.0",
     "model_name": "DescriptionStyleModel",
     "state": {
      "_model_module": "@jupyter-widgets/controls",
      "_model_module_version": "1.5.0",
      "_model_name": "DescriptionStyleModel",
      "_view_count": null,
      "_view_module": "@jupyter-widgets/base",
      "_view_module_version": "1.2.0",
      "_view_name": "StyleView",
      "description_width": ""
     }
    },
    "b432ad94586949a0b3fd9268c59a0579": {
     "model_module": "@jupyter-widgets/base",
     "model_module_version": "1.2.0",
     "model_name": "LayoutModel",
     "state": {
      "_model_module": "@jupyter-widgets/base",
      "_model_module_version": "1.2.0",
      "_model_name": "LayoutModel",
      "_view_count": null,
      "_view_module": "@jupyter-widgets/base",
      "_view_module_version": "1.2.0",
      "_view_name": "LayoutView",
      "align_content": null,
      "align_items": null,
      "align_self": null,
      "border": null,
      "bottom": null,
      "display": null,
      "flex": null,
      "flex_flow": null,
      "grid_area": null,
      "grid_auto_columns": null,
      "grid_auto_flow": null,
      "grid_auto_rows": null,
      "grid_column": null,
      "grid_gap": null,
      "grid_row": null,
      "grid_template_areas": null,
      "grid_template_columns": null,
      "grid_template_rows": null,
      "height": null,
      "justify_content": null,
      "justify_items": null,
      "left": null,
      "margin": null,
      "max_height": null,
      "max_width": null,
      "min_height": null,
      "min_width": null,
      "object_fit": null,
      "object_position": null,
      "order": null,
      "overflow": null,
      "overflow_x": null,
      "overflow_y": null,
      "padding": null,
      "right": null,
      "top": null,
      "visibility": null,
      "width": null
     }
    },
    "b6e8cfa3aa60403888c35ce5ef30fffb": {
     "model_module": "@jupyter-widgets/base",
     "model_module_version": "1.2.0",
     "model_name": "LayoutModel",
     "state": {
      "_model_module": "@jupyter-widgets/base",
      "_model_module_version": "1.2.0",
      "_model_name": "LayoutModel",
      "_view_count": null,
      "_view_module": "@jupyter-widgets/base",
      "_view_module_version": "1.2.0",
      "_view_name": "LayoutView",
      "align_content": null,
      "align_items": null,
      "align_self": null,
      "border": null,
      "bottom": null,
      "display": null,
      "flex": null,
      "flex_flow": null,
      "grid_area": null,
      "grid_auto_columns": null,
      "grid_auto_flow": null,
      "grid_auto_rows": null,
      "grid_column": null,
      "grid_gap": null,
      "grid_row": null,
      "grid_template_areas": null,
      "grid_template_columns": null,
      "grid_template_rows": null,
      "height": null,
      "justify_content": null,
      "justify_items": null,
      "left": null,
      "margin": null,
      "max_height": null,
      "max_width": null,
      "min_height": null,
      "min_width": null,
      "object_fit": null,
      "object_position": null,
      "order": null,
      "overflow": null,
      "overflow_x": null,
      "overflow_y": null,
      "padding": null,
      "right": null,
      "top": null,
      "visibility": null,
      "width": null
     }
    },
    "b7871a99edbb4f759384fd3019cb380d": {
     "model_module": "@jupyter-widgets/controls",
     "model_module_version": "1.5.0",
     "model_name": "DescriptionStyleModel",
     "state": {
      "_model_module": "@jupyter-widgets/controls",
      "_model_module_version": "1.5.0",
      "_model_name": "DescriptionStyleModel",
      "_view_count": null,
      "_view_module": "@jupyter-widgets/base",
      "_view_module_version": "1.2.0",
      "_view_name": "StyleView",
      "description_width": ""
     }
    },
    "b9f3bf6aff864fa9ad7e27c00f0c9956": {
     "model_module": "@jupyter-widgets/base",
     "model_module_version": "1.2.0",
     "model_name": "LayoutModel",
     "state": {
      "_model_module": "@jupyter-widgets/base",
      "_model_module_version": "1.2.0",
      "_model_name": "LayoutModel",
      "_view_count": null,
      "_view_module": "@jupyter-widgets/base",
      "_view_module_version": "1.2.0",
      "_view_name": "LayoutView",
      "align_content": null,
      "align_items": null,
      "align_self": null,
      "border": null,
      "bottom": null,
      "display": null,
      "flex": null,
      "flex_flow": null,
      "grid_area": null,
      "grid_auto_columns": null,
      "grid_auto_flow": null,
      "grid_auto_rows": null,
      "grid_column": null,
      "grid_gap": null,
      "grid_row": null,
      "grid_template_areas": null,
      "grid_template_columns": null,
      "grid_template_rows": null,
      "height": null,
      "justify_content": null,
      "justify_items": null,
      "left": null,
      "margin": null,
      "max_height": null,
      "max_width": null,
      "min_height": null,
      "min_width": null,
      "object_fit": null,
      "object_position": null,
      "order": null,
      "overflow": null,
      "overflow_x": null,
      "overflow_y": null,
      "padding": null,
      "right": null,
      "top": null,
      "visibility": null,
      "width": null
     }
    },
    "c272db6bc3dc4277ab62bc7f5a123a4e": {
     "model_module": "@jupyter-widgets/controls",
     "model_module_version": "1.5.0",
     "model_name": "HBoxModel",
     "state": {
      "_dom_classes": [],
      "_model_module": "@jupyter-widgets/controls",
      "_model_module_version": "1.5.0",
      "_model_name": "HBoxModel",
      "_view_count": null,
      "_view_module": "@jupyter-widgets/controls",
      "_view_module_version": "1.5.0",
      "_view_name": "HBoxView",
      "box_style": "",
      "children": [
       "IPY_MODEL_d367a9cfbf944907adfd530c0a2973f7",
       "IPY_MODEL_de8c1ba10fa4458398d3b1fa1446cbb4",
       "IPY_MODEL_a59f33caaf094baaa8b2ea821a4a6f27"
      ],
      "layout": "IPY_MODEL_e4d03f615bb043878195bc7ffeba4485"
     }
    },
    "c2a3168f91164272b5e9c1ad85b8ab7d": {
     "model_module": "@jupyter-widgets/controls",
     "model_module_version": "1.5.0",
     "model_name": "DescriptionStyleModel",
     "state": {
      "_model_module": "@jupyter-widgets/controls",
      "_model_module_version": "1.5.0",
      "_model_name": "DescriptionStyleModel",
      "_view_count": null,
      "_view_module": "@jupyter-widgets/base",
      "_view_module_version": "1.2.0",
      "_view_name": "StyleView",
      "description_width": ""
     }
    },
    "c3ad580bf92b4b4a8a836850b502e2a6": {
     "model_module": "@jupyter-widgets/controls",
     "model_module_version": "1.5.0",
     "model_name": "DescriptionStyleModel",
     "state": {
      "_model_module": "@jupyter-widgets/controls",
      "_model_module_version": "1.5.0",
      "_model_name": "DescriptionStyleModel",
      "_view_count": null,
      "_view_module": "@jupyter-widgets/base",
      "_view_module_version": "1.2.0",
      "_view_name": "StyleView",
      "description_width": ""
     }
    },
    "c409eb7265fc4e1e9f2a314aadb565fd": {
     "model_module": "@jupyter-widgets/base",
     "model_module_version": "1.2.0",
     "model_name": "LayoutModel",
     "state": {
      "_model_module": "@jupyter-widgets/base",
      "_model_module_version": "1.2.0",
      "_model_name": "LayoutModel",
      "_view_count": null,
      "_view_module": "@jupyter-widgets/base",
      "_view_module_version": "1.2.0",
      "_view_name": "LayoutView",
      "align_content": null,
      "align_items": null,
      "align_self": null,
      "border": null,
      "bottom": null,
      "display": null,
      "flex": null,
      "flex_flow": null,
      "grid_area": null,
      "grid_auto_columns": null,
      "grid_auto_flow": null,
      "grid_auto_rows": null,
      "grid_column": null,
      "grid_gap": null,
      "grid_row": null,
      "grid_template_areas": null,
      "grid_template_columns": null,
      "grid_template_rows": null,
      "height": null,
      "justify_content": null,
      "justify_items": null,
      "left": null,
      "margin": null,
      "max_height": null,
      "max_width": null,
      "min_height": null,
      "min_width": null,
      "object_fit": null,
      "object_position": null,
      "order": null,
      "overflow": null,
      "overflow_x": null,
      "overflow_y": null,
      "padding": null,
      "right": null,
      "top": null,
      "visibility": null,
      "width": null
     }
    },
    "c4160b2e294447a1b4ca30782c0b1511": {
     "model_module": "@jupyter-widgets/controls",
     "model_module_version": "1.5.0",
     "model_name": "FloatProgressModel",
     "state": {
      "_dom_classes": [],
      "_model_module": "@jupyter-widgets/controls",
      "_model_module_version": "1.5.0",
      "_model_name": "FloatProgressModel",
      "_view_count": null,
      "_view_module": "@jupyter-widgets/controls",
      "_view_module_version": "1.5.0",
      "_view_name": "ProgressView",
      "bar_style": "success",
      "description": "",
      "description_tooltip": null,
      "layout": "IPY_MODEL_971030603cd3475c8cf5ed81d11e0eb3",
      "max": 12800,
      "min": 0,
      "orientation": "horizontal",
      "style": "IPY_MODEL_a03a3db9fad2406f9e99b45319779667",
      "value": 12800
     }
    },
    "c84ebc1a6ca741018d83c1936b1be422": {
     "model_module": "@jupyter-widgets/controls",
     "model_module_version": "1.5.0",
     "model_name": "HBoxModel",
     "state": {
      "_dom_classes": [],
      "_model_module": "@jupyter-widgets/controls",
      "_model_module_version": "1.5.0",
      "_model_name": "HBoxModel",
      "_view_count": null,
      "_view_module": "@jupyter-widgets/controls",
      "_view_module_version": "1.5.0",
      "_view_name": "HBoxView",
      "box_style": "",
      "children": [
       "IPY_MODEL_e994deb5cc774b8c992d1fef9ca491cd",
       "IPY_MODEL_dd1c6e6c6f2942a58b5489aac83d50c8",
       "IPY_MODEL_3a5087cb3ce14dd1afd3b7828a7e9ed6"
      ],
      "layout": "IPY_MODEL_0c01a1f6d91c49b0a67410f6cb8a18e1"
     }
    },
    "c9af2095158f442380b556ec531234d0": {
     "model_module": "@jupyter-widgets/base",
     "model_module_version": "1.2.0",
     "model_name": "LayoutModel",
     "state": {
      "_model_module": "@jupyter-widgets/base",
      "_model_module_version": "1.2.0",
      "_model_name": "LayoutModel",
      "_view_count": null,
      "_view_module": "@jupyter-widgets/base",
      "_view_module_version": "1.2.0",
      "_view_name": "LayoutView",
      "align_content": null,
      "align_items": null,
      "align_self": null,
      "border": null,
      "bottom": null,
      "display": null,
      "flex": null,
      "flex_flow": null,
      "grid_area": null,
      "grid_auto_columns": null,
      "grid_auto_flow": null,
      "grid_auto_rows": null,
      "grid_column": null,
      "grid_gap": null,
      "grid_row": null,
      "grid_template_areas": null,
      "grid_template_columns": null,
      "grid_template_rows": null,
      "height": null,
      "justify_content": null,
      "justify_items": null,
      "left": null,
      "margin": null,
      "max_height": null,
      "max_width": null,
      "min_height": null,
      "min_width": null,
      "object_fit": null,
      "object_position": null,
      "order": null,
      "overflow": null,
      "overflow_x": null,
      "overflow_y": null,
      "padding": null,
      "right": null,
      "top": null,
      "visibility": null,
      "width": null
     }
    },
    "cbb11c4c5dbd41f0b4a37a0286d965a5": {
     "model_module": "@jupyter-widgets/controls",
     "model_module_version": "1.5.0",
     "model_name": "HTMLModel",
     "state": {
      "_dom_classes": [],
      "_model_module": "@jupyter-widgets/controls",
      "_model_module_version": "1.5.0",
      "_model_name": "HTMLModel",
      "_view_count": null,
      "_view_module": "@jupyter-widgets/controls",
      "_view_module_version": "1.5.0",
      "_view_name": "HTMLView",
      "description": "",
      "description_tooltip": null,
      "layout": "IPY_MODEL_b6e8cfa3aa60403888c35ce5ef30fffb",
      "placeholder": "​",
      "style": "IPY_MODEL_c3ad580bf92b4b4a8a836850b502e2a6",
      "value": "en: 100%"
     }
    },
    "cf8d9694a1c2448d9767c0bd3cab9400": {
     "model_module": "@jupyter-widgets/base",
     "model_module_version": "1.2.0",
     "model_name": "LayoutModel",
     "state": {
      "_model_module": "@jupyter-widgets/base",
      "_model_module_version": "1.2.0",
      "_model_name": "LayoutModel",
      "_view_count": null,
      "_view_module": "@jupyter-widgets/base",
      "_view_module_version": "1.2.0",
      "_view_name": "LayoutView",
      "align_content": null,
      "align_items": null,
      "align_self": null,
      "border": null,
      "bottom": null,
      "display": null,
      "flex": null,
      "flex_flow": null,
      "grid_area": null,
      "grid_auto_columns": null,
      "grid_auto_flow": null,
      "grid_auto_rows": null,
      "grid_column": null,
      "grid_gap": null,
      "grid_row": null,
      "grid_template_areas": null,
      "grid_template_columns": null,
      "grid_template_rows": null,
      "height": null,
      "justify_content": null,
      "justify_items": null,
      "left": null,
      "margin": null,
      "max_height": null,
      "max_width": null,
      "min_height": null,
      "min_width": null,
      "object_fit": null,
      "object_position": null,
      "order": null,
      "overflow": null,
      "overflow_x": null,
      "overflow_y": null,
      "padding": null,
      "right": null,
      "top": null,
      "visibility": null,
      "width": null
     }
    },
    "d367a9cfbf944907adfd530c0a2973f7": {
     "model_module": "@jupyter-widgets/controls",
     "model_module_version": "1.5.0",
     "model_name": "HTMLModel",
     "state": {
      "_dom_classes": [],
      "_model_module": "@jupyter-widgets/controls",
      "_model_module_version": "1.5.0",
      "_model_name": "HTMLModel",
      "_view_count": null,
      "_view_module": "@jupyter-widgets/controls",
      "_view_module_version": "1.5.0",
      "_view_name": "HTMLView",
      "description": "",
      "description_tooltip": null,
      "layout": "IPY_MODEL_9daf6204a23e4a548a381e2e2b2f780d",
      "placeholder": "​",
      "style": "IPY_MODEL_b7871a99edbb4f759384fd3019cb380d",
      "value": "Epoch 1:  68%"
     }
    },
    "d4e31dbd89584466b4bc211bfc0fb0d6": {
     "model_module": "@jupyter-widgets/controls",
     "model_module_version": "1.5.0",
     "model_name": "HTMLModel",
     "state": {
      "_dom_classes": [],
      "_model_module": "@jupyter-widgets/controls",
      "_model_module_version": "1.5.0",
      "_model_name": "HTMLModel",
      "_view_count": null,
      "_view_module": "@jupyter-widgets/controls",
      "_view_module_version": "1.5.0",
      "_view_name": "HTMLView",
      "description": "",
      "description_tooltip": null,
      "layout": "IPY_MODEL_aba48cdb05f44fe0a7ca92e56923e30a",
      "placeholder": "​",
      "style": "IPY_MODEL_55f24f817ed14715a27378a7595b141f",
      "value": "  validate: 100%"
     }
    },
    "da8d5abf97ac4a6ab2e9c72fad5dbc34": {
     "model_module": "@jupyter-widgets/controls",
     "model_module_version": "1.5.0",
     "model_name": "FloatProgressModel",
     "state": {
      "_dom_classes": [],
      "_model_module": "@jupyter-widgets/controls",
      "_model_module_version": "1.5.0",
      "_model_name": "FloatProgressModel",
      "_view_count": null,
      "_view_module": "@jupyter-widgets/controls",
      "_view_module_version": "1.5.0",
      "_view_name": "ProgressView",
      "bar_style": "success",
      "description": "",
      "description_tooltip": null,
      "layout": "IPY_MODEL_c409eb7265fc4e1e9f2a314aadb565fd",
      "max": 1965734,
      "min": 0,
      "orientation": "horizontal",
      "style": "IPY_MODEL_27bc46057813424191fdaa7df087990b",
      "value": 1965734
     }
    },
    "dcf3682c58d144d980ce6483fca8b127": {
     "model_module": "@jupyter-widgets/base",
     "model_module_version": "1.2.0",
     "model_name": "LayoutModel",
     "state": {
      "_model_module": "@jupyter-widgets/base",
      "_model_module_version": "1.2.0",
      "_model_name": "LayoutModel",
      "_view_count": null,
      "_view_module": "@jupyter-widgets/base",
      "_view_module_version": "1.2.0",
      "_view_name": "LayoutView",
      "align_content": null,
      "align_items": null,
      "align_self": null,
      "border": null,
      "bottom": null,
      "display": null,
      "flex": null,
      "flex_flow": null,
      "grid_area": null,
      "grid_auto_columns": null,
      "grid_auto_flow": null,
      "grid_auto_rows": null,
      "grid_column": null,
      "grid_gap": null,
      "grid_row": null,
      "grid_template_areas": null,
      "grid_template_columns": null,
      "grid_template_rows": null,
      "height": null,
      "justify_content": null,
      "justify_items": null,
      "left": null,
      "margin": null,
      "max_height": null,
      "max_width": null,
      "min_height": null,
      "min_width": null,
      "object_fit": null,
      "object_position": null,
      "order": null,
      "overflow": null,
      "overflow_x": null,
      "overflow_y": null,
      "padding": null,
      "right": null,
      "top": null,
      "visibility": null,
      "width": null
     }
    },
    "dd1c6e6c6f2942a58b5489aac83d50c8": {
     "model_module": "@jupyter-widgets/controls",
     "model_module_version": "1.5.0",
     "model_name": "FloatProgressModel",
     "state": {
      "_dom_classes": [],
      "_model_module": "@jupyter-widgets/controls",
      "_model_module_version": "1.5.0",
      "_model_name": "FloatProgressModel",
      "_view_count": null,
      "_view_module": "@jupyter-widgets/controls",
      "_view_module_version": "1.5.0",
      "_view_name": "ProgressView",
      "bar_style": "success",
      "description": "",
      "description_tooltip": null,
      "layout": "IPY_MODEL_b9f3bf6aff864fa9ad7e27c00f0c9956",
      "max": 3000,
      "min": 0,
      "orientation": "horizontal",
      "style": "IPY_MODEL_5cf1c95055c945478ee1c059b6b5e579",
      "value": 3000
     }
    },
    "de8c1ba10fa4458398d3b1fa1446cbb4": {
     "model_module": "@jupyter-widgets/controls",
     "model_module_version": "1.5.0",
     "model_name": "FloatProgressModel",
     "state": {
      "_dom_classes": [],
      "_model_module": "@jupyter-widgets/controls",
      "_model_module_version": "1.5.0",
      "_model_name": "FloatProgressModel",
      "_view_count": null,
      "_view_module": "@jupyter-widgets/controls",
      "_view_module_version": "1.5.0",
      "_view_name": "ProgressView",
      "bar_style": "",
      "description": "",
      "description_tooltip": null,
      "layout": "IPY_MODEL_c9af2095158f442380b556ec531234d0",
      "max": 3000,
      "min": 0,
      "orientation": "horizontal",
      "style": "IPY_MODEL_5a07fc2cf21d4b6ba82b01df4a9b9113",
      "value": 2041
     }
    },
    "ded5125834404b9bab256d438467605d": {
     "model_module": "@jupyter-widgets/base",
     "model_module_version": "1.2.0",
     "model_name": "LayoutModel",
     "state": {
      "_model_module": "@jupyter-widgets/base",
      "_model_module_version": "1.2.0",
      "_model_name": "LayoutModel",
      "_view_count": null,
      "_view_module": "@jupyter-widgets/base",
      "_view_module_version": "1.2.0",
      "_view_name": "LayoutView",
      "align_content": null,
      "align_items": null,
      "align_self": null,
      "border": null,
      "bottom": null,
      "display": null,
      "flex": null,
      "flex_flow": null,
      "grid_area": null,
      "grid_auto_columns": null,
      "grid_auto_flow": null,
      "grid_auto_rows": null,
      "grid_column": null,
      "grid_gap": null,
      "grid_row": null,
      "grid_template_areas": null,
      "grid_template_columns": null,
      "grid_template_rows": null,
      "height": null,
      "justify_content": null,
      "justify_items": null,
      "left": null,
      "margin": null,
      "max_height": null,
      "max_width": null,
      "min_height": null,
      "min_width": null,
      "object_fit": null,
      "object_position": null,
      "order": null,
      "overflow": null,
      "overflow_x": null,
      "overflow_y": null,
      "padding": null,
      "right": null,
      "top": null,
      "visibility": null,
      "width": null
     }
    },
    "e085d1fb0e7c4061a30867b095dd649d": {
     "model_module": "@jupyter-widgets/controls",
     "model_module_version": "1.5.0",
     "model_name": "FloatProgressModel",
     "state": {
      "_dom_classes": [],
      "_model_module": "@jupyter-widgets/controls",
      "_model_module_version": "1.5.0",
      "_model_name": "FloatProgressModel",
      "_view_count": null,
      "_view_module": "@jupyter-widgets/controls",
      "_view_module_version": "1.5.0",
      "_view_name": "ProgressView",
      "bar_style": "success",
      "description": "",
      "description_tooltip": null,
      "layout": "IPY_MODEL_cf8d9694a1c2448d9767c0bd3cab9400",
      "max": 1965734,
      "min": 0,
      "orientation": "horizontal",
      "style": "IPY_MODEL_a31bb286183343adb87528a85a6f79fe",
      "value": 1965734
     }
    },
    "e18714bcfb52467b8f82e353f26f0e3c": {
     "model_module": "@jupyter-widgets/controls",
     "model_module_version": "1.5.0",
     "model_name": "HTMLModel",
     "state": {
      "_dom_classes": [],
      "_model_module": "@jupyter-widgets/controls",
      "_model_module_version": "1.5.0",
      "_model_name": "HTMLModel",
      "_view_count": null,
      "_view_module": "@jupyter-widgets/controls",
      "_view_module_version": "1.5.0",
      "_view_name": "HTMLView",
      "description": "",
      "description_tooltip": null,
      "layout": "IPY_MODEL_f5cc81856b0b44c18db547cd77926714",
      "placeholder": "​",
      "style": "IPY_MODEL_88948eebd8f348a39c724313dd8ca1e5",
      "value": "100%"
     }
    },
    "e4d03f615bb043878195bc7ffeba4485": {
     "model_module": "@jupyter-widgets/base",
     "model_module_version": "1.2.0",
     "model_name": "LayoutModel",
     "state": {
      "_model_module": "@jupyter-widgets/base",
      "_model_module_version": "1.2.0",
      "_model_name": "LayoutModel",
      "_view_count": null,
      "_view_module": "@jupyter-widgets/base",
      "_view_module_version": "1.2.0",
      "_view_name": "LayoutView",
      "align_content": null,
      "align_items": null,
      "align_self": null,
      "border": null,
      "bottom": null,
      "display": null,
      "flex": null,
      "flex_flow": null,
      "grid_area": null,
      "grid_auto_columns": null,
      "grid_auto_flow": null,
      "grid_auto_rows": null,
      "grid_column": null,
      "grid_gap": null,
      "grid_row": null,
      "grid_template_areas": null,
      "grid_template_columns": null,
      "grid_template_rows": null,
      "height": null,
      "justify_content": null,
      "justify_items": null,
      "left": null,
      "margin": null,
      "max_height": null,
      "max_width": null,
      "min_height": null,
      "min_width": null,
      "object_fit": null,
      "object_position": null,
      "order": null,
      "overflow": null,
      "overflow_x": null,
      "overflow_y": null,
      "padding": null,
      "right": null,
      "top": null,
      "visibility": null,
      "width": null
     }
    },
    "e7c1a12b6e5f49198129a9b6d27be0fc": {
     "model_module": "@jupyter-widgets/base",
     "model_module_version": "1.2.0",
     "model_name": "LayoutModel",
     "state": {
      "_model_module": "@jupyter-widgets/base",
      "_model_module_version": "1.2.0",
      "_model_name": "LayoutModel",
      "_view_count": null,
      "_view_module": "@jupyter-widgets/base",
      "_view_module_version": "1.2.0",
      "_view_name": "LayoutView",
      "align_content": null,
      "align_items": null,
      "align_self": null,
      "border": null,
      "bottom": null,
      "display": null,
      "flex": null,
      "flex_flow": null,
      "grid_area": null,
      "grid_auto_columns": null,
      "grid_auto_flow": null,
      "grid_auto_rows": null,
      "grid_column": null,
      "grid_gap": null,
      "grid_row": null,
      "grid_template_areas": null,
      "grid_template_columns": null,
      "grid_template_rows": null,
      "height": null,
      "justify_content": null,
      "justify_items": null,
      "left": null,
      "margin": null,
      "max_height": null,
      "max_width": null,
      "min_height": null,
      "min_width": null,
      "object_fit": null,
      "object_position": null,
      "order": null,
      "overflow": null,
      "overflow_x": null,
      "overflow_y": null,
      "padding": null,
      "right": null,
      "top": null,
      "visibility": null,
      "width": null
     }
    },
    "e994deb5cc774b8c992d1fef9ca491cd": {
     "model_module": "@jupyter-widgets/controls",
     "model_module_version": "1.5.0",
     "model_name": "HTMLModel",
     "state": {
      "_dom_classes": [],
      "_model_module": "@jupyter-widgets/controls",
      "_model_module_version": "1.5.0",
      "_model_name": "HTMLModel",
      "_view_count": null,
      "_view_module": "@jupyter-widgets/controls",
      "_view_module_version": "1.5.0",
      "_view_name": "HTMLView",
      "description": "",
      "description_tooltip": null,
      "layout": "IPY_MODEL_b0e1e38b93c441ee86bfc0054a31de97",
      "placeholder": "​",
      "style": "IPY_MODEL_07232b2e28f94a70a0af393ef1ad87ee",
      "value": "Epoch 0: 100%"
     }
    },
    "efd1538f6b764e9e9ede7bd470145b84": {
     "model_module": "@jupyter-widgets/controls",
     "model_module_version": "1.5.0",
     "model_name": "HTMLModel",
     "state": {
      "_dom_classes": [],
      "_model_module": "@jupyter-widgets/controls",
      "_model_module_version": "1.5.0",
      "_model_name": "HTMLModel",
      "_view_count": null,
      "_view_module": "@jupyter-widgets/controls",
      "_view_module_version": "1.5.0",
      "_view_name": "HTMLView",
      "description": "",
      "description_tooltip": null,
      "layout": "IPY_MODEL_e7c1a12b6e5f49198129a9b6d27be0fc",
      "placeholder": "​",
      "style": "IPY_MODEL_21381f8f9cc6444697cf03e34a1b9516",
      "value": "100%"
     }
    },
    "f4e1fb3c5f0f4af280e7cfec31c053a7": {
     "model_module": "@jupyter-widgets/controls",
     "model_module_version": "1.5.0",
     "model_name": "HTMLModel",
     "state": {
      "_dom_classes": [],
      "_model_module": "@jupyter-widgets/controls",
      "_model_module_version": "1.5.0",
      "_model_name": "HTMLModel",
      "_view_count": null,
      "_view_module": "@jupyter-widgets/controls",
      "_view_module_version": "1.5.0",
      "_view_name": "HTMLView",
      "description": "",
      "description_tooltip": null,
      "layout": "IPY_MODEL_dcf3682c58d144d980ce6483fca8b127",
      "placeholder": "​",
      "style": "IPY_MODEL_9a33413b13b6428cbbaf9d6bfc8ad26c",
      "value": " 300/300 [00:05&lt;00:00, 59.49it/s]"
     }
    },
    "f5729fbd814a4d2bb1c2179563c22f3e": {
     "model_module": "@jupyter-widgets/base",
     "model_module_version": "1.2.0",
     "model_name": "LayoutModel",
     "state": {
      "_model_module": "@jupyter-widgets/base",
      "_model_module_version": "1.2.0",
      "_model_name": "LayoutModel",
      "_view_count": null,
      "_view_module": "@jupyter-widgets/base",
      "_view_module_version": "1.2.0",
      "_view_name": "LayoutView",
      "align_content": null,
      "align_items": null,
      "align_self": null,
      "border": null,
      "bottom": null,
      "display": null,
      "flex": null,
      "flex_flow": null,
      "grid_area": null,
      "grid_auto_columns": null,
      "grid_auto_flow": null,
      "grid_auto_rows": null,
      "grid_column": null,
      "grid_gap": null,
      "grid_row": null,
      "grid_template_areas": null,
      "grid_template_columns": null,
      "grid_template_rows": null,
      "height": null,
      "justify_content": null,
      "justify_items": null,
      "left": null,
      "margin": null,
      "max_height": null,
      "max_width": null,
      "min_height": null,
      "min_width": null,
      "object_fit": null,
      "object_position": null,
      "order": null,
      "overflow": null,
      "overflow_x": null,
      "overflow_y": null,
      "padding": null,
      "right": null,
      "top": null,
      "visibility": null,
      "width": null
     }
    },
    "f5cc81856b0b44c18db547cd77926714": {
     "model_module": "@jupyter-widgets/base",
     "model_module_version": "1.2.0",
     "model_name": "LayoutModel",
     "state": {
      "_model_module": "@jupyter-widgets/base",
      "_model_module_version": "1.2.0",
      "_model_name": "LayoutModel",
      "_view_count": null,
      "_view_module": "@jupyter-widgets/base",
      "_view_module_version": "1.2.0",
      "_view_name": "LayoutView",
      "align_content": null,
      "align_items": null,
      "align_self": null,
      "border": null,
      "bottom": null,
      "display": null,
      "flex": null,
      "flex_flow": null,
      "grid_area": null,
      "grid_auto_columns": null,
      "grid_auto_flow": null,
      "grid_auto_rows": null,
      "grid_column": null,
      "grid_gap": null,
      "grid_row": null,
      "grid_template_areas": null,
      "grid_template_columns": null,
      "grid_template_rows": null,
      "height": null,
      "justify_content": null,
      "justify_items": null,
      "left": null,
      "margin": null,
      "max_height": null,
      "max_width": null,
      "min_height": null,
      "min_width": null,
      "object_fit": null,
      "object_position": null,
      "order": null,
      "overflow": null,
      "overflow_x": null,
      "overflow_y": null,
      "padding": null,
      "right": null,
      "top": null,
      "visibility": null,
      "width": null
     }
    },
    "fa0197dff9df48df8ae65d0c1e910eb8": {
     "model_module": "@jupyter-widgets/controls",
     "model_module_version": "1.5.0",
     "model_name": "ProgressStyleModel",
     "state": {
      "_model_module": "@jupyter-widgets/controls",
      "_model_module_version": "1.5.0",
      "_model_name": "ProgressStyleModel",
      "_view_count": null,
      "_view_module": "@jupyter-widgets/base",
      "_view_module_version": "1.2.0",
      "_view_name": "StyleView",
      "bar_color": null,
      "description_width": ""
     }
    },
    "fbd447453c18453fa43196bc476be057": {
     "model_module": "@jupyter-widgets/controls",
     "model_module_version": "1.5.0",
     "model_name": "HBoxModel",
     "state": {
      "_dom_classes": [],
      "_model_module": "@jupyter-widgets/controls",
      "_model_module_version": "1.5.0",
      "_model_name": "HBoxModel",
      "_view_count": null,
      "_view_module": "@jupyter-widgets/controls",
      "_view_module_version": "1.5.0",
      "_view_name": "HBoxView",
      "box_style": "",
      "children": [
       "IPY_MODEL_4cfa4e4a23274e90b4c0140b46c2d4f8",
       "IPY_MODEL_c4160b2e294447a1b4ca30782c0b1511",
       "IPY_MODEL_91c03fbedf9b42f3a12cf091eb1e2f1d"
      ],
      "layout": "IPY_MODEL_f5729fbd814a4d2bb1c2179563c22f3e"
     }
    },
    "fcc1b976549d46b78bc1b9637ca84761": {
     "model_module": "@jupyter-widgets/base",
     "model_module_version": "1.2.0",
     "model_name": "LayoutModel",
     "state": {
      "_model_module": "@jupyter-widgets/base",
      "_model_module_version": "1.2.0",
      "_model_name": "LayoutModel",
      "_view_count": null,
      "_view_module": "@jupyter-widgets/base",
      "_view_module_version": "1.2.0",
      "_view_name": "LayoutView",
      "align_content": null,
      "align_items": null,
      "align_self": null,
      "border": null,
      "bottom": null,
      "display": null,
      "flex": null,
      "flex_flow": null,
      "grid_area": null,
      "grid_auto_columns": null,
      "grid_auto_flow": null,
      "grid_auto_rows": null,
      "grid_column": null,
      "grid_gap": null,
      "grid_row": null,
      "grid_template_areas": null,
      "grid_template_columns": null,
      "grid_template_rows": null,
      "height": null,
      "justify_content": null,
      "justify_items": null,
      "left": null,
      "margin": null,
      "max_height": null,
      "max_width": null,
      "min_height": null,
      "min_width": null,
      "object_fit": null,
      "object_position": null,
      "order": null,
      "overflow": null,
      "overflow_x": null,
      "overflow_y": null,
      "padding": null,
      "right": null,
      "top": null,
      "visibility": null,
      "width": null
     }
    }
   }
  }
 },
 "nbformat": 4,
 "nbformat_minor": 1
}
